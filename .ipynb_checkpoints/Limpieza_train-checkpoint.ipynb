{
 "cells": [
  {
   "cell_type": "code",
   "execution_count": 5,
   "id": "bba67ecd",
   "metadata": {},
   "outputs": [],
   "source": [
    "import pandas as pd\n",
    "import numpy as np"
   ]
  },
  {
   "cell_type": "code",
   "execution_count": 6,
   "id": "edc9ba50",
   "metadata": {},
   "outputs": [],
   "source": [
    "orde = pd.read_csv('../Proyecto_Kaggle/data/train.csv')"
   ]
  },
  {
   "cell_type": "code",
   "execution_count": 3,
   "id": "84ccae17",
   "metadata": {},
   "outputs": [
    {
     "data": {
      "text/html": [
       "<div>\n",
       "<style scoped>\n",
       "    .dataframe tbody tr th:only-of-type {\n",
       "        vertical-align: middle;\n",
       "    }\n",
       "\n",
       "    .dataframe tbody tr th {\n",
       "        vertical-align: top;\n",
       "    }\n",
       "\n",
       "    .dataframe thead th {\n",
       "        text-align: right;\n",
       "    }\n",
       "</style>\n",
       "<table border=\"1\" class=\"dataframe\">\n",
       "  <thead>\n",
       "    <tr style=\"text-align: right;\">\n",
       "      <th></th>\n",
       "      <th>Manufacturer</th>\n",
       "      <th>Model Name</th>\n",
       "      <th>Category</th>\n",
       "      <th>Screen Size</th>\n",
       "      <th>Screen</th>\n",
       "      <th>CPU</th>\n",
       "      <th>RAM</th>\n",
       "      <th>Storage</th>\n",
       "      <th>GPU</th>\n",
       "      <th>Operating System</th>\n",
       "      <th>Operating System Version</th>\n",
       "      <th>Weight</th>\n",
       "      <th>Price</th>\n",
       "    </tr>\n",
       "  </thead>\n",
       "  <tbody>\n",
       "    <tr>\n",
       "      <th>0</th>\n",
       "      <td>Apple</td>\n",
       "      <td>MacBook Pro</td>\n",
       "      <td>Ultrabook</td>\n",
       "      <td>13.3\"</td>\n",
       "      <td>IPS Panel Retina Display 2560x1600</td>\n",
       "      <td>Intel Core i5 2.3GHz</td>\n",
       "      <td>8GB</td>\n",
       "      <td>128GB SSD</td>\n",
       "      <td>Intel Iris Plus Graphics 640</td>\n",
       "      <td>macOS</td>\n",
       "      <td>NaN</td>\n",
       "      <td>1.37kg</td>\n",
       "      <td>11912523.48</td>\n",
       "    </tr>\n",
       "    <tr>\n",
       "      <th>1</th>\n",
       "      <td>Apple</td>\n",
       "      <td>Macbook Air</td>\n",
       "      <td>Ultrabook</td>\n",
       "      <td>13.3\"</td>\n",
       "      <td>1440x900</td>\n",
       "      <td>Intel Core i5 1.8GHz</td>\n",
       "      <td>8GB</td>\n",
       "      <td>128GB Flash Storage</td>\n",
       "      <td>Intel HD Graphics 6000</td>\n",
       "      <td>macOS</td>\n",
       "      <td>NaN</td>\n",
       "      <td>1.34kg</td>\n",
       "      <td>7993374.48</td>\n",
       "    </tr>\n",
       "    <tr>\n",
       "      <th>2</th>\n",
       "      <td>HP</td>\n",
       "      <td>250 G6</td>\n",
       "      <td>Notebook</td>\n",
       "      <td>15.6\"</td>\n",
       "      <td>Full HD 1920x1080</td>\n",
       "      <td>Intel Core i5 7200U 2.5GHz</td>\n",
       "      <td>8GB</td>\n",
       "      <td>256GB SSD</td>\n",
       "      <td>Intel HD Graphics 620</td>\n",
       "      <td>No OS</td>\n",
       "      <td>NaN</td>\n",
       "      <td>1.86kg</td>\n",
       "      <td>5112900.00</td>\n",
       "    </tr>\n",
       "    <tr>\n",
       "      <th>3</th>\n",
       "      <td>Apple</td>\n",
       "      <td>MacBook Pro</td>\n",
       "      <td>Ultrabook</td>\n",
       "      <td>15.4\"</td>\n",
       "      <td>IPS Panel Retina Display 2880x1800</td>\n",
       "      <td>Intel Core i7 2.7GHz</td>\n",
       "      <td>16GB</td>\n",
       "      <td>512GB SSD</td>\n",
       "      <td>AMD Radeon Pro 455</td>\n",
       "      <td>macOS</td>\n",
       "      <td>NaN</td>\n",
       "      <td>1.83kg</td>\n",
       "      <td>22563005.40</td>\n",
       "    </tr>\n",
       "    <tr>\n",
       "      <th>4</th>\n",
       "      <td>Apple</td>\n",
       "      <td>MacBook Pro</td>\n",
       "      <td>Ultrabook</td>\n",
       "      <td>13.3\"</td>\n",
       "      <td>IPS Panel Retina Display 2560x1600</td>\n",
       "      <td>Intel Core i5 3.1GHz</td>\n",
       "      <td>8GB</td>\n",
       "      <td>256GB SSD</td>\n",
       "      <td>Intel Iris Plus Graphics 650</td>\n",
       "      <td>macOS</td>\n",
       "      <td>NaN</td>\n",
       "      <td>1.37kg</td>\n",
       "      <td>16037611.20</td>\n",
       "    </tr>\n",
       "  </tbody>\n",
       "</table>\n",
       "</div>"
      ],
      "text/plain": [
       "  Manufacturer   Model Name   Category Screen Size   \n",
       "0        Apple  MacBook Pro  Ultrabook       13.3\"  \\\n",
       "1        Apple  Macbook Air  Ultrabook       13.3\"   \n",
       "2           HP       250 G6   Notebook       15.6\"   \n",
       "3        Apple  MacBook Pro  Ultrabook       15.4\"   \n",
       "4        Apple  MacBook Pro  Ultrabook       13.3\"   \n",
       "\n",
       "                               Screen                         CPU   RAM   \n",
       "0  IPS Panel Retina Display 2560x1600        Intel Core i5 2.3GHz   8GB  \\\n",
       "1                            1440x900        Intel Core i5 1.8GHz   8GB   \n",
       "2                   Full HD 1920x1080  Intel Core i5 7200U 2.5GHz   8GB   \n",
       "3  IPS Panel Retina Display 2880x1800        Intel Core i7 2.7GHz  16GB   \n",
       "4  IPS Panel Retina Display 2560x1600        Intel Core i5 3.1GHz   8GB   \n",
       "\n",
       "               Storage                           GPU Operating System   \n",
       "0            128GB SSD  Intel Iris Plus Graphics 640            macOS  \\\n",
       "1  128GB Flash Storage        Intel HD Graphics 6000            macOS   \n",
       "2            256GB SSD         Intel HD Graphics 620            No OS   \n",
       "3            512GB SSD            AMD Radeon Pro 455            macOS   \n",
       "4            256GB SSD  Intel Iris Plus Graphics 650            macOS   \n",
       "\n",
       "  Operating System Version  Weight        Price  \n",
       "0                      NaN  1.37kg  11912523.48  \n",
       "1                      NaN  1.34kg   7993374.48  \n",
       "2                      NaN  1.86kg   5112900.00  \n",
       "3                      NaN  1.83kg  22563005.40  \n",
       "4                      NaN  1.37kg  16037611.20  "
      ]
     },
     "execution_count": 3,
     "metadata": {},
     "output_type": "execute_result"
    }
   ],
   "source": [
    "orde.head()"
   ]
  },
  {
   "cell_type": "code",
   "execution_count": 4,
   "id": "dd5889cf",
   "metadata": {},
   "outputs": [
    {
     "name": "stdout",
     "output_type": "stream",
     "text": [
      "<class 'pandas.core.frame.DataFrame'>\n",
      "RangeIndex: 977 entries, 0 to 976\n",
      "Data columns (total 13 columns):\n",
      " #   Column                    Non-Null Count  Dtype  \n",
      "---  ------                    --------------  -----  \n",
      " 0   Manufacturer              977 non-null    object \n",
      " 1   Model Name                977 non-null    object \n",
      " 2   Category                  977 non-null    object \n",
      " 3   Screen Size               977 non-null    object \n",
      " 4   Screen                    977 non-null    object \n",
      " 5   CPU                       977 non-null    object \n",
      " 6   RAM                       977 non-null    object \n",
      " 7    Storage                  977 non-null    object \n",
      " 8   GPU                       977 non-null    object \n",
      " 9   Operating System          977 non-null    object \n",
      " 10  Operating System Version  841 non-null    object \n",
      " 11  Weight                    977 non-null    object \n",
      " 12  Price                     977 non-null    float64\n",
      "dtypes: float64(1), object(12)\n",
      "memory usage: 99.4+ KB\n"
     ]
    }
   ],
   "source": [
    "orde.info()"
   ]
  },
  {
   "cell_type": "markdown",
   "id": "141bdbc6",
   "metadata": {},
   "source": [
    "Elimino las filas que considero que no son relevantes o que tienen nulos (y no son relevantes según mi criterio)"
   ]
  },
  {
   "cell_type": "code",
   "execution_count": 5,
   "id": "77df4a6e",
   "metadata": {},
   "outputs": [],
   "source": [
    "pc = orde.drop(['Model Name', 'Screen', 'Operating System', 'Operating System Version'], axis=1)"
   ]
  },
  {
   "cell_type": "code",
   "execution_count": 6,
   "id": "1ea52c42",
   "metadata": {},
   "outputs": [
    {
     "data": {
      "text/html": [
       "<div>\n",
       "<style scoped>\n",
       "    .dataframe tbody tr th:only-of-type {\n",
       "        vertical-align: middle;\n",
       "    }\n",
       "\n",
       "    .dataframe tbody tr th {\n",
       "        vertical-align: top;\n",
       "    }\n",
       "\n",
       "    .dataframe thead th {\n",
       "        text-align: right;\n",
       "    }\n",
       "</style>\n",
       "<table border=\"1\" class=\"dataframe\">\n",
       "  <thead>\n",
       "    <tr style=\"text-align: right;\">\n",
       "      <th></th>\n",
       "      <th>Manufacturer</th>\n",
       "      <th>Category</th>\n",
       "      <th>Screen Size</th>\n",
       "      <th>CPU</th>\n",
       "      <th>RAM</th>\n",
       "      <th>Storage</th>\n",
       "      <th>GPU</th>\n",
       "      <th>Weight</th>\n",
       "      <th>Price</th>\n",
       "    </tr>\n",
       "  </thead>\n",
       "  <tbody>\n",
       "    <tr>\n",
       "      <th>0</th>\n",
       "      <td>Apple</td>\n",
       "      <td>Ultrabook</td>\n",
       "      <td>13.3\"</td>\n",
       "      <td>Intel Core i5 2.3GHz</td>\n",
       "      <td>8GB</td>\n",
       "      <td>128GB SSD</td>\n",
       "      <td>Intel Iris Plus Graphics 640</td>\n",
       "      <td>1.37kg</td>\n",
       "      <td>11912523.48</td>\n",
       "    </tr>\n",
       "    <tr>\n",
       "      <th>1</th>\n",
       "      <td>Apple</td>\n",
       "      <td>Ultrabook</td>\n",
       "      <td>13.3\"</td>\n",
       "      <td>Intel Core i5 1.8GHz</td>\n",
       "      <td>8GB</td>\n",
       "      <td>128GB Flash Storage</td>\n",
       "      <td>Intel HD Graphics 6000</td>\n",
       "      <td>1.34kg</td>\n",
       "      <td>7993374.48</td>\n",
       "    </tr>\n",
       "    <tr>\n",
       "      <th>2</th>\n",
       "      <td>HP</td>\n",
       "      <td>Notebook</td>\n",
       "      <td>15.6\"</td>\n",
       "      <td>Intel Core i5 7200U 2.5GHz</td>\n",
       "      <td>8GB</td>\n",
       "      <td>256GB SSD</td>\n",
       "      <td>Intel HD Graphics 620</td>\n",
       "      <td>1.86kg</td>\n",
       "      <td>5112900.00</td>\n",
       "    </tr>\n",
       "    <tr>\n",
       "      <th>3</th>\n",
       "      <td>Apple</td>\n",
       "      <td>Ultrabook</td>\n",
       "      <td>15.4\"</td>\n",
       "      <td>Intel Core i7 2.7GHz</td>\n",
       "      <td>16GB</td>\n",
       "      <td>512GB SSD</td>\n",
       "      <td>AMD Radeon Pro 455</td>\n",
       "      <td>1.83kg</td>\n",
       "      <td>22563005.40</td>\n",
       "    </tr>\n",
       "    <tr>\n",
       "      <th>4</th>\n",
       "      <td>Apple</td>\n",
       "      <td>Ultrabook</td>\n",
       "      <td>13.3\"</td>\n",
       "      <td>Intel Core i5 3.1GHz</td>\n",
       "      <td>8GB</td>\n",
       "      <td>256GB SSD</td>\n",
       "      <td>Intel Iris Plus Graphics 650</td>\n",
       "      <td>1.37kg</td>\n",
       "      <td>16037611.20</td>\n",
       "    </tr>\n",
       "  </tbody>\n",
       "</table>\n",
       "</div>"
      ],
      "text/plain": [
       "  Manufacturer   Category Screen Size                         CPU   RAM   \n",
       "0        Apple  Ultrabook       13.3\"        Intel Core i5 2.3GHz   8GB  \\\n",
       "1        Apple  Ultrabook       13.3\"        Intel Core i5 1.8GHz   8GB   \n",
       "2           HP   Notebook       15.6\"  Intel Core i5 7200U 2.5GHz   8GB   \n",
       "3        Apple  Ultrabook       15.4\"        Intel Core i7 2.7GHz  16GB   \n",
       "4        Apple  Ultrabook       13.3\"        Intel Core i5 3.1GHz   8GB   \n",
       "\n",
       "               Storage                           GPU  Weight        Price  \n",
       "0            128GB SSD  Intel Iris Plus Graphics 640  1.37kg  11912523.48  \n",
       "1  128GB Flash Storage        Intel HD Graphics 6000  1.34kg   7993374.48  \n",
       "2            256GB SSD         Intel HD Graphics 620  1.86kg   5112900.00  \n",
       "3            512GB SSD            AMD Radeon Pro 455  1.83kg  22563005.40  \n",
       "4            256GB SSD  Intel Iris Plus Graphics 650  1.37kg  16037611.20  "
      ]
     },
     "execution_count": 6,
     "metadata": {},
     "output_type": "execute_result"
    }
   ],
   "source": [
    "pc.head()"
   ]
  },
  {
   "cell_type": "code",
   "execution_count": 7,
   "id": "7b95af34",
   "metadata": {},
   "outputs": [
    {
     "data": {
      "text/plain": [
       "array(['Apple', 'HP', 'Acer', 'Asus', 'Dell', 'Lenovo', 'Chuwi', 'MSI',\n",
       "       'Microsoft', 'Toshiba', 'Huawei', 'Xiaomi', 'Vero', 'Razer',\n",
       "       'Mediacom', 'Samsung', 'Google', 'Fujitsu', 'LG'], dtype=object)"
      ]
     },
     "execution_count": 7,
     "metadata": {},
     "output_type": "execute_result"
    }
   ],
   "source": [
    "pc.Manufacturer.unique()"
   ]
  },
  {
   "cell_type": "code",
   "execution_count": 8,
   "id": "f518e272",
   "metadata": {},
   "outputs": [],
   "source": [
    "marcas = {'Apple': 5, 'MSI': 4, 'Samsung': 3, 'HP': 2, 'Acer': 2, 'Asus': 2, 'Dell': 2, 'Lenovo': 2, \n",
    "          'Chuwi': 0, 'Microsoft': 2, 'Toshiba': 2, 'Huawei': 1, 'Xiaomi': 1, 'Vero': 0, 'Razer': 1,\n",
    "         'Mediacom': 0, 'Google': 2, 'Fujitsu': 2, 'LG': 2}"
   ]
  },
  {
   "cell_type": "code",
   "execution_count": 9,
   "id": "8f8ff841",
   "metadata": {},
   "outputs": [],
   "source": [
    "pc['Manufacturer'] = pc['Manufacturer'].map(marcas)"
   ]
  },
  {
   "cell_type": "code",
   "execution_count": 10,
   "id": "9fc6a9bb",
   "metadata": {},
   "outputs": [
    {
     "data": {
      "text/html": [
       "<div>\n",
       "<style scoped>\n",
       "    .dataframe tbody tr th:only-of-type {\n",
       "        vertical-align: middle;\n",
       "    }\n",
       "\n",
       "    .dataframe tbody tr th {\n",
       "        vertical-align: top;\n",
       "    }\n",
       "\n",
       "    .dataframe thead th {\n",
       "        text-align: right;\n",
       "    }\n",
       "</style>\n",
       "<table border=\"1\" class=\"dataframe\">\n",
       "  <thead>\n",
       "    <tr style=\"text-align: right;\">\n",
       "      <th></th>\n",
       "      <th>Manufacturer</th>\n",
       "      <th>Category</th>\n",
       "      <th>Screen Size</th>\n",
       "      <th>CPU</th>\n",
       "      <th>RAM</th>\n",
       "      <th>Storage</th>\n",
       "      <th>GPU</th>\n",
       "      <th>Weight</th>\n",
       "      <th>Price</th>\n",
       "    </tr>\n",
       "  </thead>\n",
       "  <tbody>\n",
       "    <tr>\n",
       "      <th>0</th>\n",
       "      <td>5</td>\n",
       "      <td>Ultrabook</td>\n",
       "      <td>13.3\"</td>\n",
       "      <td>Intel Core i5 2.3GHz</td>\n",
       "      <td>8GB</td>\n",
       "      <td>128GB SSD</td>\n",
       "      <td>Intel Iris Plus Graphics 640</td>\n",
       "      <td>1.37kg</td>\n",
       "      <td>11912523.48</td>\n",
       "    </tr>\n",
       "    <tr>\n",
       "      <th>1</th>\n",
       "      <td>5</td>\n",
       "      <td>Ultrabook</td>\n",
       "      <td>13.3\"</td>\n",
       "      <td>Intel Core i5 1.8GHz</td>\n",
       "      <td>8GB</td>\n",
       "      <td>128GB Flash Storage</td>\n",
       "      <td>Intel HD Graphics 6000</td>\n",
       "      <td>1.34kg</td>\n",
       "      <td>7993374.48</td>\n",
       "    </tr>\n",
       "    <tr>\n",
       "      <th>2</th>\n",
       "      <td>2</td>\n",
       "      <td>Notebook</td>\n",
       "      <td>15.6\"</td>\n",
       "      <td>Intel Core i5 7200U 2.5GHz</td>\n",
       "      <td>8GB</td>\n",
       "      <td>256GB SSD</td>\n",
       "      <td>Intel HD Graphics 620</td>\n",
       "      <td>1.86kg</td>\n",
       "      <td>5112900.00</td>\n",
       "    </tr>\n",
       "    <tr>\n",
       "      <th>3</th>\n",
       "      <td>5</td>\n",
       "      <td>Ultrabook</td>\n",
       "      <td>15.4\"</td>\n",
       "      <td>Intel Core i7 2.7GHz</td>\n",
       "      <td>16GB</td>\n",
       "      <td>512GB SSD</td>\n",
       "      <td>AMD Radeon Pro 455</td>\n",
       "      <td>1.83kg</td>\n",
       "      <td>22563005.40</td>\n",
       "    </tr>\n",
       "    <tr>\n",
       "      <th>4</th>\n",
       "      <td>5</td>\n",
       "      <td>Ultrabook</td>\n",
       "      <td>13.3\"</td>\n",
       "      <td>Intel Core i5 3.1GHz</td>\n",
       "      <td>8GB</td>\n",
       "      <td>256GB SSD</td>\n",
       "      <td>Intel Iris Plus Graphics 650</td>\n",
       "      <td>1.37kg</td>\n",
       "      <td>16037611.20</td>\n",
       "    </tr>\n",
       "  </tbody>\n",
       "</table>\n",
       "</div>"
      ],
      "text/plain": [
       "   Manufacturer   Category Screen Size                         CPU   RAM   \n",
       "0             5  Ultrabook       13.3\"        Intel Core i5 2.3GHz   8GB  \\\n",
       "1             5  Ultrabook       13.3\"        Intel Core i5 1.8GHz   8GB   \n",
       "2             2   Notebook       15.6\"  Intel Core i5 7200U 2.5GHz   8GB   \n",
       "3             5  Ultrabook       15.4\"        Intel Core i7 2.7GHz  16GB   \n",
       "4             5  Ultrabook       13.3\"        Intel Core i5 3.1GHz   8GB   \n",
       "\n",
       "               Storage                           GPU  Weight        Price  \n",
       "0            128GB SSD  Intel Iris Plus Graphics 640  1.37kg  11912523.48  \n",
       "1  128GB Flash Storage        Intel HD Graphics 6000  1.34kg   7993374.48  \n",
       "2            256GB SSD         Intel HD Graphics 620  1.86kg   5112900.00  \n",
       "3            512GB SSD            AMD Radeon Pro 455  1.83kg  22563005.40  \n",
       "4            256GB SSD  Intel Iris Plus Graphics 650  1.37kg  16037611.20  "
      ]
     },
     "execution_count": 10,
     "metadata": {},
     "output_type": "execute_result"
    }
   ],
   "source": [
    "pc.head()"
   ]
  },
  {
   "cell_type": "code",
   "execution_count": 11,
   "id": "c0491e2f",
   "metadata": {},
   "outputs": [
    {
     "data": {
      "text/plain": [
       "array(['Ultrabook', 'Notebook', 'Netbook', 'Gaming', '2 in 1 Convertible',\n",
       "       'Workstation'], dtype=object)"
      ]
     },
     "execution_count": 11,
     "metadata": {},
     "output_type": "execute_result"
    }
   ],
   "source": [
    "pc.Category.unique()"
   ]
  },
  {
   "cell_type": "code",
   "execution_count": 12,
   "id": "a2f6331a",
   "metadata": {},
   "outputs": [],
   "source": [
    "category = {'Ultrabook': 4, 'Notebook': 3, 'Netbook': 1, 'Gaming': 6, '2 in 1 Convertible': 2, 'Workstation': 5}"
   ]
  },
  {
   "cell_type": "code",
   "execution_count": 13,
   "id": "b153498f",
   "metadata": {},
   "outputs": [],
   "source": [
    "pc['Category'] = pc['Category'].map(category)"
   ]
  },
  {
   "cell_type": "code",
   "execution_count": 14,
   "id": "4ac2825e",
   "metadata": {},
   "outputs": [
    {
     "name": "stdout",
     "output_type": "stream",
     "text": [
      "<class 'pandas.core.frame.DataFrame'>\n",
      "RangeIndex: 977 entries, 0 to 976\n",
      "Data columns (total 9 columns):\n",
      " #   Column        Non-Null Count  Dtype  \n",
      "---  ------        --------------  -----  \n",
      " 0   Manufacturer  977 non-null    int64  \n",
      " 1   Category      977 non-null    int64  \n",
      " 2   Screen Size   977 non-null    object \n",
      " 3   CPU           977 non-null    object \n",
      " 4   RAM           977 non-null    object \n",
      " 5    Storage      977 non-null    object \n",
      " 6   GPU           977 non-null    object \n",
      " 7   Weight        977 non-null    object \n",
      " 8   Price         977 non-null    float64\n",
      "dtypes: float64(1), int64(2), object(6)\n",
      "memory usage: 68.8+ KB\n"
     ]
    }
   ],
   "source": [
    "pc.info()"
   ]
  },
  {
   "cell_type": "code",
   "execution_count": 15,
   "id": "736905dc",
   "metadata": {},
   "outputs": [
    {
     "data": {
      "text/html": [
       "<div>\n",
       "<style scoped>\n",
       "    .dataframe tbody tr th:only-of-type {\n",
       "        vertical-align: middle;\n",
       "    }\n",
       "\n",
       "    .dataframe tbody tr th {\n",
       "        vertical-align: top;\n",
       "    }\n",
       "\n",
       "    .dataframe thead th {\n",
       "        text-align: right;\n",
       "    }\n",
       "</style>\n",
       "<table border=\"1\" class=\"dataframe\">\n",
       "  <thead>\n",
       "    <tr style=\"text-align: right;\">\n",
       "      <th></th>\n",
       "      <th>Manufacturer</th>\n",
       "      <th>Category</th>\n",
       "      <th>Screen Size</th>\n",
       "      <th>CPU</th>\n",
       "      <th>RAM</th>\n",
       "      <th>Storage</th>\n",
       "      <th>GPU</th>\n",
       "      <th>Weight</th>\n",
       "      <th>Price</th>\n",
       "    </tr>\n",
       "  </thead>\n",
       "  <tbody>\n",
       "    <tr>\n",
       "      <th>0</th>\n",
       "      <td>5</td>\n",
       "      <td>4</td>\n",
       "      <td>13.3\"</td>\n",
       "      <td>Intel Core i5 2.3GHz</td>\n",
       "      <td>8GB</td>\n",
       "      <td>128GB SSD</td>\n",
       "      <td>Intel Iris Plus Graphics 640</td>\n",
       "      <td>1.37kg</td>\n",
       "      <td>11912523.48</td>\n",
       "    </tr>\n",
       "    <tr>\n",
       "      <th>1</th>\n",
       "      <td>5</td>\n",
       "      <td>4</td>\n",
       "      <td>13.3\"</td>\n",
       "      <td>Intel Core i5 1.8GHz</td>\n",
       "      <td>8GB</td>\n",
       "      <td>128GB Flash Storage</td>\n",
       "      <td>Intel HD Graphics 6000</td>\n",
       "      <td>1.34kg</td>\n",
       "      <td>7993374.48</td>\n",
       "    </tr>\n",
       "    <tr>\n",
       "      <th>2</th>\n",
       "      <td>2</td>\n",
       "      <td>3</td>\n",
       "      <td>15.6\"</td>\n",
       "      <td>Intel Core i5 7200U 2.5GHz</td>\n",
       "      <td>8GB</td>\n",
       "      <td>256GB SSD</td>\n",
       "      <td>Intel HD Graphics 620</td>\n",
       "      <td>1.86kg</td>\n",
       "      <td>5112900.00</td>\n",
       "    </tr>\n",
       "    <tr>\n",
       "      <th>3</th>\n",
       "      <td>5</td>\n",
       "      <td>4</td>\n",
       "      <td>15.4\"</td>\n",
       "      <td>Intel Core i7 2.7GHz</td>\n",
       "      <td>16GB</td>\n",
       "      <td>512GB SSD</td>\n",
       "      <td>AMD Radeon Pro 455</td>\n",
       "      <td>1.83kg</td>\n",
       "      <td>22563005.40</td>\n",
       "    </tr>\n",
       "    <tr>\n",
       "      <th>4</th>\n",
       "      <td>5</td>\n",
       "      <td>4</td>\n",
       "      <td>13.3\"</td>\n",
       "      <td>Intel Core i5 3.1GHz</td>\n",
       "      <td>8GB</td>\n",
       "      <td>256GB SSD</td>\n",
       "      <td>Intel Iris Plus Graphics 650</td>\n",
       "      <td>1.37kg</td>\n",
       "      <td>16037611.20</td>\n",
       "    </tr>\n",
       "  </tbody>\n",
       "</table>\n",
       "</div>"
      ],
      "text/plain": [
       "   Manufacturer  Category Screen Size                         CPU   RAM   \n",
       "0             5         4       13.3\"        Intel Core i5 2.3GHz   8GB  \\\n",
       "1             5         4       13.3\"        Intel Core i5 1.8GHz   8GB   \n",
       "2             2         3       15.6\"  Intel Core i5 7200U 2.5GHz   8GB   \n",
       "3             5         4       15.4\"        Intel Core i7 2.7GHz  16GB   \n",
       "4             5         4       13.3\"        Intel Core i5 3.1GHz   8GB   \n",
       "\n",
       "               Storage                           GPU  Weight        Price  \n",
       "0            128GB SSD  Intel Iris Plus Graphics 640  1.37kg  11912523.48  \n",
       "1  128GB Flash Storage        Intel HD Graphics 6000  1.34kg   7993374.48  \n",
       "2            256GB SSD         Intel HD Graphics 620  1.86kg   5112900.00  \n",
       "3            512GB SSD            AMD Radeon Pro 455  1.83kg  22563005.40  \n",
       "4            256GB SSD  Intel Iris Plus Graphics 650  1.37kg  16037611.20  "
      ]
     },
     "execution_count": 15,
     "metadata": {},
     "output_type": "execute_result"
    }
   ],
   "source": [
    "pc.head()"
   ]
  },
  {
   "cell_type": "code",
   "execution_count": 16,
   "id": "2129e905",
   "metadata": {},
   "outputs": [
    {
     "data": {
      "text/plain": [
       "array(['13.3\"', '15.6\"', '15.4\"', '14.0\"', '12.0\"', '11.6\"', '17.3\"',\n",
       "       '10.1\"', '13.5\"', '12.5\"', '13.0\"', '18.4\"', '13.9\"', '12.3\"',\n",
       "       '17.0\"', '15.0\"', '14.1\"', '11.3\"'], dtype=object)"
      ]
     },
     "execution_count": 16,
     "metadata": {},
     "output_type": "execute_result"
    }
   ],
   "source": [
    "pc['Screen Size'].unique()"
   ]
  },
  {
   "cell_type": "code",
   "execution_count": 17,
   "id": "ebeb3a1c",
   "metadata": {},
   "outputs": [],
   "source": [
    "pc['Screen Size'] = pc['Screen Size'].str.replace('\"', '')"
   ]
  },
  {
   "cell_type": "code",
   "execution_count": 18,
   "id": "f1177921",
   "metadata": {},
   "outputs": [
    {
     "data": {
      "text/plain": [
       "array(['13.3', '15.6', '15.4', '14.0', '12.0', '11.6', '17.3', '10.1',\n",
       "       '13.5', '12.5', '13.0', '18.4', '13.9', '12.3', '17.0', '15.0',\n",
       "       '14.1', '11.3'], dtype=object)"
      ]
     },
     "execution_count": 18,
     "metadata": {},
     "output_type": "execute_result"
    }
   ],
   "source": [
    "pc['Screen Size'].unique()"
   ]
  },
  {
   "cell_type": "code",
   "execution_count": 19,
   "id": "7823eebb",
   "metadata": {},
   "outputs": [],
   "source": [
    "pc['Screen Size'] = pc['Screen Size'].astype(float)"
   ]
  },
  {
   "cell_type": "code",
   "execution_count": 20,
   "id": "51ef430a",
   "metadata": {},
   "outputs": [
    {
     "name": "stdout",
     "output_type": "stream",
     "text": [
      "<class 'pandas.core.frame.DataFrame'>\n",
      "RangeIndex: 977 entries, 0 to 976\n",
      "Data columns (total 9 columns):\n",
      " #   Column        Non-Null Count  Dtype  \n",
      "---  ------        --------------  -----  \n",
      " 0   Manufacturer  977 non-null    int64  \n",
      " 1   Category      977 non-null    int64  \n",
      " 2   Screen Size   977 non-null    float64\n",
      " 3   CPU           977 non-null    object \n",
      " 4   RAM           977 non-null    object \n",
      " 5    Storage      977 non-null    object \n",
      " 6   GPU           977 non-null    object \n",
      " 7   Weight        977 non-null    object \n",
      " 8   Price         977 non-null    float64\n",
      "dtypes: float64(2), int64(2), object(5)\n",
      "memory usage: 68.8+ KB\n"
     ]
    }
   ],
   "source": [
    "pc.info()"
   ]
  },
  {
   "cell_type": "code",
   "execution_count": 21,
   "id": "fb706c72",
   "metadata": {},
   "outputs": [
    {
     "data": {
      "text/html": [
       "<div>\n",
       "<style scoped>\n",
       "    .dataframe tbody tr th:only-of-type {\n",
       "        vertical-align: middle;\n",
       "    }\n",
       "\n",
       "    .dataframe tbody tr th {\n",
       "        vertical-align: top;\n",
       "    }\n",
       "\n",
       "    .dataframe thead th {\n",
       "        text-align: right;\n",
       "    }\n",
       "</style>\n",
       "<table border=\"1\" class=\"dataframe\">\n",
       "  <thead>\n",
       "    <tr style=\"text-align: right;\">\n",
       "      <th></th>\n",
       "      <th>Manufacturer</th>\n",
       "      <th>Category</th>\n",
       "      <th>Screen Size</th>\n",
       "      <th>CPU</th>\n",
       "      <th>RAM</th>\n",
       "      <th>Storage</th>\n",
       "      <th>GPU</th>\n",
       "      <th>Weight</th>\n",
       "      <th>Price</th>\n",
       "    </tr>\n",
       "  </thead>\n",
       "  <tbody>\n",
       "    <tr>\n",
       "      <th>0</th>\n",
       "      <td>5</td>\n",
       "      <td>4</td>\n",
       "      <td>13.3</td>\n",
       "      <td>Intel Core i5 2.3GHz</td>\n",
       "      <td>8GB</td>\n",
       "      <td>128GB SSD</td>\n",
       "      <td>Intel Iris Plus Graphics 640</td>\n",
       "      <td>1.37kg</td>\n",
       "      <td>11912523.48</td>\n",
       "    </tr>\n",
       "    <tr>\n",
       "      <th>1</th>\n",
       "      <td>5</td>\n",
       "      <td>4</td>\n",
       "      <td>13.3</td>\n",
       "      <td>Intel Core i5 1.8GHz</td>\n",
       "      <td>8GB</td>\n",
       "      <td>128GB Flash Storage</td>\n",
       "      <td>Intel HD Graphics 6000</td>\n",
       "      <td>1.34kg</td>\n",
       "      <td>7993374.48</td>\n",
       "    </tr>\n",
       "    <tr>\n",
       "      <th>2</th>\n",
       "      <td>2</td>\n",
       "      <td>3</td>\n",
       "      <td>15.6</td>\n",
       "      <td>Intel Core i5 7200U 2.5GHz</td>\n",
       "      <td>8GB</td>\n",
       "      <td>256GB SSD</td>\n",
       "      <td>Intel HD Graphics 620</td>\n",
       "      <td>1.86kg</td>\n",
       "      <td>5112900.00</td>\n",
       "    </tr>\n",
       "    <tr>\n",
       "      <th>3</th>\n",
       "      <td>5</td>\n",
       "      <td>4</td>\n",
       "      <td>15.4</td>\n",
       "      <td>Intel Core i7 2.7GHz</td>\n",
       "      <td>16GB</td>\n",
       "      <td>512GB SSD</td>\n",
       "      <td>AMD Radeon Pro 455</td>\n",
       "      <td>1.83kg</td>\n",
       "      <td>22563005.40</td>\n",
       "    </tr>\n",
       "    <tr>\n",
       "      <th>4</th>\n",
       "      <td>5</td>\n",
       "      <td>4</td>\n",
       "      <td>13.3</td>\n",
       "      <td>Intel Core i5 3.1GHz</td>\n",
       "      <td>8GB</td>\n",
       "      <td>256GB SSD</td>\n",
       "      <td>Intel Iris Plus Graphics 650</td>\n",
       "      <td>1.37kg</td>\n",
       "      <td>16037611.20</td>\n",
       "    </tr>\n",
       "  </tbody>\n",
       "</table>\n",
       "</div>"
      ],
      "text/plain": [
       "   Manufacturer  Category  Screen Size                         CPU   RAM   \n",
       "0             5         4         13.3        Intel Core i5 2.3GHz   8GB  \\\n",
       "1             5         4         13.3        Intel Core i5 1.8GHz   8GB   \n",
       "2             2         3         15.6  Intel Core i5 7200U 2.5GHz   8GB   \n",
       "3             5         4         15.4        Intel Core i7 2.7GHz  16GB   \n",
       "4             5         4         13.3        Intel Core i5 3.1GHz   8GB   \n",
       "\n",
       "               Storage                           GPU  Weight        Price  \n",
       "0            128GB SSD  Intel Iris Plus Graphics 640  1.37kg  11912523.48  \n",
       "1  128GB Flash Storage        Intel HD Graphics 6000  1.34kg   7993374.48  \n",
       "2            256GB SSD         Intel HD Graphics 620  1.86kg   5112900.00  \n",
       "3            512GB SSD            AMD Radeon Pro 455  1.83kg  22563005.40  \n",
       "4            256GB SSD  Intel Iris Plus Graphics 650  1.37kg  16037611.20  "
      ]
     },
     "execution_count": 21,
     "metadata": {},
     "output_type": "execute_result"
    }
   ],
   "source": [
    "pc.head()"
   ]
  },
  {
   "cell_type": "code",
   "execution_count": 22,
   "id": "5c36bc6b",
   "metadata": {},
   "outputs": [
    {
     "data": {
      "text/plain": [
       "array(['Intel Core i5 2.3GHz', 'Intel Core i5 1.8GHz',\n",
       "       'Intel Core i5 7200U 2.5GHz', 'Intel Core i7 2.7GHz',\n",
       "       'Intel Core i5 3.1GHz', 'AMD A9-Series 9420 3GHz',\n",
       "       'Intel Core i7 2.2GHz', 'Intel Core i7 8550U 1.8GHz',\n",
       "       'Intel Core i5 8250U 1.6GHz', 'Intel Core i3 6006U 2GHz',\n",
       "       'Intel Core i7 2.8GHz', 'Intel Core M m3 1.2GHz',\n",
       "       'Intel Core i7 7500U 2.7GHz', 'Intel Core i7 2.9GHz',\n",
       "       'Intel Core i3 7100U 2.4GHz', 'Intel Atom x5-Z8350 1.44GHz',\n",
       "       'Intel Core i5 7300HQ 2.5GHz', 'AMD E-Series E2-9000e 1.5GHz',\n",
       "       'Intel Core i5 1.6GHz', 'Intel Core i7 8650U 1.9GHz',\n",
       "       'Intel Atom x5-Z8300 1.44GHz', 'AMD E-Series E2-6110 1.5GHz',\n",
       "       'AMD A6-Series 9220 2.5GHz',\n",
       "       'Intel Celeron Dual Core N3350 1.1GHz',\n",
       "       'Intel Core i3 7130U 2.7GHz', 'Intel Core i7 7700HQ 2.8GHz',\n",
       "       'Intel Core i5 2.0GHz', 'AMD Ryzen 1700 3GHz',\n",
       "       'Intel Pentium Quad Core N4200 1.1GHz',\n",
       "       'Intel Atom x5-Z8550 1.44GHz',\n",
       "       'Intel Celeron Dual Core N3060 1.6GHz', 'Intel Core i5 1.3GHz',\n",
       "       'AMD FX 9830P 3GHz', 'Intel Core i7 7560U 2.4GHz',\n",
       "       'AMD E-Series 6110 1.5GHz', 'Intel Core i5 6200U 2.3GHz',\n",
       "       'Intel Core M 6Y75 1.2GHz', 'Intel Core i5 7500U 2.7GHz',\n",
       "       'Intel Core i3 6006U 2.2GHz', 'AMD A6-Series 9220 2.9GHz',\n",
       "       'Intel Core i7 6920HQ 2.9GHz', 'Intel Core i5 7Y54 1.2GHz',\n",
       "       'Intel Core i7 7820HK 2.9GHz', 'Intel Xeon E3-1505M V6 3GHz',\n",
       "       'Intel Core i7 6500U 2.5GHz', 'AMD E-Series 9000e 1.5GHz',\n",
       "       'AMD A10-Series A10-9620P 2.5GHz', 'AMD A6-Series A6-9220 2.5GHz',\n",
       "       'Intel Core i5 2.9GHz', 'Intel Core i7 6600U 2.6GHz',\n",
       "       'Intel Core i3 6006U 2.0GHz',\n",
       "       'Intel Celeron Dual Core 3205U 1.5GHz',\n",
       "       'Intel Core i7 7820HQ 2.9GHz', 'AMD A10-Series 9600P 2.4GHz',\n",
       "       'Intel Core i7 7600U 2.8GHz', 'AMD A8-Series 7410 2.2GHz',\n",
       "       'Intel Celeron Dual Core 3855U 1.6GHz',\n",
       "       'Intel Pentium Quad Core N3710 1.6GHz',\n",
       "       'AMD A12-Series 9720P 2.7GHz', 'Intel Core i5 7300U 2.6GHz',\n",
       "       'AMD A12-Series 9720P 3.6GHz',\n",
       "       'Intel Celeron Quad Core N3450 1.1GHz',\n",
       "       'Intel Celeron Dual Core N3060 1.60GHz',\n",
       "       'Intel Core i5 6440HQ 2.6GHz', 'Intel Core i7 6820HQ 2.7GHz',\n",
       "       'AMD Ryzen 1600 3.2GHz', 'Intel Core i7 7Y75 1.3GHz',\n",
       "       'Intel Core i5 7440HQ 2.8GHz', 'Intel Core i7 7660U 2.5GHz',\n",
       "       'Intel Core i7 7700HQ 2.7GHz', 'Intel Core M m3-7Y30 2.2GHz',\n",
       "       'Intel Core i5 7Y57 1.2GHz', 'Intel Core i7 6700HQ 2.6GHz',\n",
       "       'Intel Core i3 6100U 2.3GHz', 'AMD A10-Series 9620P 2.5GHz',\n",
       "       'AMD E-Series 7110 1.8GHz', 'Intel Celeron Dual Core N3350 2.0GHz',\n",
       "       'AMD A9-Series A9-9420 3GHz', 'Intel Core i7 6820HK 2.7GHz',\n",
       "       'Intel Core M 7Y30 1.0GHz', 'Intel Xeon E3-1535M v6 3.1GHz',\n",
       "       'Intel Celeron Quad Core N3160 1.6GHz',\n",
       "       'Intel Core i5 6300U 2.4GHz', 'Intel Core i3 6100U 2.1GHz',\n",
       "       'AMD E-Series E2-9000 2.2GHz',\n",
       "       'Intel Celeron Dual Core N3050 1.6GHz',\n",
       "       'Intel Core M M3-6Y30 0.9GHz', 'AMD A9-Series 9420 2.9GHz',\n",
       "       'Intel Core i5 6300HQ 2.3GHz', 'AMD A6-Series 7310 2GHz',\n",
       "       'Intel Atom Z8350 1.92GHz', 'Intel Xeon E3-1535M v5 2.9GHz',\n",
       "       'Intel Core i5 6260U 1.8GHz',\n",
       "       'Intel Pentium Dual Core N4200 1.1GHz',\n",
       "       'Intel Celeron Quad Core N3710 1.6GHz', 'Intel Core M 1.2GHz',\n",
       "       'AMD A12-Series 9700P 2.5GHz', 'Intel Core i7 7500U 2.5GHz',\n",
       "       'Intel Pentium Dual Core 4405U 2.1GHz',\n",
       "       'AMD A4-Series 7210 2.2GHz', 'Intel Core i7 6560U 2.2GHz',\n",
       "       'Intel Core M m7-6Y75 1.2GHz', 'AMD FX 8800P 2.1GHz',\n",
       "       'Intel Core M M7-6Y75 1.2GHz', 'Intel Core i5 7200U 2.50GHz',\n",
       "       'Intel Core i5 7200U 2.70GHz'], dtype=object)"
      ]
     },
     "execution_count": 22,
     "metadata": {},
     "output_type": "execute_result"
    }
   ],
   "source": [
    "pc['CPU'].unique()"
   ]
  },
  {
   "cell_type": "code",
   "execution_count": 23,
   "id": "6d5756af",
   "metadata": {},
   "outputs": [],
   "source": [
    "cpu_range = {\n",
    "    'Intel Core i5 2.3GHz': 6,\n",
    "    'Intel Core i5 1.8GHz': 5,\n",
    "    'Intel Core i5 7200U 2.5GHz': 6,\n",
    "    'Intel Core i7 2.7GHz': 8,\n",
    "    'Intel Core i5 3.1GHz': 7,\n",
    "    'AMD A9-Series 9420 3GHz': 4,\n",
    "    'Intel Core i7 2.2GHz': 7,\n",
    "    'Intel Core i7 8550U 1.8GHz': 9,\n",
    "    'Intel Core i5 8250U 1.6GHz': 8,\n",
    "    'Intel Core i3 6006U 2GHz': 5,\n",
    "    'Intel Core i7 2.8GHz': 8,\n",
    "    'Intel Core M m3 1.2GHz': 4,\n",
    "    'Intel Core i7 7500U 2.7GHz': 7,\n",
    "    'Intel Core i7 2.9GHz': 8,\n",
    "    'Intel Core i3 7100U 2.4GHz': 6,\n",
    "    'Intel Atom x5-Z8350 1.44GHz': 3,\n",
    "    'Intel Core i5 7300HQ 2.5GHz': 7,\n",
    "    'AMD E-Series E2-9000e 1.5GHz': 3,\n",
    "    'Intel Core i5 1.6GHz': 6,\n",
    "    'Intel Core i7 8650U 1.9GHz': 9,\n",
    "    'Intel Atom x5-Z8300 1.44GHz': 3,\n",
    "    'AMD E-Series E2-6110 1.5GHz': 3,\n",
    "    'AMD A6-Series 9220 2.5GHz': 4,\n",
    "    'Intel Celeron Dual Core N3350 1.1GHz': 1,\n",
    "    'Intel Core i3 7130U 2.7GHz': 6,\n",
    "    'Intel Core i7 7700HQ 2.8GHz': 8,\n",
    "    'Intel Core i5 2.0GHz': 6,\n",
    "    'AMD Ryzen 1700 3GHz': 7,\n",
    "    'Intel Pentium Quad Core N4200 1.1GHz': 4,\n",
    "    'Intel Atom x5-Z8550 1.44GHz': 3,\n",
    "    'Intel Celeron Dual Core N3060 1.6GHz': 2,\n",
    "    'Intel Core i5 1.3GHz': 5,\n",
    "    'AMD FX 9830P 3GHz': 7,\n",
    "    'Intel Core i7 7560U 2.4GHz': 7,\n",
    "    'AMD E-Series 6110 1.5GHz': 3,\n",
    "    'Intel Core i5 6200U 2.3GHz': 6,\n",
    "    'Intel Core M 6Y75 1.2GHz': 4,\n",
    "    'Intel Core i5 7500U 2.7GHz': 7,\n",
    "    'Intel Core i3 6006U 2.2GHz': 5,\n",
    "    'AMD A6-Series 9220 2.9GHz': 4,\n",
    "    'Intel Core i7 6920HQ 2.9GHz': 9,\n",
    "    'Intel Core i5 7Y54 1.2GHz': 6,\n",
    "    'Intel Core i7 7820HK 2.9GHz': 9,\n",
    "    'Intel Xeon E3-1505M V6 3GHz': 10,\n",
    "    'Intel Core i7 6500U 2.5GHz': 8,\n",
    "    'AMD E-Series 9000e 1.5GHz': 4,\n",
    "    'AMD A10-Series A10-9620P 2.5GHz': 7,\n",
    "    'AMD A6-Series A6-9220 2.5GHz': 6,\n",
    "    'Intel Core i5 2.9GHz': 8,\n",
    "    'Intel Core i7 6600U 2.6GHz': 8,\n",
    "    'Intel Core i3 6006U 2.0GHz': 5,\n",
    "    'Intel Celeron Dual Core 3205U 1.5GHz': 4,\n",
    "    'Intel Core i7 7820HQ 2.9GHz': 9,\n",
    "    'AMD A10-Series 9600P 2.4GHz': 7,\n",
    "    'Intel Core i7 7600U 2.8GHz': 8,\n",
    "    'AMD A8-Series 7410 2.2GHz': 6,\n",
    "    'Intel Celeron Dual Core 3855U 1.6GHz': 4,\n",
    "    'Intel Pentium Quad Core N3710 1.6GHz': 5,\n",
    "    'AMD A12-Series 9720P 2.7GHz': 7,\n",
    "    'Intel Core i5 7300U 2.6GHz': 8,\n",
    "    'AMD A12-Series 9720P 3.6GHz': 9,\n",
    "    'Intel Celeron Quad Core N3450 1.1GHz': 5,\n",
    "    'Intel Celeron Dual Core N3060 1.60GHz': 4,\n",
    "    'Intel Core i5 6440HQ 2.6GHz': 7,\n",
    "    'Intel Core i7 6820HQ 2.7GHz': 8,\n",
    "    'AMD Ryzen 1600 3.2GHz': 9,\n",
    "    'Intel Core i7 7Y75 1.3GHz': 6,\n",
    "    'Intel Core i5 7440HQ 2.8GHz': 7,\n",
    "    'Intel Core i7 7660U 2.5GHz': 8,\n",
    "    'Intel Core i7 7700HQ 2.7GHz': 8,\n",
    "    'Intel Core M m3-7Y30 2.2GHz': 5,\n",
    "    'Intel Core i5 7Y57 1.2GHz': 6,\n",
    "    'Intel Core i7 6700HQ 2.6GHz': 8,\n",
    "    'Intel Core i3 6100U 2.3GHz': 5,\n",
    "    'AMD A10-Series 9620P 2.5GHz': 7,\n",
    "    'AMD E-Series 7110 1.8GHz': 4,\n",
    "    'Intel Celeron Dual Core N3350 2.0GHz': 4,\n",
    "    'AMD A9-Series A9-9420 3GHz': 6,\n",
    "    'Intel Core i7 6820HK 2.7GHz': 8,\n",
    "    'Intel Core M 7Y30 1.0GHz': 4,\n",
    "    'Intel Xeon E3-1535M v6 3.1GHz': 9,\n",
    "    'Intel Celeron Quad Core N3160 1.6GHz': 4,\n",
    "    'Intel Core i5 6300U 2.4GHz': 7,\n",
    "    'Intel Core i3 6100U 2.1GHz': 5,\n",
    "    'AMD E-Series E2-9000 2.2GHz': 5,\n",
    "    'Intel Celeron Dual Core N3050 1.6GHz': 4,\n",
    "    'Intel Core M M3-6Y30 0.9GHz': 3,\n",
    "    'AMD A9-Series 9420 2.9GHz': 6,\n",
    "    'Intel Core i5 6300HQ 2.3GHz': 7,\n",
    "    'AMD A6-Series 7310 2GHz': 5,\n",
    "    'Intel Atom Z8350 1.92GHz': 3,\n",
    "    'Intel Xeon E3-1535M v5 2.9GHz': 8,\n",
    "    'Intel Core i5 6260U 1.8GHz': 6,\n",
    "    'Intel Pentium Dual Core N4200 1.1GHz': 4,\n",
    "    'Intel Celeron Quad Core N3710 1.6GHz': 4,\n",
    "    'Intel Core M 1.2GHz': 2,\n",
    "    'AMD A12-Series 9700P 2.5GHz': 7,\n",
    "    'Intel Core i7 7500U 2.5GHz': 8,\n",
    "    'Intel Pentium Dual Core 4405U 2.1GHz': 5,\n",
    "    'AMD A4-Series 7210 2.2GHz': 5,\n",
    "    'Intel Core i7 6560U 2.2GHz': 7,\n",
    "    'Intel Core M m7-6Y75 1.2GHz': 6,\n",
    "    'AMD FX 8800P 2.1GHz': 6,\n",
    "    'Intel Core M M7-6Y75 1.2GHz': 5,\n",
    "    'Intel Core i5 7200U 2.50GHz': 7,\n",
    "    'Intel Core i5 7200U 2.70GHz': 7\n",
    "}"
   ]
  },
  {
   "cell_type": "code",
   "execution_count": 24,
   "id": "7e521db6",
   "metadata": {},
   "outputs": [],
   "source": [
    "pc['CPU'] = pc['CPU'].map(cpu_range)"
   ]
  },
  {
   "cell_type": "code",
   "execution_count": 25,
   "id": "889e4d83",
   "metadata": {},
   "outputs": [
    {
     "data": {
      "text/plain": [
       "array([ 6,  5,  8,  7,  4,  9,  3,  1,  2, 10], dtype=int64)"
      ]
     },
     "execution_count": 25,
     "metadata": {},
     "output_type": "execute_result"
    }
   ],
   "source": [
    "pc['CPU'].unique()"
   ]
  },
  {
   "cell_type": "code",
   "execution_count": 26,
   "id": "7d60e1bc",
   "metadata": {},
   "outputs": [
    {
     "data": {
      "text/plain": [
       "array(['8GB', '16GB', '4GB', '2GB', '12GB', '6GB', '32GB', '24GB'],\n",
       "      dtype=object)"
      ]
     },
     "execution_count": 26,
     "metadata": {},
     "output_type": "execute_result"
    }
   ],
   "source": [
    "pc['RAM'].unique()"
   ]
  },
  {
   "cell_type": "code",
   "execution_count": 27,
   "id": "9e30b990",
   "metadata": {},
   "outputs": [],
   "source": [
    "pc['RAM'] = pc['RAM'].str.replace('GB', '')"
   ]
  },
  {
   "cell_type": "code",
   "execution_count": 28,
   "id": "e63b4a34",
   "metadata": {},
   "outputs": [
    {
     "data": {
      "text/plain": [
       "array(['8', '16', '4', '2', '12', '6', '32', '24'], dtype=object)"
      ]
     },
     "execution_count": 28,
     "metadata": {},
     "output_type": "execute_result"
    }
   ],
   "source": [
    "pc['RAM'].unique()"
   ]
  },
  {
   "cell_type": "code",
   "execution_count": 29,
   "id": "e153b8aa",
   "metadata": {},
   "outputs": [],
   "source": [
    "pc['RAM'] = pc['RAM'].astype(int)"
   ]
  },
  {
   "cell_type": "code",
   "execution_count": 30,
   "id": "9a707ec0",
   "metadata": {},
   "outputs": [
    {
     "name": "stdout",
     "output_type": "stream",
     "text": [
      "<class 'pandas.core.frame.DataFrame'>\n",
      "RangeIndex: 977 entries, 0 to 976\n",
      "Data columns (total 9 columns):\n",
      " #   Column        Non-Null Count  Dtype  \n",
      "---  ------        --------------  -----  \n",
      " 0   Manufacturer  977 non-null    int64  \n",
      " 1   Category      977 non-null    int64  \n",
      " 2   Screen Size   977 non-null    float64\n",
      " 3   CPU           977 non-null    int64  \n",
      " 4   RAM           977 non-null    int32  \n",
      " 5    Storage      977 non-null    object \n",
      " 6   GPU           977 non-null    object \n",
      " 7   Weight        977 non-null    object \n",
      " 8   Price         977 non-null    float64\n",
      "dtypes: float64(2), int32(1), int64(3), object(3)\n",
      "memory usage: 65.0+ KB\n"
     ]
    }
   ],
   "source": [
    "pc.info()"
   ]
  },
  {
   "cell_type": "code",
   "execution_count": 31,
   "id": "663c74a7",
   "metadata": {},
   "outputs": [],
   "source": [
    "pc = pc.rename(columns={' Storage': 'Storage'})"
   ]
  },
  {
   "cell_type": "code",
   "execution_count": 32,
   "id": "a1369cc8",
   "metadata": {},
   "outputs": [
    {
     "data": {
      "text/plain": [
       "array(['128GB SSD', '128GB Flash Storage', '256GB SSD', '512GB SSD',\n",
       "       '500GB HDD', '256GB Flash Storage', '1TB HDD',\n",
       "       '32GB Flash Storage', '128GB SSD +  1TB HDD',\n",
       "       '256GB SSD +  256GB SSD', '64GB Flash Storage',\n",
       "       '256GB SSD +  1TB HDD', '256GB SSD +  2TB HDD', '32GB SSD',\n",
       "       '2TB HDD', '64GB SSD', '1TB Hybrid', '512GB SSD +  1TB HDD',\n",
       "       '1TB SSD', '256GB SSD +  500GB HDD', '128GB SSD +  2TB HDD',\n",
       "       '512GB SSD +  512GB SSD', '16GB SSD', '16GB Flash Storage',\n",
       "       '512GB SSD +  256GB SSD', '512GB SSD +  2TB HDD',\n",
       "       '64GB Flash Storage +  1TB HDD', '1GB SSD', '1TB HDD +  1TB HDD',\n",
       "       '32GB HDD', '1TB SSD +  1TB HDD', '512GB Flash Storage',\n",
       "       '128GB HDD', '240GB SSD', '8GB SSD', '508GB Hybrid'], dtype=object)"
      ]
     },
     "execution_count": 32,
     "metadata": {},
     "output_type": "execute_result"
    }
   ],
   "source": [
    "pc['Storage'].unique()"
   ]
  },
  {
   "cell_type": "code",
   "execution_count": 33,
   "id": "123f166f",
   "metadata": {},
   "outputs": [],
   "source": [
    "pc['Storage'] = pc['Storage'].str.replace('Storage', '')"
   ]
  },
  {
   "cell_type": "code",
   "execution_count": 34,
   "id": "dc904cf5",
   "metadata": {},
   "outputs": [
    {
     "data": {
      "text/plain": [
       "array(['128GB SSD', '128GB Flash ', '256GB SSD', '512GB SSD', '500GB HDD',\n",
       "       '256GB Flash ', '1TB HDD', '32GB Flash ', '128GB SSD +  1TB HDD',\n",
       "       '256GB SSD +  256GB SSD', '64GB Flash ', '256GB SSD +  1TB HDD',\n",
       "       '256GB SSD +  2TB HDD', '32GB SSD', '2TB HDD', '64GB SSD',\n",
       "       '1TB Hybrid', '512GB SSD +  1TB HDD', '1TB SSD',\n",
       "       '256GB SSD +  500GB HDD', '128GB SSD +  2TB HDD',\n",
       "       '512GB SSD +  512GB SSD', '16GB SSD', '16GB Flash ',\n",
       "       '512GB SSD +  256GB SSD', '512GB SSD +  2TB HDD',\n",
       "       '64GB Flash  +  1TB HDD', '1GB SSD', '1TB HDD +  1TB HDD',\n",
       "       '32GB HDD', '1TB SSD +  1TB HDD', '512GB Flash ', '128GB HDD',\n",
       "       '240GB SSD', '8GB SSD', '508GB Hybrid'], dtype=object)"
      ]
     },
     "execution_count": 34,
     "metadata": {},
     "output_type": "execute_result"
    }
   ],
   "source": [
    "pc['Storage'].unique()"
   ]
  },
  {
   "cell_type": "code",
   "execution_count": 35,
   "id": "8e72de07",
   "metadata": {},
   "outputs": [],
   "source": [
    "pc[['Storage_size', 'Storage_type']] = pc['Storage'].str.split(' + ', n=1, expand=True)"
   ]
  },
  {
   "cell_type": "code",
   "execution_count": 36,
   "id": "42f4b139",
   "metadata": {},
   "outputs": [
    {
     "data": {
      "text/html": [
       "<div>\n",
       "<style scoped>\n",
       "    .dataframe tbody tr th:only-of-type {\n",
       "        vertical-align: middle;\n",
       "    }\n",
       "\n",
       "    .dataframe tbody tr th {\n",
       "        vertical-align: top;\n",
       "    }\n",
       "\n",
       "    .dataframe thead th {\n",
       "        text-align: right;\n",
       "    }\n",
       "</style>\n",
       "<table border=\"1\" class=\"dataframe\">\n",
       "  <thead>\n",
       "    <tr style=\"text-align: right;\">\n",
       "      <th></th>\n",
       "      <th>Manufacturer</th>\n",
       "      <th>Category</th>\n",
       "      <th>Screen Size</th>\n",
       "      <th>CPU</th>\n",
       "      <th>RAM</th>\n",
       "      <th>Storage</th>\n",
       "      <th>GPU</th>\n",
       "      <th>Weight</th>\n",
       "      <th>Price</th>\n",
       "      <th>Storage_size</th>\n",
       "      <th>Storage_type</th>\n",
       "    </tr>\n",
       "  </thead>\n",
       "  <tbody>\n",
       "    <tr>\n",
       "      <th>0</th>\n",
       "      <td>5</td>\n",
       "      <td>4</td>\n",
       "      <td>13.3</td>\n",
       "      <td>6</td>\n",
       "      <td>8</td>\n",
       "      <td>128GB SSD</td>\n",
       "      <td>Intel Iris Plus Graphics 640</td>\n",
       "      <td>1.37kg</td>\n",
       "      <td>11912523.48</td>\n",
       "      <td>128GB SSD</td>\n",
       "      <td>None</td>\n",
       "    </tr>\n",
       "    <tr>\n",
       "      <th>1</th>\n",
       "      <td>5</td>\n",
       "      <td>4</td>\n",
       "      <td>13.3</td>\n",
       "      <td>5</td>\n",
       "      <td>8</td>\n",
       "      <td>128GB Flash</td>\n",
       "      <td>Intel HD Graphics 6000</td>\n",
       "      <td>1.34kg</td>\n",
       "      <td>7993374.48</td>\n",
       "      <td>128GB Flash</td>\n",
       "      <td>None</td>\n",
       "    </tr>\n",
       "    <tr>\n",
       "      <th>2</th>\n",
       "      <td>2</td>\n",
       "      <td>3</td>\n",
       "      <td>15.6</td>\n",
       "      <td>6</td>\n",
       "      <td>8</td>\n",
       "      <td>256GB SSD</td>\n",
       "      <td>Intel HD Graphics 620</td>\n",
       "      <td>1.86kg</td>\n",
       "      <td>5112900.00</td>\n",
       "      <td>256GB SSD</td>\n",
       "      <td>None</td>\n",
       "    </tr>\n",
       "    <tr>\n",
       "      <th>3</th>\n",
       "      <td>5</td>\n",
       "      <td>4</td>\n",
       "      <td>15.4</td>\n",
       "      <td>8</td>\n",
       "      <td>16</td>\n",
       "      <td>512GB SSD</td>\n",
       "      <td>AMD Radeon Pro 455</td>\n",
       "      <td>1.83kg</td>\n",
       "      <td>22563005.40</td>\n",
       "      <td>512GB SSD</td>\n",
       "      <td>None</td>\n",
       "    </tr>\n",
       "    <tr>\n",
       "      <th>4</th>\n",
       "      <td>5</td>\n",
       "      <td>4</td>\n",
       "      <td>13.3</td>\n",
       "      <td>7</td>\n",
       "      <td>8</td>\n",
       "      <td>256GB SSD</td>\n",
       "      <td>Intel Iris Plus Graphics 650</td>\n",
       "      <td>1.37kg</td>\n",
       "      <td>16037611.20</td>\n",
       "      <td>256GB SSD</td>\n",
       "      <td>None</td>\n",
       "    </tr>\n",
       "  </tbody>\n",
       "</table>\n",
       "</div>"
      ],
      "text/plain": [
       "   Manufacturer  Category  Screen Size  CPU  RAM       Storage   \n",
       "0             5         4         13.3    6    8     128GB SSD  \\\n",
       "1             5         4         13.3    5    8  128GB Flash    \n",
       "2             2         3         15.6    6    8     256GB SSD   \n",
       "3             5         4         15.4    8   16     512GB SSD   \n",
       "4             5         4         13.3    7    8     256GB SSD   \n",
       "\n",
       "                            GPU  Weight        Price  Storage_size   \n",
       "0  Intel Iris Plus Graphics 640  1.37kg  11912523.48     128GB SSD  \\\n",
       "1        Intel HD Graphics 6000  1.34kg   7993374.48  128GB Flash    \n",
       "2         Intel HD Graphics 620  1.86kg   5112900.00     256GB SSD   \n",
       "3            AMD Radeon Pro 455  1.83kg  22563005.40     512GB SSD   \n",
       "4  Intel Iris Plus Graphics 650  1.37kg  16037611.20     256GB SSD   \n",
       "\n",
       "  Storage_type  \n",
       "0         None  \n",
       "1         None  \n",
       "2         None  \n",
       "3         None  \n",
       "4         None  "
      ]
     },
     "execution_count": 36,
     "metadata": {},
     "output_type": "execute_result"
    }
   ],
   "source": [
    "pc.head()"
   ]
  },
  {
   "cell_type": "code",
   "execution_count": 37,
   "id": "68f1e68b",
   "metadata": {},
   "outputs": [],
   "source": [
    "pc = pc.drop('Storage', axis=1)"
   ]
  },
  {
   "cell_type": "code",
   "execution_count": 38,
   "id": "27f3c1db",
   "metadata": {},
   "outputs": [
    {
     "data": {
      "text/plain": [
       "array(['128GB SSD', '128GB Flash ', '256GB SSD', '512GB SSD', '500GB HDD',\n",
       "       '256GB Flash ', '1TB HDD', '32GB Flash ', '128GB SSD +',\n",
       "       '256GB SSD +', '64GB Flash ', '32GB SSD', '2TB HDD', '64GB SSD',\n",
       "       '1TB Hybrid', '512GB SSD +', '1TB SSD', '16GB SSD', '16GB Flash ',\n",
       "       '64GB Flash', '1GB SSD', '1TB HDD +', '32GB HDD', '1TB SSD +',\n",
       "       '512GB Flash ', '128GB HDD', '240GB SSD', '8GB SSD',\n",
       "       '508GB Hybrid'], dtype=object)"
      ]
     },
     "execution_count": 38,
     "metadata": {},
     "output_type": "execute_result"
    }
   ],
   "source": [
    "pc['Storage_size'].unique()"
   ]
  },
  {
   "cell_type": "code",
   "execution_count": 39,
   "id": "7ed5a868",
   "metadata": {},
   "outputs": [],
   "source": [
    "pc['Storage_size'] = pc['Storage_size'].str.replace(' +', '')"
   ]
  },
  {
   "cell_type": "code",
   "execution_count": 40,
   "id": "0112837a",
   "metadata": {},
   "outputs": [
    {
     "data": {
      "text/plain": [
       "array(['128GB SSD', '128GB Flash ', '256GB SSD', '512GB SSD', '500GB HDD',\n",
       "       '256GB Flash ', '1TB HDD', '32GB Flash ', '64GB Flash ',\n",
       "       '32GB SSD', '2TB HDD', '64GB SSD', '1TB Hybrid', '1TB SSD',\n",
       "       '16GB SSD', '16GB Flash ', '64GB Flash', '1GB SSD', '32GB HDD',\n",
       "       '512GB Flash ', '128GB HDD', '240GB SSD', '8GB SSD',\n",
       "       '508GB Hybrid'], dtype=object)"
      ]
     },
     "execution_count": 40,
     "metadata": {},
     "output_type": "execute_result"
    }
   ],
   "source": [
    "pc['Storage_size'].unique()"
   ]
  },
  {
   "cell_type": "code",
   "execution_count": 41,
   "id": "32aaa769",
   "metadata": {},
   "outputs": [],
   "source": [
    "pc['Storage_size'] = pc['Storage_size'].str.replace('GB', '000')"
   ]
  },
  {
   "cell_type": "code",
   "execution_count": 42,
   "id": "d351078c",
   "metadata": {},
   "outputs": [
    {
     "data": {
      "text/plain": [
       "array(['128000 SSD', '128000 Flash ', '256000 SSD', '512000 SSD',\n",
       "       '500000 HDD', '256000 Flash ', '1TB HDD', '32000 Flash ',\n",
       "       '64000 Flash ', '32000 SSD', '2TB HDD', '64000 SSD', '1TB Hybrid',\n",
       "       '1TB SSD', '16000 SSD', '16000 Flash ', '64000 Flash', '1000 SSD',\n",
       "       '32000 HDD', '512000 Flash ', '128000 HDD', '240000 SSD',\n",
       "       '8000 SSD', '508000 Hybrid'], dtype=object)"
      ]
     },
     "execution_count": 42,
     "metadata": {},
     "output_type": "execute_result"
    }
   ],
   "source": [
    "pc['Storage_size'].unique()"
   ]
  },
  {
   "cell_type": "code",
   "execution_count": 43,
   "id": "e8c43663",
   "metadata": {},
   "outputs": [],
   "source": [
    "pc['Storage_size'] = pc['Storage_size'].str.replace('TB', '000000')"
   ]
  },
  {
   "cell_type": "code",
   "execution_count": 44,
   "id": "62816d4f",
   "metadata": {},
   "outputs": [
    {
     "data": {
      "text/plain": [
       "array(['128000 SSD', '128000 Flash ', '256000 SSD', '512000 SSD',\n",
       "       '500000 HDD', '256000 Flash ', '1000000 HDD', '32000 Flash ',\n",
       "       '64000 Flash ', '32000 SSD', '2000000 HDD', '64000 SSD',\n",
       "       '1000000 Hybrid', '1000000 SSD', '16000 SSD', '16000 Flash ',\n",
       "       '64000 Flash', '1000 SSD', '32000 HDD', '512000 Flash ',\n",
       "       '128000 HDD', '240000 SSD', '8000 SSD', '508000 Hybrid'],\n",
       "      dtype=object)"
      ]
     },
     "execution_count": 44,
     "metadata": {},
     "output_type": "execute_result"
    }
   ],
   "source": [
    "pc['Storage_size'].unique()"
   ]
  },
  {
   "cell_type": "code",
   "execution_count": 45,
   "id": "7e38bc1e",
   "metadata": {},
   "outputs": [],
   "source": [
    "pc[['Storage_size1', 'Storage_type1']] = pc['Storage_size'].str.split(' ', n=1, expand=True)"
   ]
  },
  {
   "cell_type": "code",
   "execution_count": 46,
   "id": "770eec8d",
   "metadata": {},
   "outputs": [
    {
     "name": "stdout",
     "output_type": "stream",
     "text": [
      "<class 'pandas.core.frame.DataFrame'>\n",
      "RangeIndex: 977 entries, 0 to 976\n",
      "Data columns (total 12 columns):\n",
      " #   Column         Non-Null Count  Dtype  \n",
      "---  ------         --------------  -----  \n",
      " 0   Manufacturer   977 non-null    int64  \n",
      " 1   Category       977 non-null    int64  \n",
      " 2   Screen Size    977 non-null    float64\n",
      " 3   CPU            977 non-null    int64  \n",
      " 4   RAM            977 non-null    int32  \n",
      " 5   GPU            977 non-null    object \n",
      " 6   Weight         977 non-null    object \n",
      " 7   Price          977 non-null    float64\n",
      " 8   Storage_size   977 non-null    object \n",
      " 9   Storage_type   159 non-null    object \n",
      " 10  Storage_size1  977 non-null    object \n",
      " 11  Storage_type1  977 non-null    object \n",
      "dtypes: float64(2), int32(1), int64(3), object(6)\n",
      "memory usage: 87.9+ KB\n"
     ]
    }
   ],
   "source": [
    "pc.info()"
   ]
  },
  {
   "cell_type": "code",
   "execution_count": 47,
   "id": "27139815",
   "metadata": {},
   "outputs": [
    {
     "data": {
      "text/html": [
       "<div>\n",
       "<style scoped>\n",
       "    .dataframe tbody tr th:only-of-type {\n",
       "        vertical-align: middle;\n",
       "    }\n",
       "\n",
       "    .dataframe tbody tr th {\n",
       "        vertical-align: top;\n",
       "    }\n",
       "\n",
       "    .dataframe thead th {\n",
       "        text-align: right;\n",
       "    }\n",
       "</style>\n",
       "<table border=\"1\" class=\"dataframe\">\n",
       "  <thead>\n",
       "    <tr style=\"text-align: right;\">\n",
       "      <th></th>\n",
       "      <th>Manufacturer</th>\n",
       "      <th>Category</th>\n",
       "      <th>Screen Size</th>\n",
       "      <th>CPU</th>\n",
       "      <th>RAM</th>\n",
       "      <th>GPU</th>\n",
       "      <th>Weight</th>\n",
       "      <th>Price</th>\n",
       "      <th>Storage_size</th>\n",
       "      <th>Storage_type</th>\n",
       "      <th>Storage_size1</th>\n",
       "      <th>Storage_type1</th>\n",
       "    </tr>\n",
       "  </thead>\n",
       "  <tbody>\n",
       "    <tr>\n",
       "      <th>0</th>\n",
       "      <td>5</td>\n",
       "      <td>4</td>\n",
       "      <td>13.3</td>\n",
       "      <td>6</td>\n",
       "      <td>8</td>\n",
       "      <td>Intel Iris Plus Graphics 640</td>\n",
       "      <td>1.37kg</td>\n",
       "      <td>11912523.48</td>\n",
       "      <td>128000 SSD</td>\n",
       "      <td>None</td>\n",
       "      <td>128000</td>\n",
       "      <td>SSD</td>\n",
       "    </tr>\n",
       "    <tr>\n",
       "      <th>1</th>\n",
       "      <td>5</td>\n",
       "      <td>4</td>\n",
       "      <td>13.3</td>\n",
       "      <td>5</td>\n",
       "      <td>8</td>\n",
       "      <td>Intel HD Graphics 6000</td>\n",
       "      <td>1.34kg</td>\n",
       "      <td>7993374.48</td>\n",
       "      <td>128000 Flash</td>\n",
       "      <td>None</td>\n",
       "      <td>128000</td>\n",
       "      <td>Flash</td>\n",
       "    </tr>\n",
       "    <tr>\n",
       "      <th>2</th>\n",
       "      <td>2</td>\n",
       "      <td>3</td>\n",
       "      <td>15.6</td>\n",
       "      <td>6</td>\n",
       "      <td>8</td>\n",
       "      <td>Intel HD Graphics 620</td>\n",
       "      <td>1.86kg</td>\n",
       "      <td>5112900.00</td>\n",
       "      <td>256000 SSD</td>\n",
       "      <td>None</td>\n",
       "      <td>256000</td>\n",
       "      <td>SSD</td>\n",
       "    </tr>\n",
       "    <tr>\n",
       "      <th>3</th>\n",
       "      <td>5</td>\n",
       "      <td>4</td>\n",
       "      <td>15.4</td>\n",
       "      <td>8</td>\n",
       "      <td>16</td>\n",
       "      <td>AMD Radeon Pro 455</td>\n",
       "      <td>1.83kg</td>\n",
       "      <td>22563005.40</td>\n",
       "      <td>512000 SSD</td>\n",
       "      <td>None</td>\n",
       "      <td>512000</td>\n",
       "      <td>SSD</td>\n",
       "    </tr>\n",
       "    <tr>\n",
       "      <th>4</th>\n",
       "      <td>5</td>\n",
       "      <td>4</td>\n",
       "      <td>13.3</td>\n",
       "      <td>7</td>\n",
       "      <td>8</td>\n",
       "      <td>Intel Iris Plus Graphics 650</td>\n",
       "      <td>1.37kg</td>\n",
       "      <td>16037611.20</td>\n",
       "      <td>256000 SSD</td>\n",
       "      <td>None</td>\n",
       "      <td>256000</td>\n",
       "      <td>SSD</td>\n",
       "    </tr>\n",
       "  </tbody>\n",
       "</table>\n",
       "</div>"
      ],
      "text/plain": [
       "   Manufacturer  Category  Screen Size  CPU  RAM   \n",
       "0             5         4         13.3    6    8  \\\n",
       "1             5         4         13.3    5    8   \n",
       "2             2         3         15.6    6    8   \n",
       "3             5         4         15.4    8   16   \n",
       "4             5         4         13.3    7    8   \n",
       "\n",
       "                            GPU  Weight        Price   Storage_size   \n",
       "0  Intel Iris Plus Graphics 640  1.37kg  11912523.48     128000 SSD  \\\n",
       "1        Intel HD Graphics 6000  1.34kg   7993374.48  128000 Flash    \n",
       "2         Intel HD Graphics 620  1.86kg   5112900.00     256000 SSD   \n",
       "3            AMD Radeon Pro 455  1.83kg  22563005.40     512000 SSD   \n",
       "4  Intel Iris Plus Graphics 650  1.37kg  16037611.20     256000 SSD   \n",
       "\n",
       "  Storage_type Storage_size1 Storage_type1  \n",
       "0         None        128000           SSD  \n",
       "1         None        128000        Flash   \n",
       "2         None        256000           SSD  \n",
       "3         None        512000           SSD  \n",
       "4         None        256000           SSD  "
      ]
     },
     "execution_count": 47,
     "metadata": {},
     "output_type": "execute_result"
    }
   ],
   "source": [
    "pc.head()"
   ]
  },
  {
   "cell_type": "code",
   "execution_count": 48,
   "id": "7edada34",
   "metadata": {},
   "outputs": [],
   "source": [
    "pc['Storage_size1'] = pc['Storage_size1'].astype(int)"
   ]
  },
  {
   "cell_type": "code",
   "execution_count": 49,
   "id": "7981f279",
   "metadata": {},
   "outputs": [],
   "source": [
    "pc = pc.drop('Storage_size', axis=1)"
   ]
  },
  {
   "cell_type": "code",
   "execution_count": 50,
   "id": "2dffff40",
   "metadata": {},
   "outputs": [
    {
     "data": {
      "text/plain": [
       "array([None, '1TB HDD', '256GB SSD', '2TB HDD', '500GB HDD', '512GB SSD',\n",
       "       '+  1TB HDD'], dtype=object)"
      ]
     },
     "execution_count": 50,
     "metadata": {},
     "output_type": "execute_result"
    }
   ],
   "source": [
    "pc['Storage_type'].unique()"
   ]
  },
  {
   "cell_type": "code",
   "execution_count": 51,
   "id": "1c90b93f",
   "metadata": {},
   "outputs": [],
   "source": [
    "pc['Storage_type'] = pc['Storage_type'].str.replace('+ ', '')"
   ]
  },
  {
   "cell_type": "code",
   "execution_count": 52,
   "id": "329beaa4",
   "metadata": {},
   "outputs": [
    {
     "data": {
      "text/plain": [
       "array([None, '1TB HDD', '256GB SSD', '2TB HDD', '500GB HDD', '512GB SSD',\n",
       "       ' 1TB HDD'], dtype=object)"
      ]
     },
     "execution_count": 52,
     "metadata": {},
     "output_type": "execute_result"
    }
   ],
   "source": [
    "pc['Storage_type'].unique()"
   ]
  },
  {
   "cell_type": "code",
   "execution_count": 53,
   "id": "9c3746f6",
   "metadata": {},
   "outputs": [],
   "source": [
    "pc['Storage_type'] = pc['Storage_type'].str.replace('GB', '000')\n",
    "pc['Storage_type'] = pc['Storage_type'].str.replace('TB', '000000')"
   ]
  },
  {
   "cell_type": "code",
   "execution_count": 54,
   "id": "53a37022",
   "metadata": {},
   "outputs": [
    {
     "data": {
      "text/plain": [
       "array([None, '1000000 HDD', '256000 SSD', '2000000 HDD', '500000 HDD',\n",
       "       '512000 SSD', ' 1000000 HDD'], dtype=object)"
      ]
     },
     "execution_count": 54,
     "metadata": {},
     "output_type": "execute_result"
    }
   ],
   "source": [
    "pc['Storage_type'].unique()"
   ]
  },
  {
   "cell_type": "code",
   "execution_count": 55,
   "id": "5861fad3",
   "metadata": {},
   "outputs": [],
   "source": [
    "pc['Storage_type'] = pc['Storage_type'].fillna(0)"
   ]
  },
  {
   "cell_type": "code",
   "execution_count": 56,
   "id": "5ad3702b",
   "metadata": {},
   "outputs": [
    {
     "data": {
      "text/plain": [
       "array([0, '1000000 HDD', '256000 SSD', '2000000 HDD', '500000 HDD',\n",
       "       '512000 SSD', ' 1000000 HDD'], dtype=object)"
      ]
     },
     "execution_count": 56,
     "metadata": {},
     "output_type": "execute_result"
    }
   ],
   "source": [
    "pc['Storage_type'].unique()"
   ]
  },
  {
   "cell_type": "code",
   "execution_count": 57,
   "id": "8aaa71e1",
   "metadata": {},
   "outputs": [],
   "source": [
    "pc['Storage_type'] = pc['Storage_type'].str.strip()"
   ]
  },
  {
   "cell_type": "code",
   "execution_count": 58,
   "id": "900157ce",
   "metadata": {},
   "outputs": [
    {
     "data": {
      "text/plain": [
       "array([nan, '1000000 HDD', '256000 SSD', '2000000 HDD', '500000 HDD',\n",
       "       '512000 SSD'], dtype=object)"
      ]
     },
     "execution_count": 58,
     "metadata": {},
     "output_type": "execute_result"
    }
   ],
   "source": [
    "pc['Storage_type'].unique()"
   ]
  },
  {
   "cell_type": "code",
   "execution_count": 59,
   "id": "254b46fd",
   "metadata": {},
   "outputs": [],
   "source": [
    "pc['Storage_type'] = pc['Storage_type'].fillna(0)"
   ]
  },
  {
   "cell_type": "code",
   "execution_count": 60,
   "id": "44ebda44",
   "metadata": {},
   "outputs": [],
   "source": [
    "pc[['Storage_size2', 'Storage_type2']] = pc['Storage_type'].str.split(' ', n=1, expand=True)"
   ]
  },
  {
   "cell_type": "code",
   "execution_count": 61,
   "id": "eb75131f",
   "metadata": {},
   "outputs": [
    {
     "data": {
      "text/html": [
       "<div>\n",
       "<style scoped>\n",
       "    .dataframe tbody tr th:only-of-type {\n",
       "        vertical-align: middle;\n",
       "    }\n",
       "\n",
       "    .dataframe tbody tr th {\n",
       "        vertical-align: top;\n",
       "    }\n",
       "\n",
       "    .dataframe thead th {\n",
       "        text-align: right;\n",
       "    }\n",
       "</style>\n",
       "<table border=\"1\" class=\"dataframe\">\n",
       "  <thead>\n",
       "    <tr style=\"text-align: right;\">\n",
       "      <th></th>\n",
       "      <th>Manufacturer</th>\n",
       "      <th>Category</th>\n",
       "      <th>Screen Size</th>\n",
       "      <th>CPU</th>\n",
       "      <th>RAM</th>\n",
       "      <th>GPU</th>\n",
       "      <th>Weight</th>\n",
       "      <th>Price</th>\n",
       "      <th>Storage_type</th>\n",
       "      <th>Storage_size1</th>\n",
       "      <th>Storage_type1</th>\n",
       "      <th>Storage_size2</th>\n",
       "      <th>Storage_type2</th>\n",
       "    </tr>\n",
       "  </thead>\n",
       "  <tbody>\n",
       "    <tr>\n",
       "      <th>0</th>\n",
       "      <td>5</td>\n",
       "      <td>4</td>\n",
       "      <td>13.3</td>\n",
       "      <td>6</td>\n",
       "      <td>8</td>\n",
       "      <td>Intel Iris Plus Graphics 640</td>\n",
       "      <td>1.37kg</td>\n",
       "      <td>11912523.48</td>\n",
       "      <td>0</td>\n",
       "      <td>128000</td>\n",
       "      <td>SSD</td>\n",
       "      <td>NaN</td>\n",
       "      <td>NaN</td>\n",
       "    </tr>\n",
       "    <tr>\n",
       "      <th>1</th>\n",
       "      <td>5</td>\n",
       "      <td>4</td>\n",
       "      <td>13.3</td>\n",
       "      <td>5</td>\n",
       "      <td>8</td>\n",
       "      <td>Intel HD Graphics 6000</td>\n",
       "      <td>1.34kg</td>\n",
       "      <td>7993374.48</td>\n",
       "      <td>0</td>\n",
       "      <td>128000</td>\n",
       "      <td>Flash</td>\n",
       "      <td>NaN</td>\n",
       "      <td>NaN</td>\n",
       "    </tr>\n",
       "    <tr>\n",
       "      <th>2</th>\n",
       "      <td>2</td>\n",
       "      <td>3</td>\n",
       "      <td>15.6</td>\n",
       "      <td>6</td>\n",
       "      <td>8</td>\n",
       "      <td>Intel HD Graphics 620</td>\n",
       "      <td>1.86kg</td>\n",
       "      <td>5112900.00</td>\n",
       "      <td>0</td>\n",
       "      <td>256000</td>\n",
       "      <td>SSD</td>\n",
       "      <td>NaN</td>\n",
       "      <td>NaN</td>\n",
       "    </tr>\n",
       "    <tr>\n",
       "      <th>3</th>\n",
       "      <td>5</td>\n",
       "      <td>4</td>\n",
       "      <td>15.4</td>\n",
       "      <td>8</td>\n",
       "      <td>16</td>\n",
       "      <td>AMD Radeon Pro 455</td>\n",
       "      <td>1.83kg</td>\n",
       "      <td>22563005.40</td>\n",
       "      <td>0</td>\n",
       "      <td>512000</td>\n",
       "      <td>SSD</td>\n",
       "      <td>NaN</td>\n",
       "      <td>NaN</td>\n",
       "    </tr>\n",
       "    <tr>\n",
       "      <th>4</th>\n",
       "      <td>5</td>\n",
       "      <td>4</td>\n",
       "      <td>13.3</td>\n",
       "      <td>7</td>\n",
       "      <td>8</td>\n",
       "      <td>Intel Iris Plus Graphics 650</td>\n",
       "      <td>1.37kg</td>\n",
       "      <td>16037611.20</td>\n",
       "      <td>0</td>\n",
       "      <td>256000</td>\n",
       "      <td>SSD</td>\n",
       "      <td>NaN</td>\n",
       "      <td>NaN</td>\n",
       "    </tr>\n",
       "  </tbody>\n",
       "</table>\n",
       "</div>"
      ],
      "text/plain": [
       "   Manufacturer  Category  Screen Size  CPU  RAM   \n",
       "0             5         4         13.3    6    8  \\\n",
       "1             5         4         13.3    5    8   \n",
       "2             2         3         15.6    6    8   \n",
       "3             5         4         15.4    8   16   \n",
       "4             5         4         13.3    7    8   \n",
       "\n",
       "                            GPU  Weight        Price Storage_type   \n",
       "0  Intel Iris Plus Graphics 640  1.37kg  11912523.48            0  \\\n",
       "1        Intel HD Graphics 6000  1.34kg   7993374.48            0   \n",
       "2         Intel HD Graphics 620  1.86kg   5112900.00            0   \n",
       "3            AMD Radeon Pro 455  1.83kg  22563005.40            0   \n",
       "4  Intel Iris Plus Graphics 650  1.37kg  16037611.20            0   \n",
       "\n",
       "   Storage_size1 Storage_type1 Storage_size2 Storage_type2  \n",
       "0         128000           SSD           NaN           NaN  \n",
       "1         128000        Flash            NaN           NaN  \n",
       "2         256000           SSD           NaN           NaN  \n",
       "3         512000           SSD           NaN           NaN  \n",
       "4         256000           SSD           NaN           NaN  "
      ]
     },
     "execution_count": 61,
     "metadata": {},
     "output_type": "execute_result"
    }
   ],
   "source": [
    "pc.head()"
   ]
  },
  {
   "cell_type": "code",
   "execution_count": 62,
   "id": "d616c441",
   "metadata": {},
   "outputs": [],
   "source": [
    "pc['Storage_type2'] = pc['Storage_type2'].fillna(0)"
   ]
  },
  {
   "cell_type": "code",
   "execution_count": 63,
   "id": "81d7b5f5",
   "metadata": {},
   "outputs": [
    {
     "data": {
      "text/plain": [
       "array([0, 'HDD', 'SSD'], dtype=object)"
      ]
     },
     "execution_count": 63,
     "metadata": {},
     "output_type": "execute_result"
    }
   ],
   "source": [
    "pc['Storage_type2'].unique()"
   ]
  },
  {
   "cell_type": "code",
   "execution_count": 64,
   "id": "17b92e75",
   "metadata": {},
   "outputs": [
    {
     "data": {
      "text/plain": [
       "array([nan, '1000000', '256000', '2000000', '500000', '512000'],\n",
       "      dtype=object)"
      ]
     },
     "execution_count": 64,
     "metadata": {},
     "output_type": "execute_result"
    }
   ],
   "source": [
    "pc['Storage_size2'].unique()"
   ]
  },
  {
   "cell_type": "code",
   "execution_count": 65,
   "id": "12ddff39",
   "metadata": {},
   "outputs": [],
   "source": [
    "pc['Storage_size2'] = pc['Storage_size2'].fillna(0)"
   ]
  },
  {
   "cell_type": "code",
   "execution_count": 66,
   "id": "39f10779",
   "metadata": {},
   "outputs": [],
   "source": [
    "pc['Storage_size2'] = pc['Storage_size2'].astype(int)"
   ]
  },
  {
   "cell_type": "code",
   "execution_count": 67,
   "id": "85849326",
   "metadata": {},
   "outputs": [
    {
     "name": "stdout",
     "output_type": "stream",
     "text": [
      "<class 'pandas.core.frame.DataFrame'>\n",
      "RangeIndex: 977 entries, 0 to 976\n",
      "Data columns (total 13 columns):\n",
      " #   Column         Non-Null Count  Dtype  \n",
      "---  ------         --------------  -----  \n",
      " 0   Manufacturer   977 non-null    int64  \n",
      " 1   Category       977 non-null    int64  \n",
      " 2   Screen Size    977 non-null    float64\n",
      " 3   CPU            977 non-null    int64  \n",
      " 4   RAM            977 non-null    int32  \n",
      " 5   GPU            977 non-null    object \n",
      " 6   Weight         977 non-null    object \n",
      " 7   Price          977 non-null    float64\n",
      " 8   Storage_type   977 non-null    object \n",
      " 9   Storage_size1  977 non-null    int32  \n",
      " 10  Storage_type1  977 non-null    object \n",
      " 11  Storage_size2  977 non-null    int32  \n",
      " 12  Storage_type2  977 non-null    object \n",
      "dtypes: float64(2), int32(3), int64(3), object(5)\n",
      "memory usage: 87.9+ KB\n"
     ]
    }
   ],
   "source": [
    "pc.info()"
   ]
  },
  {
   "cell_type": "code",
   "execution_count": 68,
   "id": "ddd67f2c",
   "metadata": {},
   "outputs": [],
   "source": [
    "pc = pc.drop('Storage_type', axis=1)"
   ]
  },
  {
   "cell_type": "code",
   "execution_count": 69,
   "id": "961f3867",
   "metadata": {},
   "outputs": [
    {
     "name": "stdout",
     "output_type": "stream",
     "text": [
      "<class 'pandas.core.frame.DataFrame'>\n",
      "RangeIndex: 977 entries, 0 to 976\n",
      "Data columns (total 12 columns):\n",
      " #   Column         Non-Null Count  Dtype  \n",
      "---  ------         --------------  -----  \n",
      " 0   Manufacturer   977 non-null    int64  \n",
      " 1   Category       977 non-null    int64  \n",
      " 2   Screen Size    977 non-null    float64\n",
      " 3   CPU            977 non-null    int64  \n",
      " 4   RAM            977 non-null    int32  \n",
      " 5   GPU            977 non-null    object \n",
      " 6   Weight         977 non-null    object \n",
      " 7   Price          977 non-null    float64\n",
      " 8   Storage_size1  977 non-null    int32  \n",
      " 9   Storage_type1  977 non-null    object \n",
      " 10  Storage_size2  977 non-null    int32  \n",
      " 11  Storage_type2  977 non-null    object \n",
      "dtypes: float64(2), int32(3), int64(3), object(4)\n",
      "memory usage: 80.3+ KB\n"
     ]
    }
   ],
   "source": [
    "pc.info()"
   ]
  },
  {
   "cell_type": "code",
   "execution_count": 70,
   "id": "0df199db",
   "metadata": {},
   "outputs": [
    {
     "data": {
      "text/plain": [
       "array(['SSD', 'Flash ', 'HDD', 'Hybrid', 'Flash'], dtype=object)"
      ]
     },
     "execution_count": 70,
     "metadata": {},
     "output_type": "execute_result"
    }
   ],
   "source": [
    "pc['Storage_type1'].unique()"
   ]
  },
  {
   "cell_type": "code",
   "execution_count": 71,
   "id": "34fa7c1e",
   "metadata": {},
   "outputs": [],
   "source": [
    "pc['Storage_type1'] = pc['Storage_type1'].str.strip()"
   ]
  },
  {
   "cell_type": "code",
   "execution_count": 72,
   "id": "dc7ced63",
   "metadata": {},
   "outputs": [
    {
     "data": {
      "text/plain": [
       "array(['SSD', 'Flash', 'HDD', 'Hybrid'], dtype=object)"
      ]
     },
     "execution_count": 72,
     "metadata": {},
     "output_type": "execute_result"
    }
   ],
   "source": [
    "pc['Storage_type1'].unique()"
   ]
  },
  {
   "cell_type": "code",
   "execution_count": 73,
   "id": "079f82ec",
   "metadata": {},
   "outputs": [],
   "source": [
    "pesos_discos = {\n",
    "    'SSD': 4,\n",
    "    'Hybrid': 3,\n",
    "    'Flash': 2,\n",
    "    'HDD': 1,\n",
    "    'None': 0\n",
    "}"
   ]
  },
  {
   "cell_type": "code",
   "execution_count": 74,
   "id": "40a33743",
   "metadata": {},
   "outputs": [],
   "source": [
    "pc['Storage_type1'] = pc['Storage_type1'].map(pesos_discos)"
   ]
  },
  {
   "cell_type": "code",
   "execution_count": 75,
   "id": "9b7cac83",
   "metadata": {},
   "outputs": [],
   "source": [
    "pc['Storage_type2'] = pc['Storage_type2'].map(pesos_discos)"
   ]
  },
  {
   "cell_type": "code",
   "execution_count": 76,
   "id": "8e46444d",
   "metadata": {},
   "outputs": [
    {
     "name": "stdout",
     "output_type": "stream",
     "text": [
      "<class 'pandas.core.frame.DataFrame'>\n",
      "RangeIndex: 977 entries, 0 to 976\n",
      "Data columns (total 12 columns):\n",
      " #   Column         Non-Null Count  Dtype  \n",
      "---  ------         --------------  -----  \n",
      " 0   Manufacturer   977 non-null    int64  \n",
      " 1   Category       977 non-null    int64  \n",
      " 2   Screen Size    977 non-null    float64\n",
      " 3   CPU            977 non-null    int64  \n",
      " 4   RAM            977 non-null    int32  \n",
      " 5   GPU            977 non-null    object \n",
      " 6   Weight         977 non-null    object \n",
      " 7   Price          977 non-null    float64\n",
      " 8   Storage_size1  977 non-null    int32  \n",
      " 9   Storage_type1  977 non-null    int64  \n",
      " 10  Storage_size2  977 non-null    int32  \n",
      " 11  Storage_type2  159 non-null    float64\n",
      "dtypes: float64(3), int32(3), int64(4), object(2)\n",
      "memory usage: 80.3+ KB\n"
     ]
    }
   ],
   "source": [
    "pc.info()"
   ]
  },
  {
   "cell_type": "code",
   "execution_count": 77,
   "id": "28026871",
   "metadata": {},
   "outputs": [
    {
     "data": {
      "text/plain": [
       "array([4, 2, 1, 3], dtype=int64)"
      ]
     },
     "execution_count": 77,
     "metadata": {},
     "output_type": "execute_result"
    }
   ],
   "source": [
    "pc['Storage_type1'].unique()"
   ]
  },
  {
   "cell_type": "code",
   "execution_count": 78,
   "id": "56ab679a",
   "metadata": {},
   "outputs": [
    {
     "data": {
      "text/plain": [
       "array([nan,  1.,  4.])"
      ]
     },
     "execution_count": 78,
     "metadata": {},
     "output_type": "execute_result"
    }
   ],
   "source": [
    "pc['Storage_type2'].unique()"
   ]
  },
  {
   "cell_type": "code",
   "execution_count": 79,
   "id": "5133d103",
   "metadata": {},
   "outputs": [],
   "source": [
    "pc['Storage_type2'] = pc['Storage_type2'].fillna(0)"
   ]
  },
  {
   "cell_type": "code",
   "execution_count": 80,
   "id": "69fad431",
   "metadata": {},
   "outputs": [
    {
     "data": {
      "text/plain": [
       "array([0., 1., 4.])"
      ]
     },
     "execution_count": 80,
     "metadata": {},
     "output_type": "execute_result"
    }
   ],
   "source": [
    "pc['Storage_type2'].unique()"
   ]
  },
  {
   "cell_type": "code",
   "execution_count": 81,
   "id": "7af71704",
   "metadata": {},
   "outputs": [],
   "source": [
    "pc['Storage_type2'] = pc['Storage_type2'].astype(int)"
   ]
  },
  {
   "cell_type": "code",
   "execution_count": 82,
   "id": "8707ac40",
   "metadata": {},
   "outputs": [
    {
     "data": {
      "text/plain": [
       "array([0, 1, 4])"
      ]
     },
     "execution_count": 82,
     "metadata": {},
     "output_type": "execute_result"
    }
   ],
   "source": [
    "pc['Storage_type2'].unique()"
   ]
  },
  {
   "cell_type": "code",
   "execution_count": 83,
   "id": "1606eb0e",
   "metadata": {},
   "outputs": [
    {
     "name": "stdout",
     "output_type": "stream",
     "text": [
      "<class 'pandas.core.frame.DataFrame'>\n",
      "RangeIndex: 977 entries, 0 to 976\n",
      "Data columns (total 12 columns):\n",
      " #   Column         Non-Null Count  Dtype  \n",
      "---  ------         --------------  -----  \n",
      " 0   Manufacturer   977 non-null    int64  \n",
      " 1   Category       977 non-null    int64  \n",
      " 2   Screen Size    977 non-null    float64\n",
      " 3   CPU            977 non-null    int64  \n",
      " 4   RAM            977 non-null    int32  \n",
      " 5   GPU            977 non-null    object \n",
      " 6   Weight         977 non-null    object \n",
      " 7   Price          977 non-null    float64\n",
      " 8   Storage_size1  977 non-null    int32  \n",
      " 9   Storage_type1  977 non-null    int64  \n",
      " 10  Storage_size2  977 non-null    int32  \n",
      " 11  Storage_type2  977 non-null    int32  \n",
      "dtypes: float64(2), int32(4), int64(4), object(2)\n",
      "memory usage: 76.5+ KB\n"
     ]
    }
   ],
   "source": [
    "pc.info()"
   ]
  },
  {
   "cell_type": "code",
   "execution_count": 84,
   "id": "9d906206",
   "metadata": {},
   "outputs": [
    {
     "data": {
      "text/html": [
       "<div>\n",
       "<style scoped>\n",
       "    .dataframe tbody tr th:only-of-type {\n",
       "        vertical-align: middle;\n",
       "    }\n",
       "\n",
       "    .dataframe tbody tr th {\n",
       "        vertical-align: top;\n",
       "    }\n",
       "\n",
       "    .dataframe thead th {\n",
       "        text-align: right;\n",
       "    }\n",
       "</style>\n",
       "<table border=\"1\" class=\"dataframe\">\n",
       "  <thead>\n",
       "    <tr style=\"text-align: right;\">\n",
       "      <th></th>\n",
       "      <th>Manufacturer</th>\n",
       "      <th>Category</th>\n",
       "      <th>Screen Size</th>\n",
       "      <th>CPU</th>\n",
       "      <th>RAM</th>\n",
       "      <th>GPU</th>\n",
       "      <th>Weight</th>\n",
       "      <th>Price</th>\n",
       "      <th>Storage_size1</th>\n",
       "      <th>Storage_type1</th>\n",
       "      <th>Storage_size2</th>\n",
       "      <th>Storage_type2</th>\n",
       "    </tr>\n",
       "  </thead>\n",
       "  <tbody>\n",
       "    <tr>\n",
       "      <th>0</th>\n",
       "      <td>5</td>\n",
       "      <td>4</td>\n",
       "      <td>13.3</td>\n",
       "      <td>6</td>\n",
       "      <td>8</td>\n",
       "      <td>Intel Iris Plus Graphics 640</td>\n",
       "      <td>1.37kg</td>\n",
       "      <td>11912523.48</td>\n",
       "      <td>128000</td>\n",
       "      <td>4</td>\n",
       "      <td>0</td>\n",
       "      <td>0</td>\n",
       "    </tr>\n",
       "    <tr>\n",
       "      <th>1</th>\n",
       "      <td>5</td>\n",
       "      <td>4</td>\n",
       "      <td>13.3</td>\n",
       "      <td>5</td>\n",
       "      <td>8</td>\n",
       "      <td>Intel HD Graphics 6000</td>\n",
       "      <td>1.34kg</td>\n",
       "      <td>7993374.48</td>\n",
       "      <td>128000</td>\n",
       "      <td>2</td>\n",
       "      <td>0</td>\n",
       "      <td>0</td>\n",
       "    </tr>\n",
       "    <tr>\n",
       "      <th>2</th>\n",
       "      <td>2</td>\n",
       "      <td>3</td>\n",
       "      <td>15.6</td>\n",
       "      <td>6</td>\n",
       "      <td>8</td>\n",
       "      <td>Intel HD Graphics 620</td>\n",
       "      <td>1.86kg</td>\n",
       "      <td>5112900.00</td>\n",
       "      <td>256000</td>\n",
       "      <td>4</td>\n",
       "      <td>0</td>\n",
       "      <td>0</td>\n",
       "    </tr>\n",
       "    <tr>\n",
       "      <th>3</th>\n",
       "      <td>5</td>\n",
       "      <td>4</td>\n",
       "      <td>15.4</td>\n",
       "      <td>8</td>\n",
       "      <td>16</td>\n",
       "      <td>AMD Radeon Pro 455</td>\n",
       "      <td>1.83kg</td>\n",
       "      <td>22563005.40</td>\n",
       "      <td>512000</td>\n",
       "      <td>4</td>\n",
       "      <td>0</td>\n",
       "      <td>0</td>\n",
       "    </tr>\n",
       "    <tr>\n",
       "      <th>4</th>\n",
       "      <td>5</td>\n",
       "      <td>4</td>\n",
       "      <td>13.3</td>\n",
       "      <td>7</td>\n",
       "      <td>8</td>\n",
       "      <td>Intel Iris Plus Graphics 650</td>\n",
       "      <td>1.37kg</td>\n",
       "      <td>16037611.20</td>\n",
       "      <td>256000</td>\n",
       "      <td>4</td>\n",
       "      <td>0</td>\n",
       "      <td>0</td>\n",
       "    </tr>\n",
       "  </tbody>\n",
       "</table>\n",
       "</div>"
      ],
      "text/plain": [
       "   Manufacturer  Category  Screen Size  CPU  RAM   \n",
       "0             5         4         13.3    6    8  \\\n",
       "1             5         4         13.3    5    8   \n",
       "2             2         3         15.6    6    8   \n",
       "3             5         4         15.4    8   16   \n",
       "4             5         4         13.3    7    8   \n",
       "\n",
       "                            GPU  Weight        Price  Storage_size1   \n",
       "0  Intel Iris Plus Graphics 640  1.37kg  11912523.48         128000  \\\n",
       "1        Intel HD Graphics 6000  1.34kg   7993374.48         128000   \n",
       "2         Intel HD Graphics 620  1.86kg   5112900.00         256000   \n",
       "3            AMD Radeon Pro 455  1.83kg  22563005.40         512000   \n",
       "4  Intel Iris Plus Graphics 650  1.37kg  16037611.20         256000   \n",
       "\n",
       "   Storage_type1  Storage_size2  Storage_type2  \n",
       "0              4              0              0  \n",
       "1              2              0              0  \n",
       "2              4              0              0  \n",
       "3              4              0              0  \n",
       "4              4              0              0  "
      ]
     },
     "execution_count": 84,
     "metadata": {},
     "output_type": "execute_result"
    }
   ],
   "source": [
    "pc.head()"
   ]
  },
  {
   "cell_type": "code",
   "execution_count": 85,
   "id": "b75f033e",
   "metadata": {},
   "outputs": [
    {
     "data": {
      "text/plain": [
       "array(['1.37kg', '1.34kg', '1.86kg', '1.83kg', '2.1kg', '2.04kg', '1.3kg',\n",
       "       '1.6kg', '2.2kg', '0.92kg', '1.22kg', '0.98kg', '2.5kg', '1.62kg',\n",
       "       '1.91kg', '2.3kg', '1.35kg', '1.88kg', '1.89kg', '1.65kg',\n",
       "       '2.71kg', '1.2kg', '1.44kg', '2.8kg', '2kg', '2.65kg', '2.77kg',\n",
       "       '3.2kg', '0.69kg', '1.49kg', '2.4kg', '2.13kg', '2.43kg', '1.7kg',\n",
       "       '1.4kg', '1.8kg', '1.9kg', '3kg', '1.252kg', '2.7kg', '2.02kg',\n",
       "       '1.63kg', '1.96kg', '1.21kg', '2.45kg', '1.25kg', '1.5kg',\n",
       "       '2.62kg', '1.38kg', '1.58kg', '1.85kg', '1.23kg', '1.26kg',\n",
       "       '2.16kg', '2.36kg', '2.05kg', '1.32kg', '1.75kg', '0.97kg',\n",
       "       '2.9kg', '2.56kg', '1.48kg', '1.74kg', '1.1kg', '1.56kg', '2.03kg',\n",
       "       '1.05kg', '4.4kg', '1.90kg', '1.29kg', '2.0kg', '1.95kg', '2.06kg',\n",
       "       '1.12kg', '1.42kg', '3.49kg', '3.35kg', '2.23kg', '4.42kg',\n",
       "       '2.69kg', '2.37kg', '4.7kg', '3.6kg', '2.08kg', '4.3kg', '1.68kg',\n",
       "       '1.41kg', '4.14kg', '2.18kg', '2.24kg', '2.67kg', '2.14kg',\n",
       "       '1.36kg', '2.25kg', '2.15kg', '2.19kg', '2.54kg', '3.42kg',\n",
       "       '1.28kg', '2.33kg', '1.45kg', '2.79kg', '1.84kg', '2.6kg',\n",
       "       '2.26kg', '3.25kg', '1.59kg', '1.13kg', '1.78kg', '1.10kg',\n",
       "       '1.15kg', '1.27kg', '1.43kg', '2.31kg', '1.16kg', '1.64kg',\n",
       "       '2.17kg', '1.47kg', '3.78kg', '1.79kg', '0.91kg', '1.99kg',\n",
       "       '4.33kg', '1.93kg', '1.87kg', '2.63kg', '3.4kg', '3.14kg',\n",
       "       '1.94kg', '1.24kg', '4.6kg', '4.5kg', '2.73kg', '1.39kg', '2.29kg',\n",
       "       '2.59kg', '2.94kg', '1.14kg', '3.8kg', '3.31kg', '1.09kg',\n",
       "       '3.21kg', '1.19kg', '1.98kg', '1.17kg', '4.36kg', '1.71kg',\n",
       "       '2.32kg', '4.2kg', '1.55kg', '0.81kg', '1.18kg', '2.72kg',\n",
       "       '1.31kg', '0.920kg', '3.74kg', '1.76kg', '1.54kg', '2.83kg',\n",
       "       '2.07kg', '2.38kg', '3.58kg', '1.08kg', '2.20kg', '2.75kg',\n",
       "       '1.70kg'], dtype=object)"
      ]
     },
     "execution_count": 85,
     "metadata": {},
     "output_type": "execute_result"
    }
   ],
   "source": [
    "pc['Weight'].unique()"
   ]
  },
  {
   "cell_type": "code",
   "execution_count": 86,
   "id": "db71a11e",
   "metadata": {},
   "outputs": [],
   "source": [
    "pc['Weight'] = pc['Weight'].str.strip()"
   ]
  },
  {
   "cell_type": "code",
   "execution_count": 87,
   "id": "0b171158",
   "metadata": {},
   "outputs": [],
   "source": [
    "pc['Weight'] = pc['Weight'].str.replace('kg', '')"
   ]
  },
  {
   "cell_type": "code",
   "execution_count": 88,
   "id": "d7028920",
   "metadata": {},
   "outputs": [
    {
     "data": {
      "text/plain": [
       "array(['1.37', '1.34', '1.86', '1.83', '2.1', '2.04', '1.3', '1.6', '2.2',\n",
       "       '0.92', '1.22', '0.98', '2.5', '1.62', '1.91', '2.3', '1.35',\n",
       "       '1.88', '1.89', '1.65', '2.71', '1.2', '1.44', '2.8', '2', '2.65',\n",
       "       '2.77', '3.2', '0.69', '1.49', '2.4', '2.13', '2.43', '1.7', '1.4',\n",
       "       '1.8', '1.9', '3', '1.252', '2.7', '2.02', '1.63', '1.96', '1.21',\n",
       "       '2.45', '1.25', '1.5', '2.62', '1.38', '1.58', '1.85', '1.23',\n",
       "       '1.26', '2.16', '2.36', '2.05', '1.32', '1.75', '0.97', '2.9',\n",
       "       '2.56', '1.48', '1.74', '1.1', '1.56', '2.03', '1.05', '4.4',\n",
       "       '1.90', '1.29', '2.0', '1.95', '2.06', '1.12', '1.42', '3.49',\n",
       "       '3.35', '2.23', '4.42', '2.69', '2.37', '4.7', '3.6', '2.08',\n",
       "       '4.3', '1.68', '1.41', '4.14', '2.18', '2.24', '2.67', '2.14',\n",
       "       '1.36', '2.25', '2.15', '2.19', '2.54', '3.42', '1.28', '2.33',\n",
       "       '1.45', '2.79', '1.84', '2.6', '2.26', '3.25', '1.59', '1.13',\n",
       "       '1.78', '1.10', '1.15', '1.27', '1.43', '2.31', '1.16', '1.64',\n",
       "       '2.17', '1.47', '3.78', '1.79', '0.91', '1.99', '4.33', '1.93',\n",
       "       '1.87', '2.63', '3.4', '3.14', '1.94', '1.24', '4.6', '4.5',\n",
       "       '2.73', '1.39', '2.29', '2.59', '2.94', '1.14', '3.8', '3.31',\n",
       "       '1.09', '3.21', '1.19', '1.98', '1.17', '4.36', '1.71', '2.32',\n",
       "       '4.2', '1.55', '0.81', '1.18', '2.72', '1.31', '0.920', '3.74',\n",
       "       '1.76', '1.54', '2.83', '2.07', '2.38', '3.58', '1.08', '2.20',\n",
       "       '2.75', '1.70'], dtype=object)"
      ]
     },
     "execution_count": 88,
     "metadata": {},
     "output_type": "execute_result"
    }
   ],
   "source": [
    "pc['Weight'].unique()"
   ]
  },
  {
   "cell_type": "code",
   "execution_count": 89,
   "id": "5be05926",
   "metadata": {},
   "outputs": [],
   "source": [
    "pc['Weight'] = pc['Weight'].astype(float)"
   ]
  },
  {
   "cell_type": "code",
   "execution_count": 90,
   "id": "d0681ede",
   "metadata": {},
   "outputs": [
    {
     "name": "stdout",
     "output_type": "stream",
     "text": [
      "<class 'pandas.core.frame.DataFrame'>\n",
      "RangeIndex: 977 entries, 0 to 976\n",
      "Data columns (total 12 columns):\n",
      " #   Column         Non-Null Count  Dtype  \n",
      "---  ------         --------------  -----  \n",
      " 0   Manufacturer   977 non-null    int64  \n",
      " 1   Category       977 non-null    int64  \n",
      " 2   Screen Size    977 non-null    float64\n",
      " 3   CPU            977 non-null    int64  \n",
      " 4   RAM            977 non-null    int32  \n",
      " 5   GPU            977 non-null    object \n",
      " 6   Weight         977 non-null    float64\n",
      " 7   Price          977 non-null    float64\n",
      " 8   Storage_size1  977 non-null    int32  \n",
      " 9   Storage_type1  977 non-null    int64  \n",
      " 10  Storage_size2  977 non-null    int32  \n",
      " 11  Storage_type2  977 non-null    int32  \n",
      "dtypes: float64(3), int32(4), int64(4), object(1)\n",
      "memory usage: 76.5+ KB\n"
     ]
    }
   ],
   "source": [
    "pc.info()"
   ]
  },
  {
   "cell_type": "code",
   "execution_count": 91,
   "id": "994e9290",
   "metadata": {},
   "outputs": [
    {
     "data": {
      "text/plain": [
       "array(['Intel Iris Plus Graphics 640', 'Intel HD Graphics 6000',\n",
       "       'Intel HD Graphics 620', 'AMD Radeon Pro 455',\n",
       "       'Intel Iris Plus Graphics 650', 'AMD Radeon R5',\n",
       "       'Intel Iris Pro Graphics', 'Nvidia GeForce MX150',\n",
       "       'Intel UHD Graphics 620', 'Intel HD Graphics 520',\n",
       "       'AMD Radeon Pro 555', 'AMD Radeon R5 M430',\n",
       "       'Intel HD Graphics 615', 'AMD Radeon Pro 560',\n",
       "       'Nvidia GeForce 940MX', 'Intel HD Graphics 400',\n",
       "       'Nvidia GeForce GTX 1050', 'AMD Radeon R2', 'AMD Radeon 530',\n",
       "       'Nvidia GeForce 930MX', 'Intel HD Graphics',\n",
       "       'Intel HD Graphics 500', 'Nvidia GeForce 930MX ',\n",
       "       'Nvidia GeForce GTX 1060', 'Nvidia GeForce 150MX',\n",
       "       'Intel Iris Graphics 540', 'AMD Radeon RX 580',\n",
       "       'Nvidia GeForce 920MX', 'AMD Radeon R4 Graphics', 'AMD Radeon 520',\n",
       "       'Nvidia GeForce GTX 1070', 'Nvidia GeForce GTX 1050 Ti',\n",
       "       'Nvidia GeForce MX130', 'AMD R4 Graphics',\n",
       "       'Nvidia GeForce GTX 940MX', 'AMD Radeon RX 560',\n",
       "       'Nvidia GeForce 920M', 'AMD Radeon R7 M445', 'AMD Radeon RX 550',\n",
       "       'Nvidia GeForce GTX 1050M', 'Intel HD Graphics 515',\n",
       "       'AMD Radeon R5 M420', 'Intel HD Graphics 505',\n",
       "       'Nvidia GTX 980 SLI', 'AMD R17M-M1-70', 'Nvidia GeForce GTX 1080',\n",
       "       'Nvidia Quadro M1200', 'Nvidia GeForce 920MX ',\n",
       "       'Nvidia GeForce GTX 950M', 'AMD FirePro W4190M ',\n",
       "       'Nvidia GeForce GTX 980M', 'Intel Iris Graphics 550',\n",
       "       'Nvidia GeForce 930M', 'Intel HD Graphics 630',\n",
       "       'AMD Radeon R5 430', 'Nvidia GeForce GTX 940M',\n",
       "       'Intel HD Graphics 510', 'Intel HD Graphics 405',\n",
       "       'AMD Radeon RX 540', 'Nvidia GeForce GT 940MX',\n",
       "       'AMD FirePro W5130M', 'Nvidia Quadro M2200M', 'AMD Radeon R4',\n",
       "       'Nvidia Quadro M620', 'AMD Radeon R7 M460',\n",
       "       'Intel HD Graphics 530', 'Nvidia GeForce GTX 965M',\n",
       "       'Nvidia GeForce GTX1080', 'Nvidia GeForce GTX1050 Ti',\n",
       "       'Nvidia GeForce GTX 960M', 'AMD Radeon R2 Graphics',\n",
       "       'Nvidia Quadro M620M', 'Nvidia GeForce GTX 970M',\n",
       "       'Nvidia GeForce GTX 960<U+039C>', 'Intel Graphics 620',\n",
       "       'Nvidia GeForce GTX 960', 'AMD Radeon R5 520',\n",
       "       'AMD Radeon R7 M440', 'AMD Radeon R7', 'Nvidia Quadro M520M',\n",
       "       'Nvidia Quadro M2200', 'Nvidia Quadro M2000M',\n",
       "       'Intel HD Graphics 540', 'Nvidia Quadro M1000M', 'AMD Radeon 540',\n",
       "       'Nvidia GeForce GTX 1070M', 'Nvidia GeForce GTX1060',\n",
       "       'Intel HD Graphics 5300', 'AMD Radeon R5 M420X',\n",
       "       'AMD Radeon R7 Graphics', 'Nvidia GeForce 920',\n",
       "       'Nvidia GeForce 940M', 'Nvidia GeForce GTX 930MX',\n",
       "       'AMD Radeon R7 M465', 'AMD Radeon R3', 'Nvidia GeForce GTX 1050Ti',\n",
       "       'AMD Radeon R7 M365X', 'AMD Radeon R9 M385'], dtype=object)"
      ]
     },
     "execution_count": 91,
     "metadata": {},
     "output_type": "execute_result"
    }
   ],
   "source": [
    "pc['GPU'].unique()"
   ]
  },
  {
   "cell_type": "code",
   "execution_count": 95,
   "id": "07953082",
   "metadata": {},
   "outputs": [],
   "source": [
    "pesos_grafica = {\n",
    "    'Intel HD Graphics 6000': 3,\n",
    "    'Intel HD Graphics 620': 3,\n",
    "    'AMD Radeon Pro 455': 4,\n",
    "    'Intel Iris Plus Graphics 650': 4,\n",
    "    'AMD Radeon R5': 3,\n",
    "    'Intel Iris Pro Graphics': 4,\n",
    "    'Nvidia GeForce MX150': 4,\n",
    "    'Intel UHD Graphics 620': 3,\n",
    "    'Intel HD Graphics 520': 3,\n",
    "    'AMD Radeon Pro 555': 4,\n",
    "    'AMD Radeon R5 M430': 3,\n",
    "    'Intel HD Graphics 615': 3,\n",
    "    'AMD Radeon Pro 560': 4,\n",
    "    'Nvidia GeForce 940MX': 3,\n",
    "    'Intel HD Graphics 400': 2,\n",
    "    'Nvidia GeForce GTX 1050': 4,\n",
    "    'AMD Radeon R2': 2,\n",
    "    'AMD Radeon 530': 3,\n",
    "    'Nvidia GeForce 930MX': 3,\n",
    "    'Intel HD Graphics': 2,\n",
    "    'Intel HD Graphics 500': 3,\n",
    "    'Nvidia GeForce 930MX ': 3,\n",
    "    'Nvidia GeForce GTX 1060': 5,\n",
    "    'Nvidia GeForce 150MX': 3,\n",
    "    'Intel Iris Graphics 540': 4,\n",
    "    'AMD Radeon RX 580': 5,\n",
    "    'Nvidia GeForce 920MX': 3,\n",
    "    'AMD Radeon R4 Graphics': 2,\n",
    "    'AMD Radeon 520': 3,\n",
    "    'Nvidia GeForce GTX 1070': 5,\n",
    "    'Nvidia GeForce GTX 1050 Ti': 4,\n",
    "    'Nvidia GeForce MX130': 3,\n",
    "    'AMD R4 Graphics': 2,\n",
    "    'Nvidia GeForce GTX 940MX': 3,\n",
    "    'AMD Radeon RX 560': 4,\n",
    "    'Nvidia GeForce 920M': 2,\n",
    "    'AMD Radeon R7 M445': 3,\n",
    "    'AMD Radeon RX 550': 4,\n",
    "    'Nvidia GeForce GTX 1050M': 4,\n",
    "    'Intel HD Graphics 515': 3,\n",
    "    'AMD Radeon R5 M420': 3,\n",
    "    'Intel HD Graphics 505': 3,\n",
    "    'Nvidia GTX 980 SLI': 5,\n",
    "    'AMD R17M-M1-70': 4,\n",
    "    'Nvidia GeForce GTX 1080': 5,\n",
    "    'Nvidia Quadro M1200': 4,\n",
    "    'Nvidia GeForce 920MX ': 2,\n",
    "    'Nvidia GeForce GTX 950M': 4,\n",
    "    'AMD FirePro W4190M ': 3,\n",
    "    'Nvidia GeForce GTX 980M': 5,\n",
    "    'Intel Iris Graphics 550': 4,\n",
    "    'Nvidia GeForce 930M': 3,\n",
    "    'Intel HD Graphics 630': 3,\n",
    "    'AMD Radeon R5 430': 3,\n",
    "    'Nvidia GeForce GTX 940M': 4,\n",
    "    'Intel HD Graphics 510': 3,\n",
    "    'Intel HD Graphics 405': 2,\n",
    "    'AMD Radeon RX 540': 4,\n",
    "    'Nvidia GeForce GT 940MX': 3,\n",
    "    'AMD FirePro W5130M': 3,\n",
    "    'Nvidia Quadro M2200M': 4,\n",
    "    'AMD Radeon R4': 2,\n",
    "    'Nvidia Quadro M620': 4,\n",
    "    'AMD Radeon R7 M460': 3,\n",
    "    'Intel HD Graphics 530': 4,\n",
    "    'Nvidia GeForce GTX 965M': 4,\n",
    "    'Nvidia GeForce GTX1080': 5,\n",
    "    'Nvidia GeForce GTX1050 Ti': 4,\n",
    "    'Nvidia GeForce GTX 960M': 4,\n",
    "    'AMD Radeon R2 Graphics': 2,\n",
    "    'Nvidia Quadro M620M': 4,\n",
    "    'Nvidia GeForce GTX 970M': 4,\n",
    "    'Nvidia GeForce GTX 960<U+039C>': 4,\n",
    "    'Intel Graphics 620': 3,\n",
    "    'Nvidia GeForce GTX 960': 4,\n",
    "    'AMD Radeon R5 520': 3,\n",
    "    'AMD Radeon R7 M440': 3,\n",
    "    'AMD Radeon R7': 3,\n",
    "    'Nvidia Quadro M520M': 4,\n",
    "    'Nvidia Quadro M2200': 4,\n",
    "    'Nvidia Quadro M2000M': 4,\n",
    "    'Intel HD Graphics 540': 3,\n",
    "    'Nvidia Quadro M1000M': 4,\n",
    "    'AMD Radeon 540': 3,\n",
    "    'Nvidia GeForce GTX 1070M': 5,\n",
    "    'Nvidia GeForce GTX1060': 5,\n",
    "    'Intel HD Graphics 5300': 2,\n",
    "    'AMD Radeon R5 M420X': 3,\n",
    "    'AMD Radeon R7 Graphics': 3,\n",
    "    'Nvidia GeForce 920': 2,\n",
    "    'Nvidia GeForce 940M': 3,\n",
    "    'Nvidia GeForce GTX 930MX': 3,\n",
    "    'AMD Radeon R7 M465': 3,\n",
    "    'AMD Radeon R3': 2,\n",
    "    'Nvidia GeForce GTX 1050Ti': 4,\n",
    "    'AMD Radeon R7 M365X': 3,\n",
    "    'AMD Radeon R9 M385': 4\n",
    "}"
   ]
  },
  {
   "cell_type": "code",
   "execution_count": 93,
   "id": "6839b717",
   "metadata": {},
   "outputs": [],
   "source": [
    "pc['GPU'] = pc['GPU'].str.strip()"
   ]
  },
  {
   "cell_type": "code",
   "execution_count": 96,
   "id": "1fe81074",
   "metadata": {},
   "outputs": [],
   "source": [
    "pc['GPU'] = pc['GPU'].map(pesos_grafica)"
   ]
  },
  {
   "cell_type": "code",
   "execution_count": 97,
   "id": "6c9eb8ef",
   "metadata": {},
   "outputs": [
    {
     "data": {
      "text/plain": [
       "array([nan,  3.,  4.,  2.,  5.])"
      ]
     },
     "execution_count": 97,
     "metadata": {},
     "output_type": "execute_result"
    }
   ],
   "source": [
    "pc['GPU'].unique()"
   ]
  },
  {
   "cell_type": "code",
   "execution_count": 98,
   "id": "b5ba00a7",
   "metadata": {},
   "outputs": [
    {
     "name": "stdout",
     "output_type": "stream",
     "text": [
      "<class 'pandas.core.frame.DataFrame'>\n",
      "RangeIndex: 977 entries, 0 to 976\n",
      "Data columns (total 12 columns):\n",
      " #   Column         Non-Null Count  Dtype  \n",
      "---  ------         --------------  -----  \n",
      " 0   Manufacturer   977 non-null    int64  \n",
      " 1   Category       977 non-null    int64  \n",
      " 2   Screen Size    977 non-null    float64\n",
      " 3   CPU            977 non-null    int64  \n",
      " 4   RAM            977 non-null    int32  \n",
      " 5   GPU            968 non-null    float64\n",
      " 6   Weight         977 non-null    float64\n",
      " 7   Price          977 non-null    float64\n",
      " 8   Storage_size1  977 non-null    int32  \n",
      " 9   Storage_type1  977 non-null    int64  \n",
      " 10  Storage_size2  977 non-null    int32  \n",
      " 11  Storage_type2  977 non-null    int32  \n",
      "dtypes: float64(4), int32(4), int64(4)\n",
      "memory usage: 76.5 KB\n"
     ]
    }
   ],
   "source": [
    "pc.info()"
   ]
  },
  {
   "cell_type": "code",
   "execution_count": 99,
   "id": "bae541f0",
   "metadata": {},
   "outputs": [],
   "source": [
    "pc['GPU'] = pc['GPU'].fillna(0)"
   ]
  },
  {
   "cell_type": "code",
   "execution_count": 100,
   "id": "289a743c",
   "metadata": {},
   "outputs": [
    {
     "name": "stdout",
     "output_type": "stream",
     "text": [
      "<class 'pandas.core.frame.DataFrame'>\n",
      "RangeIndex: 977 entries, 0 to 976\n",
      "Data columns (total 12 columns):\n",
      " #   Column         Non-Null Count  Dtype  \n",
      "---  ------         --------------  -----  \n",
      " 0   Manufacturer   977 non-null    int64  \n",
      " 1   Category       977 non-null    int64  \n",
      " 2   Screen Size    977 non-null    float64\n",
      " 3   CPU            977 non-null    int64  \n",
      " 4   RAM            977 non-null    int32  \n",
      " 5   GPU            977 non-null    float64\n",
      " 6   Weight         977 non-null    float64\n",
      " 7   Price          977 non-null    float64\n",
      " 8   Storage_size1  977 non-null    int32  \n",
      " 9   Storage_type1  977 non-null    int64  \n",
      " 10  Storage_size2  977 non-null    int32  \n",
      " 11  Storage_type2  977 non-null    int32  \n",
      "dtypes: float64(4), int32(4), int64(4)\n",
      "memory usage: 76.5 KB\n"
     ]
    }
   ],
   "source": [
    "pc.info()"
   ]
  },
  {
   "cell_type": "code",
   "execution_count": 101,
   "id": "cff356aa",
   "metadata": {},
   "outputs": [],
   "source": [
    "pc['GPU'] = pc['GPU'].astype(int)"
   ]
  },
  {
   "cell_type": "code",
   "execution_count": 102,
   "id": "2926c2f6",
   "metadata": {},
   "outputs": [
    {
     "name": "stdout",
     "output_type": "stream",
     "text": [
      "<class 'pandas.core.frame.DataFrame'>\n",
      "RangeIndex: 977 entries, 0 to 976\n",
      "Data columns (total 12 columns):\n",
      " #   Column         Non-Null Count  Dtype  \n",
      "---  ------         --------------  -----  \n",
      " 0   Manufacturer   977 non-null    int64  \n",
      " 1   Category       977 non-null    int64  \n",
      " 2   Screen Size    977 non-null    float64\n",
      " 3   CPU            977 non-null    int64  \n",
      " 4   RAM            977 non-null    int32  \n",
      " 5   GPU            977 non-null    int32  \n",
      " 6   Weight         977 non-null    float64\n",
      " 7   Price          977 non-null    float64\n",
      " 8   Storage_size1  977 non-null    int32  \n",
      " 9   Storage_type1  977 non-null    int64  \n",
      " 10  Storage_size2  977 non-null    int32  \n",
      " 11  Storage_type2  977 non-null    int32  \n",
      "dtypes: float64(3), int32(5), int64(4)\n",
      "memory usage: 72.6 KB\n"
     ]
    }
   ],
   "source": [
    "pc.info()"
   ]
  },
  {
   "cell_type": "code",
   "execution_count": 103,
   "id": "ad6f302f",
   "metadata": {},
   "outputs": [],
   "source": [
    "pc.to_csv('pc.csv', index=False)"
   ]
  }
 ],
 "metadata": {
  "kernelspec": {
   "display_name": "Python 3 (ipykernel)",
   "language": "python",
   "name": "python3"
  },
  "language_info": {
   "codemirror_mode": {
    "name": "ipython",
    "version": 3
   },
   "file_extension": ".py",
   "mimetype": "text/x-python",
   "name": "python",
   "nbconvert_exporter": "python",
   "pygments_lexer": "ipython3",
   "version": "3.11.1"
  }
 },
 "nbformat": 4,
 "nbformat_minor": 5
}
