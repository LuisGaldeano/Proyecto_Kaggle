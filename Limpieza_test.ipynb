{
 "cells": [
  {
   "cell_type": "code",
   "execution_count": 1,
   "id": "bba67ecd",
   "metadata": {},
   "outputs": [],
   "source": [
    "import pandas as pd\n",
    "import numpy as np"
   ]
  },
  {
   "cell_type": "code",
   "execution_count": 3,
   "id": "edc9ba50",
   "metadata": {},
   "outputs": [],
   "source": [
    "orde = pd.read_csv('../Proyecto_Kaggle/data/test.csv')"
   ]
  },
  {
   "cell_type": "code",
   "execution_count": 3,
   "id": "84ccae17",
   "metadata": {},
   "outputs": [
    {
     "data": {
      "text/html": [
       "<div>\n",
       "<style scoped>\n",
       "    .dataframe tbody tr th:only-of-type {\n",
       "        vertical-align: middle;\n",
       "    }\n",
       "\n",
       "    .dataframe tbody tr th {\n",
       "        vertical-align: top;\n",
       "    }\n",
       "\n",
       "    .dataframe thead th {\n",
       "        text-align: right;\n",
       "    }\n",
       "</style>\n",
       "<table border=\"1\" class=\"dataframe\">\n",
       "  <thead>\n",
       "    <tr style=\"text-align: right;\">\n",
       "      <th></th>\n",
       "      <th>Manufacturer</th>\n",
       "      <th>Model Name</th>\n",
       "      <th>Category</th>\n",
       "      <th>Screen Size</th>\n",
       "      <th>Screen</th>\n",
       "      <th>CPU</th>\n",
       "      <th>RAM</th>\n",
       "      <th>Storage</th>\n",
       "      <th>GPU</th>\n",
       "      <th>Operating System</th>\n",
       "      <th>Operating System Version</th>\n",
       "      <th>Weight</th>\n",
       "    </tr>\n",
       "  </thead>\n",
       "  <tbody>\n",
       "    <tr>\n",
       "      <th>0</th>\n",
       "      <td>HP</td>\n",
       "      <td>15-bs053od (i7-7500U/6GB/1TB/W10)</td>\n",
       "      <td>Notebook</td>\n",
       "      <td>15.6\"</td>\n",
       "      <td>1366x768</td>\n",
       "      <td>Intel Core i7 7500U 2.7GHz</td>\n",
       "      <td>6GB</td>\n",
       "      <td>1TB HDD</td>\n",
       "      <td>Intel HD Graphics 620</td>\n",
       "      <td>Windows</td>\n",
       "      <td>10</td>\n",
       "      <td>2.04kg</td>\n",
       "    </tr>\n",
       "    <tr>\n",
       "      <th>1</th>\n",
       "      <td>Asus</td>\n",
       "      <td>Rog GL753VE-DS74</td>\n",
       "      <td>Gaming</td>\n",
       "      <td>17.3\"</td>\n",
       "      <td>Full HD 1920x1080</td>\n",
       "      <td>Intel Core i7 7700HQ 2.8GHz</td>\n",
       "      <td>16GB</td>\n",
       "      <td>256GB SSD +  1TB HDD</td>\n",
       "      <td>Nvidia GeForce GTX 1050 Ti</td>\n",
       "      <td>Windows</td>\n",
       "      <td>10</td>\n",
       "      <td>2.99kg</td>\n",
       "    </tr>\n",
       "    <tr>\n",
       "      <th>2</th>\n",
       "      <td>Dell</td>\n",
       "      <td>Inspiron 7579</td>\n",
       "      <td>2 in 1 Convertible</td>\n",
       "      <td>15.6\"</td>\n",
       "      <td>IPS Panel Full HD / Touchscreen 1920x1080</td>\n",
       "      <td>Intel Core i7 7500U 2.7GHz</td>\n",
       "      <td>12GB</td>\n",
       "      <td>512GB SSD</td>\n",
       "      <td>Intel HD Graphics 620</td>\n",
       "      <td>Windows</td>\n",
       "      <td>10</td>\n",
       "      <td>2.19kg</td>\n",
       "    </tr>\n",
       "    <tr>\n",
       "      <th>3</th>\n",
       "      <td>Toshiba</td>\n",
       "      <td>Portege Z30-C-1CV</td>\n",
       "      <td>Notebook</td>\n",
       "      <td>13.3\"</td>\n",
       "      <td>Full HD 1920x1080</td>\n",
       "      <td>Intel Core i5 6200U 2.3GHz</td>\n",
       "      <td>4GB</td>\n",
       "      <td>128GB SSD</td>\n",
       "      <td>Intel HD Graphics 520</td>\n",
       "      <td>Windows</td>\n",
       "      <td>7</td>\n",
       "      <td>1.2kg</td>\n",
       "    </tr>\n",
       "    <tr>\n",
       "      <th>4</th>\n",
       "      <td>Lenovo</td>\n",
       "      <td>IdeaPad 320-15ABR</td>\n",
       "      <td>Notebook</td>\n",
       "      <td>15.6\"</td>\n",
       "      <td>Full HD 1920x1080</td>\n",
       "      <td>AMD A12-Series 9720P 3.6GHz</td>\n",
       "      <td>6GB</td>\n",
       "      <td>256GB SSD</td>\n",
       "      <td>AMD Radeon 530</td>\n",
       "      <td>Windows</td>\n",
       "      <td>10</td>\n",
       "      <td>2.2kg</td>\n",
       "    </tr>\n",
       "  </tbody>\n",
       "</table>\n",
       "</div>"
      ],
      "text/plain": [
       "  Manufacturer                         Model Name            Category   \n",
       "0           HP  15-bs053od (i7-7500U/6GB/1TB/W10)            Notebook  \\\n",
       "1         Asus                   Rog GL753VE-DS74              Gaming   \n",
       "2         Dell                      Inspiron 7579  2 in 1 Convertible   \n",
       "3      Toshiba                  Portege Z30-C-1CV            Notebook   \n",
       "4       Lenovo                  IdeaPad 320-15ABR            Notebook   \n",
       "\n",
       "  Screen Size                                     Screen   \n",
       "0       15.6\"                                   1366x768  \\\n",
       "1       17.3\"                          Full HD 1920x1080   \n",
       "2       15.6\"  IPS Panel Full HD / Touchscreen 1920x1080   \n",
       "3       13.3\"                          Full HD 1920x1080   \n",
       "4       15.6\"                          Full HD 1920x1080   \n",
       "\n",
       "                           CPU   RAM               Storage   \n",
       "0   Intel Core i7 7500U 2.7GHz   6GB               1TB HDD  \\\n",
       "1  Intel Core i7 7700HQ 2.8GHz  16GB  256GB SSD +  1TB HDD   \n",
       "2   Intel Core i7 7500U 2.7GHz  12GB             512GB SSD   \n",
       "3   Intel Core i5 6200U 2.3GHz   4GB             128GB SSD   \n",
       "4  AMD A12-Series 9720P 3.6GHz   6GB             256GB SSD   \n",
       "\n",
       "                          GPU Operating System Operating System Version   \n",
       "0       Intel HD Graphics 620          Windows                       10  \\\n",
       "1  Nvidia GeForce GTX 1050 Ti          Windows                       10   \n",
       "2       Intel HD Graphics 620          Windows                       10   \n",
       "3       Intel HD Graphics 520          Windows                        7   \n",
       "4              AMD Radeon 530          Windows                       10   \n",
       "\n",
       "   Weight  \n",
       "0  2.04kg  \n",
       "1  2.99kg  \n",
       "2  2.19kg  \n",
       "3   1.2kg  \n",
       "4   2.2kg  "
      ]
     },
     "execution_count": 3,
     "metadata": {},
     "output_type": "execute_result"
    }
   ],
   "source": [
    "orde.head()"
   ]
  },
  {
   "cell_type": "code",
   "execution_count": 4,
   "id": "dd5889cf",
   "metadata": {},
   "outputs": [
    {
     "name": "stdout",
     "output_type": "stream",
     "text": [
      "<class 'pandas.core.frame.DataFrame'>\n",
      "RangeIndex: 325 entries, 0 to 324\n",
      "Data columns (total 12 columns):\n",
      " #   Column                    Non-Null Count  Dtype \n",
      "---  ------                    --------------  ----- \n",
      " 0   Manufacturer              325 non-null    object\n",
      " 1   Model Name                325 non-null    object\n",
      " 2   Category                  325 non-null    object\n",
      " 3   Screen Size               325 non-null    object\n",
      " 4   Screen                    325 non-null    object\n",
      " 5   CPU                       325 non-null    object\n",
      " 6   RAM                       325 non-null    object\n",
      " 7    Storage                  325 non-null    object\n",
      " 8   GPU                       325 non-null    object\n",
      " 9   Operating System          325 non-null    object\n",
      " 10  Operating System Version  291 non-null    object\n",
      " 11  Weight                    325 non-null    object\n",
      "dtypes: object(12)\n",
      "memory usage: 30.6+ KB\n"
     ]
    }
   ],
   "source": [
    "orde.info()"
   ]
  },
  {
   "cell_type": "markdown",
   "id": "141bdbc6",
   "metadata": {},
   "source": [
    "Elimino las filas que considero que no son relevantes o que tienen nulos (y no son relevantes según mi criterio)"
   ]
  },
  {
   "cell_type": "code",
   "execution_count": 5,
   "id": "77df4a6e",
   "metadata": {},
   "outputs": [],
   "source": [
    "pc = orde.drop(['Model Name', 'Screen', 'Operating System', 'Operating System Version'], axis=1)"
   ]
  },
  {
   "cell_type": "code",
   "execution_count": 6,
   "id": "1ea52c42",
   "metadata": {},
   "outputs": [
    {
     "data": {
      "text/html": [
       "<div>\n",
       "<style scoped>\n",
       "    .dataframe tbody tr th:only-of-type {\n",
       "        vertical-align: middle;\n",
       "    }\n",
       "\n",
       "    .dataframe tbody tr th {\n",
       "        vertical-align: top;\n",
       "    }\n",
       "\n",
       "    .dataframe thead th {\n",
       "        text-align: right;\n",
       "    }\n",
       "</style>\n",
       "<table border=\"1\" class=\"dataframe\">\n",
       "  <thead>\n",
       "    <tr style=\"text-align: right;\">\n",
       "      <th></th>\n",
       "      <th>Manufacturer</th>\n",
       "      <th>Category</th>\n",
       "      <th>Screen Size</th>\n",
       "      <th>CPU</th>\n",
       "      <th>RAM</th>\n",
       "      <th>Storage</th>\n",
       "      <th>GPU</th>\n",
       "      <th>Weight</th>\n",
       "    </tr>\n",
       "  </thead>\n",
       "  <tbody>\n",
       "    <tr>\n",
       "      <th>0</th>\n",
       "      <td>HP</td>\n",
       "      <td>Notebook</td>\n",
       "      <td>15.6\"</td>\n",
       "      <td>Intel Core i7 7500U 2.7GHz</td>\n",
       "      <td>6GB</td>\n",
       "      <td>1TB HDD</td>\n",
       "      <td>Intel HD Graphics 620</td>\n",
       "      <td>2.04kg</td>\n",
       "    </tr>\n",
       "    <tr>\n",
       "      <th>1</th>\n",
       "      <td>Asus</td>\n",
       "      <td>Gaming</td>\n",
       "      <td>17.3\"</td>\n",
       "      <td>Intel Core i7 7700HQ 2.8GHz</td>\n",
       "      <td>16GB</td>\n",
       "      <td>256GB SSD +  1TB HDD</td>\n",
       "      <td>Nvidia GeForce GTX 1050 Ti</td>\n",
       "      <td>2.99kg</td>\n",
       "    </tr>\n",
       "    <tr>\n",
       "      <th>2</th>\n",
       "      <td>Dell</td>\n",
       "      <td>2 in 1 Convertible</td>\n",
       "      <td>15.6\"</td>\n",
       "      <td>Intel Core i7 7500U 2.7GHz</td>\n",
       "      <td>12GB</td>\n",
       "      <td>512GB SSD</td>\n",
       "      <td>Intel HD Graphics 620</td>\n",
       "      <td>2.19kg</td>\n",
       "    </tr>\n",
       "    <tr>\n",
       "      <th>3</th>\n",
       "      <td>Toshiba</td>\n",
       "      <td>Notebook</td>\n",
       "      <td>13.3\"</td>\n",
       "      <td>Intel Core i5 6200U 2.3GHz</td>\n",
       "      <td>4GB</td>\n",
       "      <td>128GB SSD</td>\n",
       "      <td>Intel HD Graphics 520</td>\n",
       "      <td>1.2kg</td>\n",
       "    </tr>\n",
       "    <tr>\n",
       "      <th>4</th>\n",
       "      <td>Lenovo</td>\n",
       "      <td>Notebook</td>\n",
       "      <td>15.6\"</td>\n",
       "      <td>AMD A12-Series 9720P 3.6GHz</td>\n",
       "      <td>6GB</td>\n",
       "      <td>256GB SSD</td>\n",
       "      <td>AMD Radeon 530</td>\n",
       "      <td>2.2kg</td>\n",
       "    </tr>\n",
       "  </tbody>\n",
       "</table>\n",
       "</div>"
      ],
      "text/plain": [
       "  Manufacturer            Category Screen Size                          CPU   \n",
       "0           HP            Notebook       15.6\"   Intel Core i7 7500U 2.7GHz  \\\n",
       "1         Asus              Gaming       17.3\"  Intel Core i7 7700HQ 2.8GHz   \n",
       "2         Dell  2 in 1 Convertible       15.6\"   Intel Core i7 7500U 2.7GHz   \n",
       "3      Toshiba            Notebook       13.3\"   Intel Core i5 6200U 2.3GHz   \n",
       "4       Lenovo            Notebook       15.6\"  AMD A12-Series 9720P 3.6GHz   \n",
       "\n",
       "    RAM               Storage                         GPU  Weight  \n",
       "0   6GB               1TB HDD       Intel HD Graphics 620  2.04kg  \n",
       "1  16GB  256GB SSD +  1TB HDD  Nvidia GeForce GTX 1050 Ti  2.99kg  \n",
       "2  12GB             512GB SSD       Intel HD Graphics 620  2.19kg  \n",
       "3   4GB             128GB SSD       Intel HD Graphics 520   1.2kg  \n",
       "4   6GB             256GB SSD              AMD Radeon 530   2.2kg  "
      ]
     },
     "execution_count": 6,
     "metadata": {},
     "output_type": "execute_result"
    }
   ],
   "source": [
    "pc.head()"
   ]
  },
  {
   "cell_type": "code",
   "execution_count": 7,
   "id": "7b95af34",
   "metadata": {},
   "outputs": [
    {
     "data": {
      "text/plain": [
       "array(['HP', 'Asus', 'Dell', 'Toshiba', 'Lenovo', 'Fujitsu', 'Acer',\n",
       "       'MSI', 'Vero', 'Apple', 'Razer', 'Samsung'], dtype=object)"
      ]
     },
     "execution_count": 7,
     "metadata": {},
     "output_type": "execute_result"
    }
   ],
   "source": [
    "pc.Manufacturer.unique()"
   ]
  },
  {
   "cell_type": "code",
   "execution_count": 8,
   "id": "f518e272",
   "metadata": {},
   "outputs": [],
   "source": [
    "marcas = {'Apple': 5, 'MSI': 4, 'Samsung': 3, 'HP': 2, 'Acer': 2, 'Asus': 2, 'Dell': 2, 'Lenovo': 2, \n",
    "          'Chuwi': 0, 'Microsoft': 2, 'Toshiba': 2, 'Huawei': 1, 'Xiaomi': 1, 'Vero': 0, 'Razer': 1,\n",
    "         'Mediacom': 0, 'Google': 2, 'Fujitsu': 2, 'LG': 2}"
   ]
  },
  {
   "cell_type": "code",
   "execution_count": 9,
   "id": "8f8ff841",
   "metadata": {},
   "outputs": [],
   "source": [
    "pc['Manufacturer'] = pc['Manufacturer'].map(marcas)"
   ]
  },
  {
   "cell_type": "code",
   "execution_count": 10,
   "id": "9fc6a9bb",
   "metadata": {},
   "outputs": [
    {
     "data": {
      "text/html": [
       "<div>\n",
       "<style scoped>\n",
       "    .dataframe tbody tr th:only-of-type {\n",
       "        vertical-align: middle;\n",
       "    }\n",
       "\n",
       "    .dataframe tbody tr th {\n",
       "        vertical-align: top;\n",
       "    }\n",
       "\n",
       "    .dataframe thead th {\n",
       "        text-align: right;\n",
       "    }\n",
       "</style>\n",
       "<table border=\"1\" class=\"dataframe\">\n",
       "  <thead>\n",
       "    <tr style=\"text-align: right;\">\n",
       "      <th></th>\n",
       "      <th>Manufacturer</th>\n",
       "      <th>Category</th>\n",
       "      <th>Screen Size</th>\n",
       "      <th>CPU</th>\n",
       "      <th>RAM</th>\n",
       "      <th>Storage</th>\n",
       "      <th>GPU</th>\n",
       "      <th>Weight</th>\n",
       "    </tr>\n",
       "  </thead>\n",
       "  <tbody>\n",
       "    <tr>\n",
       "      <th>0</th>\n",
       "      <td>2</td>\n",
       "      <td>Notebook</td>\n",
       "      <td>15.6\"</td>\n",
       "      <td>Intel Core i7 7500U 2.7GHz</td>\n",
       "      <td>6GB</td>\n",
       "      <td>1TB HDD</td>\n",
       "      <td>Intel HD Graphics 620</td>\n",
       "      <td>2.04kg</td>\n",
       "    </tr>\n",
       "    <tr>\n",
       "      <th>1</th>\n",
       "      <td>2</td>\n",
       "      <td>Gaming</td>\n",
       "      <td>17.3\"</td>\n",
       "      <td>Intel Core i7 7700HQ 2.8GHz</td>\n",
       "      <td>16GB</td>\n",
       "      <td>256GB SSD +  1TB HDD</td>\n",
       "      <td>Nvidia GeForce GTX 1050 Ti</td>\n",
       "      <td>2.99kg</td>\n",
       "    </tr>\n",
       "    <tr>\n",
       "      <th>2</th>\n",
       "      <td>2</td>\n",
       "      <td>2 in 1 Convertible</td>\n",
       "      <td>15.6\"</td>\n",
       "      <td>Intel Core i7 7500U 2.7GHz</td>\n",
       "      <td>12GB</td>\n",
       "      <td>512GB SSD</td>\n",
       "      <td>Intel HD Graphics 620</td>\n",
       "      <td>2.19kg</td>\n",
       "    </tr>\n",
       "    <tr>\n",
       "      <th>3</th>\n",
       "      <td>2</td>\n",
       "      <td>Notebook</td>\n",
       "      <td>13.3\"</td>\n",
       "      <td>Intel Core i5 6200U 2.3GHz</td>\n",
       "      <td>4GB</td>\n",
       "      <td>128GB SSD</td>\n",
       "      <td>Intel HD Graphics 520</td>\n",
       "      <td>1.2kg</td>\n",
       "    </tr>\n",
       "    <tr>\n",
       "      <th>4</th>\n",
       "      <td>2</td>\n",
       "      <td>Notebook</td>\n",
       "      <td>15.6\"</td>\n",
       "      <td>AMD A12-Series 9720P 3.6GHz</td>\n",
       "      <td>6GB</td>\n",
       "      <td>256GB SSD</td>\n",
       "      <td>AMD Radeon 530</td>\n",
       "      <td>2.2kg</td>\n",
       "    </tr>\n",
       "  </tbody>\n",
       "</table>\n",
       "</div>"
      ],
      "text/plain": [
       "   Manufacturer            Category Screen Size                          CPU   \n",
       "0             2            Notebook       15.6\"   Intel Core i7 7500U 2.7GHz  \\\n",
       "1             2              Gaming       17.3\"  Intel Core i7 7700HQ 2.8GHz   \n",
       "2             2  2 in 1 Convertible       15.6\"   Intel Core i7 7500U 2.7GHz   \n",
       "3             2            Notebook       13.3\"   Intel Core i5 6200U 2.3GHz   \n",
       "4             2            Notebook       15.6\"  AMD A12-Series 9720P 3.6GHz   \n",
       "\n",
       "    RAM               Storage                         GPU  Weight  \n",
       "0   6GB               1TB HDD       Intel HD Graphics 620  2.04kg  \n",
       "1  16GB  256GB SSD +  1TB HDD  Nvidia GeForce GTX 1050 Ti  2.99kg  \n",
       "2  12GB             512GB SSD       Intel HD Graphics 620  2.19kg  \n",
       "3   4GB             128GB SSD       Intel HD Graphics 520   1.2kg  \n",
       "4   6GB             256GB SSD              AMD Radeon 530   2.2kg  "
      ]
     },
     "execution_count": 10,
     "metadata": {},
     "output_type": "execute_result"
    }
   ],
   "source": [
    "pc.head()"
   ]
  },
  {
   "cell_type": "code",
   "execution_count": 11,
   "id": "c0491e2f",
   "metadata": {},
   "outputs": [
    {
     "data": {
      "text/plain": [
       "array(['Notebook', 'Gaming', '2 in 1 Convertible', 'Netbook', 'Ultrabook',\n",
       "       'Workstation'], dtype=object)"
      ]
     },
     "execution_count": 11,
     "metadata": {},
     "output_type": "execute_result"
    }
   ],
   "source": [
    "pc.Category.unique()"
   ]
  },
  {
   "cell_type": "code",
   "execution_count": 12,
   "id": "a2f6331a",
   "metadata": {},
   "outputs": [],
   "source": [
    "category = {'Ultrabook': 4, 'Notebook': 3, 'Netbook': 1, 'Gaming': 6, '2 in 1 Convertible': 2, 'Workstation': 5}"
   ]
  },
  {
   "cell_type": "code",
   "execution_count": 13,
   "id": "b153498f",
   "metadata": {},
   "outputs": [],
   "source": [
    "pc['Category'] = pc['Category'].map(category)"
   ]
  },
  {
   "cell_type": "code",
   "execution_count": 14,
   "id": "4ac2825e",
   "metadata": {},
   "outputs": [
    {
     "name": "stdout",
     "output_type": "stream",
     "text": [
      "<class 'pandas.core.frame.DataFrame'>\n",
      "RangeIndex: 325 entries, 0 to 324\n",
      "Data columns (total 8 columns):\n",
      " #   Column        Non-Null Count  Dtype \n",
      "---  ------        --------------  ----- \n",
      " 0   Manufacturer  325 non-null    int64 \n",
      " 1   Category      325 non-null    int64 \n",
      " 2   Screen Size   325 non-null    object\n",
      " 3   CPU           325 non-null    object\n",
      " 4   RAM           325 non-null    object\n",
      " 5    Storage      325 non-null    object\n",
      " 6   GPU           325 non-null    object\n",
      " 7   Weight        325 non-null    object\n",
      "dtypes: int64(2), object(6)\n",
      "memory usage: 20.4+ KB\n"
     ]
    }
   ],
   "source": [
    "pc.info()"
   ]
  },
  {
   "cell_type": "code",
   "execution_count": 15,
   "id": "736905dc",
   "metadata": {},
   "outputs": [
    {
     "data": {
      "text/html": [
       "<div>\n",
       "<style scoped>\n",
       "    .dataframe tbody tr th:only-of-type {\n",
       "        vertical-align: middle;\n",
       "    }\n",
       "\n",
       "    .dataframe tbody tr th {\n",
       "        vertical-align: top;\n",
       "    }\n",
       "\n",
       "    .dataframe thead th {\n",
       "        text-align: right;\n",
       "    }\n",
       "</style>\n",
       "<table border=\"1\" class=\"dataframe\">\n",
       "  <thead>\n",
       "    <tr style=\"text-align: right;\">\n",
       "      <th></th>\n",
       "      <th>Manufacturer</th>\n",
       "      <th>Category</th>\n",
       "      <th>Screen Size</th>\n",
       "      <th>CPU</th>\n",
       "      <th>RAM</th>\n",
       "      <th>Storage</th>\n",
       "      <th>GPU</th>\n",
       "      <th>Weight</th>\n",
       "    </tr>\n",
       "  </thead>\n",
       "  <tbody>\n",
       "    <tr>\n",
       "      <th>0</th>\n",
       "      <td>2</td>\n",
       "      <td>3</td>\n",
       "      <td>15.6\"</td>\n",
       "      <td>Intel Core i7 7500U 2.7GHz</td>\n",
       "      <td>6GB</td>\n",
       "      <td>1TB HDD</td>\n",
       "      <td>Intel HD Graphics 620</td>\n",
       "      <td>2.04kg</td>\n",
       "    </tr>\n",
       "    <tr>\n",
       "      <th>1</th>\n",
       "      <td>2</td>\n",
       "      <td>6</td>\n",
       "      <td>17.3\"</td>\n",
       "      <td>Intel Core i7 7700HQ 2.8GHz</td>\n",
       "      <td>16GB</td>\n",
       "      <td>256GB SSD +  1TB HDD</td>\n",
       "      <td>Nvidia GeForce GTX 1050 Ti</td>\n",
       "      <td>2.99kg</td>\n",
       "    </tr>\n",
       "    <tr>\n",
       "      <th>2</th>\n",
       "      <td>2</td>\n",
       "      <td>2</td>\n",
       "      <td>15.6\"</td>\n",
       "      <td>Intel Core i7 7500U 2.7GHz</td>\n",
       "      <td>12GB</td>\n",
       "      <td>512GB SSD</td>\n",
       "      <td>Intel HD Graphics 620</td>\n",
       "      <td>2.19kg</td>\n",
       "    </tr>\n",
       "    <tr>\n",
       "      <th>3</th>\n",
       "      <td>2</td>\n",
       "      <td>3</td>\n",
       "      <td>13.3\"</td>\n",
       "      <td>Intel Core i5 6200U 2.3GHz</td>\n",
       "      <td>4GB</td>\n",
       "      <td>128GB SSD</td>\n",
       "      <td>Intel HD Graphics 520</td>\n",
       "      <td>1.2kg</td>\n",
       "    </tr>\n",
       "    <tr>\n",
       "      <th>4</th>\n",
       "      <td>2</td>\n",
       "      <td>3</td>\n",
       "      <td>15.6\"</td>\n",
       "      <td>AMD A12-Series 9720P 3.6GHz</td>\n",
       "      <td>6GB</td>\n",
       "      <td>256GB SSD</td>\n",
       "      <td>AMD Radeon 530</td>\n",
       "      <td>2.2kg</td>\n",
       "    </tr>\n",
       "  </tbody>\n",
       "</table>\n",
       "</div>"
      ],
      "text/plain": [
       "   Manufacturer  Category Screen Size                          CPU   RAM   \n",
       "0             2         3       15.6\"   Intel Core i7 7500U 2.7GHz   6GB  \\\n",
       "1             2         6       17.3\"  Intel Core i7 7700HQ 2.8GHz  16GB   \n",
       "2             2         2       15.6\"   Intel Core i7 7500U 2.7GHz  12GB   \n",
       "3             2         3       13.3\"   Intel Core i5 6200U 2.3GHz   4GB   \n",
       "4             2         3       15.6\"  AMD A12-Series 9720P 3.6GHz   6GB   \n",
       "\n",
       "                Storage                         GPU  Weight  \n",
       "0               1TB HDD       Intel HD Graphics 620  2.04kg  \n",
       "1  256GB SSD +  1TB HDD  Nvidia GeForce GTX 1050 Ti  2.99kg  \n",
       "2             512GB SSD       Intel HD Graphics 620  2.19kg  \n",
       "3             128GB SSD       Intel HD Graphics 520   1.2kg  \n",
       "4             256GB SSD              AMD Radeon 530   2.2kg  "
      ]
     },
     "execution_count": 15,
     "metadata": {},
     "output_type": "execute_result"
    }
   ],
   "source": [
    "pc.head()"
   ]
  },
  {
   "cell_type": "code",
   "execution_count": 16,
   "id": "2129e905",
   "metadata": {},
   "outputs": [
    {
     "data": {
      "text/plain": [
       "array(['15.6\"', '17.3\"', '13.3\"', '14.0\"', '12.5\"', '11.6\"', '12.0\"',\n",
       "       '10.1\"', '12.3\"', '15.0\"'], dtype=object)"
      ]
     },
     "execution_count": 16,
     "metadata": {},
     "output_type": "execute_result"
    }
   ],
   "source": [
    "pc['Screen Size'].unique()"
   ]
  },
  {
   "cell_type": "code",
   "execution_count": 17,
   "id": "ebeb3a1c",
   "metadata": {},
   "outputs": [],
   "source": [
    "pc['Screen Size'] = pc['Screen Size'].str.replace('\"', '')"
   ]
  },
  {
   "cell_type": "code",
   "execution_count": 18,
   "id": "f1177921",
   "metadata": {},
   "outputs": [
    {
     "data": {
      "text/plain": [
       "array(['15.6', '17.3', '13.3', '14.0', '12.5', '11.6', '12.0', '10.1',\n",
       "       '12.3', '15.0'], dtype=object)"
      ]
     },
     "execution_count": 18,
     "metadata": {},
     "output_type": "execute_result"
    }
   ],
   "source": [
    "pc['Screen Size'].unique()"
   ]
  },
  {
   "cell_type": "code",
   "execution_count": 19,
   "id": "7823eebb",
   "metadata": {},
   "outputs": [],
   "source": [
    "pc['Screen Size'] = pc['Screen Size'].astype(float)"
   ]
  },
  {
   "cell_type": "code",
   "execution_count": 20,
   "id": "51ef430a",
   "metadata": {},
   "outputs": [
    {
     "name": "stdout",
     "output_type": "stream",
     "text": [
      "<class 'pandas.core.frame.DataFrame'>\n",
      "RangeIndex: 325 entries, 0 to 324\n",
      "Data columns (total 8 columns):\n",
      " #   Column        Non-Null Count  Dtype  \n",
      "---  ------        --------------  -----  \n",
      " 0   Manufacturer  325 non-null    int64  \n",
      " 1   Category      325 non-null    int64  \n",
      " 2   Screen Size   325 non-null    float64\n",
      " 3   CPU           325 non-null    object \n",
      " 4   RAM           325 non-null    object \n",
      " 5    Storage      325 non-null    object \n",
      " 6   GPU           325 non-null    object \n",
      " 7   Weight        325 non-null    object \n",
      "dtypes: float64(1), int64(2), object(5)\n",
      "memory usage: 20.4+ KB\n"
     ]
    }
   ],
   "source": [
    "pc.info()"
   ]
  },
  {
   "cell_type": "code",
   "execution_count": 21,
   "id": "fb706c72",
   "metadata": {},
   "outputs": [
    {
     "data": {
      "text/html": [
       "<div>\n",
       "<style scoped>\n",
       "    .dataframe tbody tr th:only-of-type {\n",
       "        vertical-align: middle;\n",
       "    }\n",
       "\n",
       "    .dataframe tbody tr th {\n",
       "        vertical-align: top;\n",
       "    }\n",
       "\n",
       "    .dataframe thead th {\n",
       "        text-align: right;\n",
       "    }\n",
       "</style>\n",
       "<table border=\"1\" class=\"dataframe\">\n",
       "  <thead>\n",
       "    <tr style=\"text-align: right;\">\n",
       "      <th></th>\n",
       "      <th>Manufacturer</th>\n",
       "      <th>Category</th>\n",
       "      <th>Screen Size</th>\n",
       "      <th>CPU</th>\n",
       "      <th>RAM</th>\n",
       "      <th>Storage</th>\n",
       "      <th>GPU</th>\n",
       "      <th>Weight</th>\n",
       "    </tr>\n",
       "  </thead>\n",
       "  <tbody>\n",
       "    <tr>\n",
       "      <th>0</th>\n",
       "      <td>2</td>\n",
       "      <td>3</td>\n",
       "      <td>15.6</td>\n",
       "      <td>Intel Core i7 7500U 2.7GHz</td>\n",
       "      <td>6GB</td>\n",
       "      <td>1TB HDD</td>\n",
       "      <td>Intel HD Graphics 620</td>\n",
       "      <td>2.04kg</td>\n",
       "    </tr>\n",
       "    <tr>\n",
       "      <th>1</th>\n",
       "      <td>2</td>\n",
       "      <td>6</td>\n",
       "      <td>17.3</td>\n",
       "      <td>Intel Core i7 7700HQ 2.8GHz</td>\n",
       "      <td>16GB</td>\n",
       "      <td>256GB SSD +  1TB HDD</td>\n",
       "      <td>Nvidia GeForce GTX 1050 Ti</td>\n",
       "      <td>2.99kg</td>\n",
       "    </tr>\n",
       "    <tr>\n",
       "      <th>2</th>\n",
       "      <td>2</td>\n",
       "      <td>2</td>\n",
       "      <td>15.6</td>\n",
       "      <td>Intel Core i7 7500U 2.7GHz</td>\n",
       "      <td>12GB</td>\n",
       "      <td>512GB SSD</td>\n",
       "      <td>Intel HD Graphics 620</td>\n",
       "      <td>2.19kg</td>\n",
       "    </tr>\n",
       "    <tr>\n",
       "      <th>3</th>\n",
       "      <td>2</td>\n",
       "      <td>3</td>\n",
       "      <td>13.3</td>\n",
       "      <td>Intel Core i5 6200U 2.3GHz</td>\n",
       "      <td>4GB</td>\n",
       "      <td>128GB SSD</td>\n",
       "      <td>Intel HD Graphics 520</td>\n",
       "      <td>1.2kg</td>\n",
       "    </tr>\n",
       "    <tr>\n",
       "      <th>4</th>\n",
       "      <td>2</td>\n",
       "      <td>3</td>\n",
       "      <td>15.6</td>\n",
       "      <td>AMD A12-Series 9720P 3.6GHz</td>\n",
       "      <td>6GB</td>\n",
       "      <td>256GB SSD</td>\n",
       "      <td>AMD Radeon 530</td>\n",
       "      <td>2.2kg</td>\n",
       "    </tr>\n",
       "  </tbody>\n",
       "</table>\n",
       "</div>"
      ],
      "text/plain": [
       "   Manufacturer  Category  Screen Size                          CPU   RAM   \n",
       "0             2         3         15.6   Intel Core i7 7500U 2.7GHz   6GB  \\\n",
       "1             2         6         17.3  Intel Core i7 7700HQ 2.8GHz  16GB   \n",
       "2             2         2         15.6   Intel Core i7 7500U 2.7GHz  12GB   \n",
       "3             2         3         13.3   Intel Core i5 6200U 2.3GHz   4GB   \n",
       "4             2         3         15.6  AMD A12-Series 9720P 3.6GHz   6GB   \n",
       "\n",
       "                Storage                         GPU  Weight  \n",
       "0               1TB HDD       Intel HD Graphics 620  2.04kg  \n",
       "1  256GB SSD +  1TB HDD  Nvidia GeForce GTX 1050 Ti  2.99kg  \n",
       "2             512GB SSD       Intel HD Graphics 620  2.19kg  \n",
       "3             128GB SSD       Intel HD Graphics 520   1.2kg  \n",
       "4             256GB SSD              AMD Radeon 530   2.2kg  "
      ]
     },
     "execution_count": 21,
     "metadata": {},
     "output_type": "execute_result"
    }
   ],
   "source": [
    "pc.head()"
   ]
  },
  {
   "cell_type": "code",
   "execution_count": 22,
   "id": "5c36bc6b",
   "metadata": {},
   "outputs": [
    {
     "data": {
      "text/plain": [
       "array(['Intel Core i7 7500U 2.7GHz', 'Intel Core i7 7700HQ 2.8GHz',\n",
       "       'Intel Core i5 6200U 2.3GHz', 'AMD A12-Series 9720P 3.6GHz',\n",
       "       'Intel Core i5 7200U 2.5GHz', 'Intel Core M 6Y75 1.2GHz',\n",
       "       'Intel Core i3 6006U 2GHz', 'Intel Celeron Dual Core N3350 1.1GHz',\n",
       "       'Intel Pentium Quad Core N4200 1.1GHz',\n",
       "       'Intel Core i3 7100U 2.4GHz', 'Intel Core i5 6300U 2.4GHz',\n",
       "       'Intel Core i7 6600U 2.6GHz', 'Intel Core i5 7300HQ 2.5GHz',\n",
       "       'Intel Core i7 6500U 2.5GHz', 'Intel Core i7 6820HQ 2.7GHz',\n",
       "       'Intel Core i3 6100U 2.3GHz', 'AMD A9-Series 9420 3GHz',\n",
       "       'Intel Atom X5-Z8350 1.44GHz', 'Intel Core i7 6820HK 2.7GHz',\n",
       "       'Intel Core i7 6700HQ 2.6GHz',\n",
       "       'Intel Celeron Dual Core N3060 1.6GHz',\n",
       "       'Intel Core i5 7200U 2.7GHz', 'AMD A8-Series 7410 2.2GHz',\n",
       "       'Intel Core M 1.1GHz', 'Intel Core i5 6300HQ 2.3GHz',\n",
       "       'Intel Atom x5-Z8550 1.44GHz',\n",
       "       'Intel Pentium Dual Core 4405Y 1.5GHz',\n",
       "       'Intel Pentium Quad Core N3700 1.6GHz',\n",
       "       'Intel Core i5 8250U 1.6GHz',\n",
       "       'Intel Pentium Quad Core N3710 1.6GHz',\n",
       "       'Intel Celeron Dual Core 3205U 1.5GHz',\n",
       "       'AMD A6-Series 9220 2.5GHz', 'Intel Core M 6Y54 1.1GHz',\n",
       "       'Intel Core i3 6006U 2.0GHz', 'Intel Core i7 7560U 2.4GHz',\n",
       "       'Intel Core i7 6500U 2.50GHz', 'AMD E-Series 7110 1.8GHz',\n",
       "       'AMD A6-Series A6-9220 2.5GHz', 'Intel Core i7 8550U 1.8GHz',\n",
       "       'Intel Celeron Dual Core N3050 1.6GHz',\n",
       "       'Intel Celeron Dual Core N3350 2GHz',\n",
       "       'Samsung Cortex A72&A53 2.0GHz', 'AMD E-Series 9000 2.2GHz',\n",
       "       'Intel Core M 1.2GHz', 'Intel Core i7 7Y75 1.3GHz',\n",
       "       'AMD A12-Series 9720P 2.7GHz', 'Intel Core i5 1.6GHz',\n",
       "       'Intel Core i5 7Y54 1.2GHz', 'Intel Core M 6Y30 0.9GHz',\n",
       "       'AMD A9-Series 9410 2.9GHz'], dtype=object)"
      ]
     },
     "execution_count": 22,
     "metadata": {},
     "output_type": "execute_result"
    }
   ],
   "source": [
    "pc['CPU'].unique()"
   ]
  },
  {
   "cell_type": "code",
   "execution_count": 23,
   "id": "6d5756af",
   "metadata": {},
   "outputs": [],
   "source": [
    "cpu_range = {\n",
    "    'Intel Core i5 2.3GHz': 6,\n",
    "    'Intel Core i5 1.8GHz': 5,\n",
    "    'Intel Core i5 7200U 2.5GHz': 6,\n",
    "    'Intel Core i7 2.7GHz': 8,\n",
    "    'Intel Core i5 3.1GHz': 7,\n",
    "    'AMD A9-Series 9420 3GHz': 4,\n",
    "    'Intel Core i7 2.2GHz': 7,\n",
    "    'Intel Core i7 8550U 1.8GHz': 9,\n",
    "    'Intel Core i5 8250U 1.6GHz': 8,\n",
    "    'Intel Core i3 6006U 2GHz': 5,\n",
    "    'Intel Core i7 2.8GHz': 8,\n",
    "    'Intel Core M m3 1.2GHz': 4,\n",
    "    'Intel Core i7 7500U 2.7GHz': 7,\n",
    "    'Intel Core i7 2.9GHz': 8,\n",
    "    'Intel Core i3 7100U 2.4GHz': 6,\n",
    "    'Intel Atom x5-Z8350 1.44GHz': 3,\n",
    "    'Intel Core i5 7300HQ 2.5GHz': 7,\n",
    "    'AMD E-Series E2-9000e 1.5GHz': 3,\n",
    "    'Intel Core i5 1.6GHz': 6,\n",
    "    'Intel Core i7 8650U 1.9GHz': 9,\n",
    "    'Intel Atom x5-Z8300 1.44GHz': 3,\n",
    "    'AMD E-Series E2-6110 1.5GHz': 3,\n",
    "    'AMD A6-Series 9220 2.5GHz': 4,\n",
    "    'Intel Celeron Dual Core N3350 1.1GHz': 1,\n",
    "    'Intel Core i3 7130U 2.7GHz': 6,\n",
    "    'Intel Core i7 7700HQ 2.8GHz': 8,\n",
    "    'Intel Core i5 2.0GHz': 6,\n",
    "    'AMD Ryzen 1700 3GHz': 7,\n",
    "    'Intel Pentium Quad Core N4200 1.1GHz': 4,\n",
    "    'Intel Atom x5-Z8550 1.44GHz': 3,\n",
    "    'Intel Celeron Dual Core N3060 1.6GHz': 2,\n",
    "    'Intel Core i5 1.3GHz': 5,\n",
    "    'AMD FX 9830P 3GHz': 7,\n",
    "    'Intel Core i7 7560U 2.4GHz': 7,\n",
    "    'AMD E-Series 6110 1.5GHz': 3,\n",
    "    'Intel Core i5 6200U 2.3GHz': 6,\n",
    "    'Intel Core M 6Y75 1.2GHz': 4,\n",
    "    'Intel Core i5 7500U 2.7GHz': 7,\n",
    "    'Intel Core i3 6006U 2.2GHz': 5,\n",
    "    'AMD A6-Series 9220 2.9GHz': 4,\n",
    "    'Intel Core i7 6920HQ 2.9GHz': 9,\n",
    "    'Intel Core i5 7Y54 1.2GHz': 6,\n",
    "    'Intel Core i7 7820HK 2.9GHz': 9,\n",
    "    'Intel Xeon E3-1505M V6 3GHz': 10,\n",
    "    'Intel Core i7 6500U 2.5GHz': 8,\n",
    "    'AMD E-Series 9000e 1.5GHz': 4,\n",
    "    'AMD A10-Series A10-9620P 2.5GHz': 7,\n",
    "    'AMD A6-Series A6-9220 2.5GHz': 6,\n",
    "    'Intel Core i5 2.9GHz': 8,\n",
    "    'Intel Core i7 6600U 2.6GHz': 8,\n",
    "    'Intel Core i3 6006U 2.0GHz': 5,\n",
    "    'Intel Celeron Dual Core 3205U 1.5GHz': 4,\n",
    "    'Intel Core i7 7820HQ 2.9GHz': 9,\n",
    "    'AMD A10-Series 9600P 2.4GHz': 7,\n",
    "    'Intel Core i7 7600U 2.8GHz': 8,\n",
    "    'AMD A8-Series 7410 2.2GHz': 6,\n",
    "    'Intel Celeron Dual Core 3855U 1.6GHz': 4,\n",
    "    'Intel Pentium Quad Core N3710 1.6GHz': 5,\n",
    "    'AMD A12-Series 9720P 2.7GHz': 7,\n",
    "    'Intel Core i5 7300U 2.6GHz': 8,\n",
    "    'AMD A12-Series 9720P 3.6GHz': 9,\n",
    "    'Intel Celeron Quad Core N3450 1.1GHz': 5,\n",
    "    'Intel Celeron Dual Core N3060 1.60GHz': 4,\n",
    "    'Intel Core i5 6440HQ 2.6GHz': 7,\n",
    "    'Intel Core i7 6820HQ 2.7GHz': 8,\n",
    "    'AMD Ryzen 1600 3.2GHz': 9,\n",
    "    'Intel Core i7 7Y75 1.3GHz': 6,\n",
    "    'Intel Core i5 7440HQ 2.8GHz': 7,\n",
    "    'Intel Core i7 7660U 2.5GHz': 8,\n",
    "    'Intel Core i7 7700HQ 2.7GHz': 8,\n",
    "    'Intel Core M m3-7Y30 2.2GHz': 5,\n",
    "    'Intel Core i5 7Y57 1.2GHz': 6,\n",
    "    'Intel Core i7 6700HQ 2.6GHz': 8,\n",
    "    'Intel Core i3 6100U 2.3GHz': 5,\n",
    "    'AMD A10-Series 9620P 2.5GHz': 7,\n",
    "    'AMD E-Series 7110 1.8GHz': 4,\n",
    "    'Intel Celeron Dual Core N3350 2.0GHz': 4,\n",
    "    'AMD A9-Series A9-9420 3GHz': 6,\n",
    "    'Intel Core i7 6820HK 2.7GHz': 8,\n",
    "    'Intel Core M 7Y30 1.0GHz': 4,\n",
    "    'Intel Xeon E3-1535M v6 3.1GHz': 9,\n",
    "    'Intel Celeron Quad Core N3160 1.6GHz': 4,\n",
    "    'Intel Core i5 6300U 2.4GHz': 7,\n",
    "    'Intel Core i3 6100U 2.1GHz': 5,\n",
    "    'AMD E-Series E2-9000 2.2GHz': 5,\n",
    "    'Intel Celeron Dual Core N3050 1.6GHz': 4,\n",
    "    'Intel Core M M3-6Y30 0.9GHz': 3,\n",
    "    'AMD A9-Series 9420 2.9GHz': 6,\n",
    "    'Intel Core i5 6300HQ 2.3GHz': 7,\n",
    "    'AMD A6-Series 7310 2GHz': 5,\n",
    "    'Intel Atom Z8350 1.92GHz': 3,\n",
    "    'Intel Xeon E3-1535M v5 2.9GHz': 8,\n",
    "    'Intel Core i5 6260U 1.8GHz': 6,\n",
    "    'Intel Pentium Dual Core N4200 1.1GHz': 4,\n",
    "    'Intel Celeron Quad Core N3710 1.6GHz': 4,\n",
    "    'Intel Core M 1.2GHz': 2,\n",
    "    'AMD A12-Series 9700P 2.5GHz': 7,\n",
    "    'Intel Core i7 7500U 2.5GHz': 8,\n",
    "    'Intel Pentium Dual Core 4405U 2.1GHz': 5,\n",
    "    'AMD A4-Series 7210 2.2GHz': 5,\n",
    "    'Intel Core i7 6560U 2.2GHz': 7,\n",
    "    'Intel Core M m7-6Y75 1.2GHz': 6,\n",
    "    'AMD FX 8800P 2.1GHz': 6,\n",
    "    'Intel Core M M7-6Y75 1.2GHz': 5,\n",
    "    'Intel Core i5 7200U 2.50GHz': 7,\n",
    "    'Intel Core i5 7200U 2.70GHz': 7\n",
    "}"
   ]
  },
  {
   "cell_type": "code",
   "execution_count": 24,
   "id": "7e521db6",
   "metadata": {},
   "outputs": [],
   "source": [
    "pc['CPU'] = pc['CPU'].map(cpu_range)"
   ]
  },
  {
   "cell_type": "code",
   "execution_count": 25,
   "id": "889e4d83",
   "metadata": {},
   "outputs": [
    {
     "data": {
      "text/plain": [
       "array([ 7.,  8.,  6.,  9.,  4.,  5.,  1., nan,  2.,  3.])"
      ]
     },
     "execution_count": 25,
     "metadata": {},
     "output_type": "execute_result"
    }
   ],
   "source": [
    "pc['CPU'].unique()"
   ]
  },
  {
   "cell_type": "code",
   "execution_count": 27,
   "id": "3807c690",
   "metadata": {},
   "outputs": [],
   "source": [
    "pc['CPU'] = pc['CPU'].fillna(0)"
   ]
  },
  {
   "cell_type": "code",
   "execution_count": 28,
   "id": "4b65f9c8",
   "metadata": {},
   "outputs": [],
   "source": [
    "pc['CPU'] = pc['CPU'].astype(int)"
   ]
  },
  {
   "cell_type": "code",
   "execution_count": 29,
   "id": "7d60e1bc",
   "metadata": {},
   "outputs": [
    {
     "data": {
      "text/plain": [
       "array(['6GB', '16GB', '12GB', '4GB', '8GB', '2GB', '64GB', '32GB'],\n",
       "      dtype=object)"
      ]
     },
     "execution_count": 29,
     "metadata": {},
     "output_type": "execute_result"
    }
   ],
   "source": [
    "pc['RAM'].unique()"
   ]
  },
  {
   "cell_type": "code",
   "execution_count": 30,
   "id": "9e30b990",
   "metadata": {},
   "outputs": [],
   "source": [
    "pc['RAM'] = pc['RAM'].str.replace('GB', '')"
   ]
  },
  {
   "cell_type": "code",
   "execution_count": 31,
   "id": "e63b4a34",
   "metadata": {},
   "outputs": [
    {
     "data": {
      "text/plain": [
       "array(['6', '16', '12', '4', '8', '2', '64', '32'], dtype=object)"
      ]
     },
     "execution_count": 31,
     "metadata": {},
     "output_type": "execute_result"
    }
   ],
   "source": [
    "pc['RAM'].unique()"
   ]
  },
  {
   "cell_type": "code",
   "execution_count": 32,
   "id": "e153b8aa",
   "metadata": {},
   "outputs": [],
   "source": [
    "pc['RAM'] = pc['RAM'].astype(int)"
   ]
  },
  {
   "cell_type": "code",
   "execution_count": 33,
   "id": "9a707ec0",
   "metadata": {},
   "outputs": [
    {
     "name": "stdout",
     "output_type": "stream",
     "text": [
      "<class 'pandas.core.frame.DataFrame'>\n",
      "RangeIndex: 325 entries, 0 to 324\n",
      "Data columns (total 8 columns):\n",
      " #   Column        Non-Null Count  Dtype  \n",
      "---  ------        --------------  -----  \n",
      " 0   Manufacturer  325 non-null    int64  \n",
      " 1   Category      325 non-null    int64  \n",
      " 2   Screen Size   325 non-null    float64\n",
      " 3   CPU           325 non-null    int32  \n",
      " 4   RAM           325 non-null    int32  \n",
      " 5    Storage      325 non-null    object \n",
      " 6   GPU           325 non-null    object \n",
      " 7   Weight        325 non-null    object \n",
      "dtypes: float64(1), int32(2), int64(2), object(3)\n",
      "memory usage: 17.9+ KB\n"
     ]
    }
   ],
   "source": [
    "pc.info()"
   ]
  },
  {
   "cell_type": "code",
   "execution_count": 34,
   "id": "663c74a7",
   "metadata": {},
   "outputs": [],
   "source": [
    "pc = pc.rename(columns={' Storage': 'Storage'})"
   ]
  },
  {
   "cell_type": "code",
   "execution_count": 35,
   "id": "a1369cc8",
   "metadata": {},
   "outputs": [
    {
     "data": {
      "text/plain": [
       "array(['1TB HDD', '256GB SSD +  1TB HDD', '512GB SSD', '128GB SSD',\n",
       "       '256GB SSD', '500GB HDD', '128GB SSD +  1TB HDD', '1TB Hybrid',\n",
       "       '32GB Flash Storage', '256GB SSD +  500GB HDD',\n",
       "       '16GB Flash Storage', '1TB SSD', '2TB HDD', '256GB Flash Storage',\n",
       "       '512GB SSD +  1TB Hybrid', '64GB Flash Storage', '1GB SSD',\n",
       "       '16GB SSD', '256GB SSD +  1TB Hybrid', '512GB SSD +  1TB HDD',\n",
       "       '512GB Flash Storage', '32GB SSD'], dtype=object)"
      ]
     },
     "execution_count": 35,
     "metadata": {},
     "output_type": "execute_result"
    }
   ],
   "source": [
    "pc['Storage'].unique()"
   ]
  },
  {
   "cell_type": "code",
   "execution_count": 36,
   "id": "123f166f",
   "metadata": {},
   "outputs": [],
   "source": [
    "pc['Storage'] = pc['Storage'].str.replace('Storage', '')"
   ]
  },
  {
   "cell_type": "code",
   "execution_count": 37,
   "id": "dc904cf5",
   "metadata": {},
   "outputs": [
    {
     "data": {
      "text/plain": [
       "array(['1TB HDD', '256GB SSD +  1TB HDD', '512GB SSD', '128GB SSD',\n",
       "       '256GB SSD', '500GB HDD', '128GB SSD +  1TB HDD', '1TB Hybrid',\n",
       "       '32GB Flash ', '256GB SSD +  500GB HDD', '16GB Flash ', '1TB SSD',\n",
       "       '2TB HDD', '256GB Flash ', '512GB SSD +  1TB Hybrid',\n",
       "       '64GB Flash ', '1GB SSD', '16GB SSD', '256GB SSD +  1TB Hybrid',\n",
       "       '512GB SSD +  1TB HDD', '512GB Flash ', '32GB SSD'], dtype=object)"
      ]
     },
     "execution_count": 37,
     "metadata": {},
     "output_type": "execute_result"
    }
   ],
   "source": [
    "pc['Storage'].unique()"
   ]
  },
  {
   "cell_type": "code",
   "execution_count": 38,
   "id": "8e72de07",
   "metadata": {},
   "outputs": [],
   "source": [
    "pc[['Storage_size', 'Storage_type']] = pc['Storage'].str.split(' + ', n=1, expand=True)"
   ]
  },
  {
   "cell_type": "code",
   "execution_count": 39,
   "id": "42f4b139",
   "metadata": {},
   "outputs": [
    {
     "data": {
      "text/html": [
       "<div>\n",
       "<style scoped>\n",
       "    .dataframe tbody tr th:only-of-type {\n",
       "        vertical-align: middle;\n",
       "    }\n",
       "\n",
       "    .dataframe tbody tr th {\n",
       "        vertical-align: top;\n",
       "    }\n",
       "\n",
       "    .dataframe thead th {\n",
       "        text-align: right;\n",
       "    }\n",
       "</style>\n",
       "<table border=\"1\" class=\"dataframe\">\n",
       "  <thead>\n",
       "    <tr style=\"text-align: right;\">\n",
       "      <th></th>\n",
       "      <th>Manufacturer</th>\n",
       "      <th>Category</th>\n",
       "      <th>Screen Size</th>\n",
       "      <th>CPU</th>\n",
       "      <th>RAM</th>\n",
       "      <th>Storage</th>\n",
       "      <th>GPU</th>\n",
       "      <th>Weight</th>\n",
       "      <th>Storage_size</th>\n",
       "      <th>Storage_type</th>\n",
       "    </tr>\n",
       "  </thead>\n",
       "  <tbody>\n",
       "    <tr>\n",
       "      <th>0</th>\n",
       "      <td>2</td>\n",
       "      <td>3</td>\n",
       "      <td>15.6</td>\n",
       "      <td>7</td>\n",
       "      <td>6</td>\n",
       "      <td>1TB HDD</td>\n",
       "      <td>Intel HD Graphics 620</td>\n",
       "      <td>2.04kg</td>\n",
       "      <td>1TB HDD</td>\n",
       "      <td>None</td>\n",
       "    </tr>\n",
       "    <tr>\n",
       "      <th>1</th>\n",
       "      <td>2</td>\n",
       "      <td>6</td>\n",
       "      <td>17.3</td>\n",
       "      <td>8</td>\n",
       "      <td>16</td>\n",
       "      <td>256GB SSD +  1TB HDD</td>\n",
       "      <td>Nvidia GeForce GTX 1050 Ti</td>\n",
       "      <td>2.99kg</td>\n",
       "      <td>256GB SSD +</td>\n",
       "      <td>1TB HDD</td>\n",
       "    </tr>\n",
       "    <tr>\n",
       "      <th>2</th>\n",
       "      <td>2</td>\n",
       "      <td>2</td>\n",
       "      <td>15.6</td>\n",
       "      <td>7</td>\n",
       "      <td>12</td>\n",
       "      <td>512GB SSD</td>\n",
       "      <td>Intel HD Graphics 620</td>\n",
       "      <td>2.19kg</td>\n",
       "      <td>512GB SSD</td>\n",
       "      <td>None</td>\n",
       "    </tr>\n",
       "    <tr>\n",
       "      <th>3</th>\n",
       "      <td>2</td>\n",
       "      <td>3</td>\n",
       "      <td>13.3</td>\n",
       "      <td>6</td>\n",
       "      <td>4</td>\n",
       "      <td>128GB SSD</td>\n",
       "      <td>Intel HD Graphics 520</td>\n",
       "      <td>1.2kg</td>\n",
       "      <td>128GB SSD</td>\n",
       "      <td>None</td>\n",
       "    </tr>\n",
       "    <tr>\n",
       "      <th>4</th>\n",
       "      <td>2</td>\n",
       "      <td>3</td>\n",
       "      <td>15.6</td>\n",
       "      <td>9</td>\n",
       "      <td>6</td>\n",
       "      <td>256GB SSD</td>\n",
       "      <td>AMD Radeon 530</td>\n",
       "      <td>2.2kg</td>\n",
       "      <td>256GB SSD</td>\n",
       "      <td>None</td>\n",
       "    </tr>\n",
       "  </tbody>\n",
       "</table>\n",
       "</div>"
      ],
      "text/plain": [
       "   Manufacturer  Category  Screen Size  CPU  RAM               Storage   \n",
       "0             2         3         15.6    7    6               1TB HDD  \\\n",
       "1             2         6         17.3    8   16  256GB SSD +  1TB HDD   \n",
       "2             2         2         15.6    7   12             512GB SSD   \n",
       "3             2         3         13.3    6    4             128GB SSD   \n",
       "4             2         3         15.6    9    6             256GB SSD   \n",
       "\n",
       "                          GPU  Weight Storage_size Storage_type  \n",
       "0       Intel HD Graphics 620  2.04kg      1TB HDD         None  \n",
       "1  Nvidia GeForce GTX 1050 Ti  2.99kg  256GB SSD +      1TB HDD  \n",
       "2       Intel HD Graphics 620  2.19kg    512GB SSD         None  \n",
       "3       Intel HD Graphics 520   1.2kg    128GB SSD         None  \n",
       "4              AMD Radeon 530   2.2kg    256GB SSD         None  "
      ]
     },
     "execution_count": 39,
     "metadata": {},
     "output_type": "execute_result"
    }
   ],
   "source": [
    "pc.head()"
   ]
  },
  {
   "cell_type": "code",
   "execution_count": 40,
   "id": "68f1e68b",
   "metadata": {},
   "outputs": [],
   "source": [
    "pc = pc.drop('Storage', axis=1)"
   ]
  },
  {
   "cell_type": "code",
   "execution_count": 41,
   "id": "27f3c1db",
   "metadata": {},
   "outputs": [
    {
     "data": {
      "text/plain": [
       "array(['1TB HDD', '256GB SSD +', '512GB SSD', '128GB SSD', '256GB SSD',\n",
       "       '500GB HDD', '128GB SSD +', '1TB Hybrid', '32GB Flash ',\n",
       "       '16GB Flash ', '1TB SSD', '2TB HDD', '256GB Flash ', '512GB SSD +',\n",
       "       '64GB Flash ', '1GB SSD', '16GB SSD', '512GB Flash ', '32GB SSD'],\n",
       "      dtype=object)"
      ]
     },
     "execution_count": 41,
     "metadata": {},
     "output_type": "execute_result"
    }
   ],
   "source": [
    "pc['Storage_size'].unique()"
   ]
  },
  {
   "cell_type": "code",
   "execution_count": 42,
   "id": "7ed5a868",
   "metadata": {},
   "outputs": [],
   "source": [
    "pc['Storage_size'] = pc['Storage_size'].str.replace(' +', '')"
   ]
  },
  {
   "cell_type": "code",
   "execution_count": 43,
   "id": "0112837a",
   "metadata": {},
   "outputs": [
    {
     "data": {
      "text/plain": [
       "array(['1TB HDD', '256GB SSD', '512GB SSD', '128GB SSD', '500GB HDD',\n",
       "       '1TB Hybrid', '32GB Flash ', '16GB Flash ', '1TB SSD', '2TB HDD',\n",
       "       '256GB Flash ', '64GB Flash ', '1GB SSD', '16GB SSD',\n",
       "       '512GB Flash ', '32GB SSD'], dtype=object)"
      ]
     },
     "execution_count": 43,
     "metadata": {},
     "output_type": "execute_result"
    }
   ],
   "source": [
    "pc['Storage_size'].unique()"
   ]
  },
  {
   "cell_type": "code",
   "execution_count": 44,
   "id": "32aaa769",
   "metadata": {},
   "outputs": [],
   "source": [
    "pc['Storage_size'] = pc['Storage_size'].str.replace('GB', '000')"
   ]
  },
  {
   "cell_type": "code",
   "execution_count": 45,
   "id": "d351078c",
   "metadata": {},
   "outputs": [
    {
     "data": {
      "text/plain": [
       "array(['1TB HDD', '256000 SSD', '512000 SSD', '128000 SSD', '500000 HDD',\n",
       "       '1TB Hybrid', '32000 Flash ', '16000 Flash ', '1TB SSD', '2TB HDD',\n",
       "       '256000 Flash ', '64000 Flash ', '1000 SSD', '16000 SSD',\n",
       "       '512000 Flash ', '32000 SSD'], dtype=object)"
      ]
     },
     "execution_count": 45,
     "metadata": {},
     "output_type": "execute_result"
    }
   ],
   "source": [
    "pc['Storage_size'].unique()"
   ]
  },
  {
   "cell_type": "code",
   "execution_count": 46,
   "id": "e8c43663",
   "metadata": {},
   "outputs": [],
   "source": [
    "pc['Storage_size'] = pc['Storage_size'].str.replace('TB', '000000')"
   ]
  },
  {
   "cell_type": "code",
   "execution_count": 47,
   "id": "62816d4f",
   "metadata": {},
   "outputs": [
    {
     "data": {
      "text/plain": [
       "array(['1000000 HDD', '256000 SSD', '512000 SSD', '128000 SSD',\n",
       "       '500000 HDD', '1000000 Hybrid', '32000 Flash ', '16000 Flash ',\n",
       "       '1000000 SSD', '2000000 HDD', '256000 Flash ', '64000 Flash ',\n",
       "       '1000 SSD', '16000 SSD', '512000 Flash ', '32000 SSD'],\n",
       "      dtype=object)"
      ]
     },
     "execution_count": 47,
     "metadata": {},
     "output_type": "execute_result"
    }
   ],
   "source": [
    "pc['Storage_size'].unique()"
   ]
  },
  {
   "cell_type": "code",
   "execution_count": 48,
   "id": "7e38bc1e",
   "metadata": {},
   "outputs": [],
   "source": [
    "pc[['Storage_size1', 'Storage_type1']] = pc['Storage_size'].str.split(' ', n=1, expand=True)"
   ]
  },
  {
   "cell_type": "code",
   "execution_count": 49,
   "id": "770eec8d",
   "metadata": {},
   "outputs": [
    {
     "name": "stdout",
     "output_type": "stream",
     "text": [
      "<class 'pandas.core.frame.DataFrame'>\n",
      "RangeIndex: 325 entries, 0 to 324\n",
      "Data columns (total 11 columns):\n",
      " #   Column         Non-Null Count  Dtype  \n",
      "---  ------         --------------  -----  \n",
      " 0   Manufacturer   325 non-null    int64  \n",
      " 1   Category       325 non-null    int64  \n",
      " 2   Screen Size    325 non-null    float64\n",
      " 3   CPU            325 non-null    int32  \n",
      " 4   RAM            325 non-null    int32  \n",
      " 5   GPU            325 non-null    object \n",
      " 6   Weight         325 non-null    object \n",
      " 7   Storage_size   325 non-null    object \n",
      " 8   Storage_type   48 non-null     object \n",
      " 9   Storage_size1  325 non-null    object \n",
      " 10  Storage_type1  325 non-null    object \n",
      "dtypes: float64(1), int32(2), int64(2), object(6)\n",
      "memory usage: 25.5+ KB\n"
     ]
    }
   ],
   "source": [
    "pc.info()"
   ]
  },
  {
   "cell_type": "code",
   "execution_count": 50,
   "id": "27139815",
   "metadata": {},
   "outputs": [
    {
     "data": {
      "text/html": [
       "<div>\n",
       "<style scoped>\n",
       "    .dataframe tbody tr th:only-of-type {\n",
       "        vertical-align: middle;\n",
       "    }\n",
       "\n",
       "    .dataframe tbody tr th {\n",
       "        vertical-align: top;\n",
       "    }\n",
       "\n",
       "    .dataframe thead th {\n",
       "        text-align: right;\n",
       "    }\n",
       "</style>\n",
       "<table border=\"1\" class=\"dataframe\">\n",
       "  <thead>\n",
       "    <tr style=\"text-align: right;\">\n",
       "      <th></th>\n",
       "      <th>Manufacturer</th>\n",
       "      <th>Category</th>\n",
       "      <th>Screen Size</th>\n",
       "      <th>CPU</th>\n",
       "      <th>RAM</th>\n",
       "      <th>GPU</th>\n",
       "      <th>Weight</th>\n",
       "      <th>Storage_size</th>\n",
       "      <th>Storage_type</th>\n",
       "      <th>Storage_size1</th>\n",
       "      <th>Storage_type1</th>\n",
       "    </tr>\n",
       "  </thead>\n",
       "  <tbody>\n",
       "    <tr>\n",
       "      <th>0</th>\n",
       "      <td>2</td>\n",
       "      <td>3</td>\n",
       "      <td>15.6</td>\n",
       "      <td>7</td>\n",
       "      <td>6</td>\n",
       "      <td>Intel HD Graphics 620</td>\n",
       "      <td>2.04kg</td>\n",
       "      <td>1000000 HDD</td>\n",
       "      <td>None</td>\n",
       "      <td>1000000</td>\n",
       "      <td>HDD</td>\n",
       "    </tr>\n",
       "    <tr>\n",
       "      <th>1</th>\n",
       "      <td>2</td>\n",
       "      <td>6</td>\n",
       "      <td>17.3</td>\n",
       "      <td>8</td>\n",
       "      <td>16</td>\n",
       "      <td>Nvidia GeForce GTX 1050 Ti</td>\n",
       "      <td>2.99kg</td>\n",
       "      <td>256000 SSD</td>\n",
       "      <td>1TB HDD</td>\n",
       "      <td>256000</td>\n",
       "      <td>SSD</td>\n",
       "    </tr>\n",
       "    <tr>\n",
       "      <th>2</th>\n",
       "      <td>2</td>\n",
       "      <td>2</td>\n",
       "      <td>15.6</td>\n",
       "      <td>7</td>\n",
       "      <td>12</td>\n",
       "      <td>Intel HD Graphics 620</td>\n",
       "      <td>2.19kg</td>\n",
       "      <td>512000 SSD</td>\n",
       "      <td>None</td>\n",
       "      <td>512000</td>\n",
       "      <td>SSD</td>\n",
       "    </tr>\n",
       "    <tr>\n",
       "      <th>3</th>\n",
       "      <td>2</td>\n",
       "      <td>3</td>\n",
       "      <td>13.3</td>\n",
       "      <td>6</td>\n",
       "      <td>4</td>\n",
       "      <td>Intel HD Graphics 520</td>\n",
       "      <td>1.2kg</td>\n",
       "      <td>128000 SSD</td>\n",
       "      <td>None</td>\n",
       "      <td>128000</td>\n",
       "      <td>SSD</td>\n",
       "    </tr>\n",
       "    <tr>\n",
       "      <th>4</th>\n",
       "      <td>2</td>\n",
       "      <td>3</td>\n",
       "      <td>15.6</td>\n",
       "      <td>9</td>\n",
       "      <td>6</td>\n",
       "      <td>AMD Radeon 530</td>\n",
       "      <td>2.2kg</td>\n",
       "      <td>256000 SSD</td>\n",
       "      <td>None</td>\n",
       "      <td>256000</td>\n",
       "      <td>SSD</td>\n",
       "    </tr>\n",
       "  </tbody>\n",
       "</table>\n",
       "</div>"
      ],
      "text/plain": [
       "   Manufacturer  Category  Screen Size  CPU  RAM                         GPU   \n",
       "0             2         3         15.6    7    6       Intel HD Graphics 620  \\\n",
       "1             2         6         17.3    8   16  Nvidia GeForce GTX 1050 Ti   \n",
       "2             2         2         15.6    7   12       Intel HD Graphics 620   \n",
       "3             2         3         13.3    6    4       Intel HD Graphics 520   \n",
       "4             2         3         15.6    9    6              AMD Radeon 530   \n",
       "\n",
       "   Weight Storage_size Storage_type Storage_size1 Storage_type1  \n",
       "0  2.04kg  1000000 HDD         None       1000000           HDD  \n",
       "1  2.99kg   256000 SSD      1TB HDD        256000           SSD  \n",
       "2  2.19kg   512000 SSD         None        512000           SSD  \n",
       "3   1.2kg   128000 SSD         None        128000           SSD  \n",
       "4   2.2kg   256000 SSD         None        256000           SSD  "
      ]
     },
     "execution_count": 50,
     "metadata": {},
     "output_type": "execute_result"
    }
   ],
   "source": [
    "pc.head()"
   ]
  },
  {
   "cell_type": "code",
   "execution_count": 51,
   "id": "7edada34",
   "metadata": {},
   "outputs": [],
   "source": [
    "pc['Storage_size1'] = pc['Storage_size1'].astype(int)"
   ]
  },
  {
   "cell_type": "code",
   "execution_count": 52,
   "id": "7981f279",
   "metadata": {},
   "outputs": [],
   "source": [
    "pc = pc.drop('Storage_size', axis=1)"
   ]
  },
  {
   "cell_type": "code",
   "execution_count": 53,
   "id": "2dffff40",
   "metadata": {},
   "outputs": [
    {
     "data": {
      "text/plain": [
       "array([None, '1TB HDD', '500GB HDD', '1TB Hybrid'], dtype=object)"
      ]
     },
     "execution_count": 53,
     "metadata": {},
     "output_type": "execute_result"
    }
   ],
   "source": [
    "pc['Storage_type'].unique()"
   ]
  },
  {
   "cell_type": "code",
   "execution_count": 54,
   "id": "1c90b93f",
   "metadata": {},
   "outputs": [],
   "source": [
    "pc['Storage_type'] = pc['Storage_type'].str.replace('+ ', '')"
   ]
  },
  {
   "cell_type": "code",
   "execution_count": 55,
   "id": "329beaa4",
   "metadata": {},
   "outputs": [
    {
     "data": {
      "text/plain": [
       "array([None, '1TB HDD', '500GB HDD', '1TB Hybrid'], dtype=object)"
      ]
     },
     "execution_count": 55,
     "metadata": {},
     "output_type": "execute_result"
    }
   ],
   "source": [
    "pc['Storage_type'].unique()"
   ]
  },
  {
   "cell_type": "code",
   "execution_count": 56,
   "id": "9c3746f6",
   "metadata": {},
   "outputs": [],
   "source": [
    "pc['Storage_type'] = pc['Storage_type'].str.replace('GB', '000')\n",
    "pc['Storage_type'] = pc['Storage_type'].str.replace('TB', '000000')"
   ]
  },
  {
   "cell_type": "code",
   "execution_count": 57,
   "id": "53a37022",
   "metadata": {},
   "outputs": [
    {
     "data": {
      "text/plain": [
       "array([None, '1000000 HDD', '500000 HDD', '1000000 Hybrid'], dtype=object)"
      ]
     },
     "execution_count": 57,
     "metadata": {},
     "output_type": "execute_result"
    }
   ],
   "source": [
    "pc['Storage_type'].unique()"
   ]
  },
  {
   "cell_type": "code",
   "execution_count": 58,
   "id": "5861fad3",
   "metadata": {},
   "outputs": [],
   "source": [
    "pc['Storage_type'] = pc['Storage_type'].fillna(0)"
   ]
  },
  {
   "cell_type": "code",
   "execution_count": 59,
   "id": "5ad3702b",
   "metadata": {},
   "outputs": [
    {
     "data": {
      "text/plain": [
       "array([0, '1000000 HDD', '500000 HDD', '1000000 Hybrid'], dtype=object)"
      ]
     },
     "execution_count": 59,
     "metadata": {},
     "output_type": "execute_result"
    }
   ],
   "source": [
    "pc['Storage_type'].unique()"
   ]
  },
  {
   "cell_type": "code",
   "execution_count": 60,
   "id": "8aaa71e1",
   "metadata": {},
   "outputs": [],
   "source": [
    "pc['Storage_type'] = pc['Storage_type'].str.strip()"
   ]
  },
  {
   "cell_type": "code",
   "execution_count": 61,
   "id": "900157ce",
   "metadata": {},
   "outputs": [
    {
     "data": {
      "text/plain": [
       "array([nan, '1000000 HDD', '500000 HDD', '1000000 Hybrid'], dtype=object)"
      ]
     },
     "execution_count": 61,
     "metadata": {},
     "output_type": "execute_result"
    }
   ],
   "source": [
    "pc['Storage_type'].unique()"
   ]
  },
  {
   "cell_type": "code",
   "execution_count": 62,
   "id": "254b46fd",
   "metadata": {},
   "outputs": [],
   "source": [
    "pc['Storage_type'] = pc['Storage_type'].fillna(0)"
   ]
  },
  {
   "cell_type": "code",
   "execution_count": 63,
   "id": "44ebda44",
   "metadata": {},
   "outputs": [],
   "source": [
    "pc[['Storage_size2', 'Storage_type2']] = pc['Storage_type'].str.split(' ', n=1, expand=True)"
   ]
  },
  {
   "cell_type": "code",
   "execution_count": 64,
   "id": "eb75131f",
   "metadata": {},
   "outputs": [
    {
     "data": {
      "text/html": [
       "<div>\n",
       "<style scoped>\n",
       "    .dataframe tbody tr th:only-of-type {\n",
       "        vertical-align: middle;\n",
       "    }\n",
       "\n",
       "    .dataframe tbody tr th {\n",
       "        vertical-align: top;\n",
       "    }\n",
       "\n",
       "    .dataframe thead th {\n",
       "        text-align: right;\n",
       "    }\n",
       "</style>\n",
       "<table border=\"1\" class=\"dataframe\">\n",
       "  <thead>\n",
       "    <tr style=\"text-align: right;\">\n",
       "      <th></th>\n",
       "      <th>Manufacturer</th>\n",
       "      <th>Category</th>\n",
       "      <th>Screen Size</th>\n",
       "      <th>CPU</th>\n",
       "      <th>RAM</th>\n",
       "      <th>GPU</th>\n",
       "      <th>Weight</th>\n",
       "      <th>Storage_type</th>\n",
       "      <th>Storage_size1</th>\n",
       "      <th>Storage_type1</th>\n",
       "      <th>Storage_size2</th>\n",
       "      <th>Storage_type2</th>\n",
       "    </tr>\n",
       "  </thead>\n",
       "  <tbody>\n",
       "    <tr>\n",
       "      <th>0</th>\n",
       "      <td>2</td>\n",
       "      <td>3</td>\n",
       "      <td>15.6</td>\n",
       "      <td>7</td>\n",
       "      <td>6</td>\n",
       "      <td>Intel HD Graphics 620</td>\n",
       "      <td>2.04kg</td>\n",
       "      <td>0</td>\n",
       "      <td>1000000</td>\n",
       "      <td>HDD</td>\n",
       "      <td>NaN</td>\n",
       "      <td>NaN</td>\n",
       "    </tr>\n",
       "    <tr>\n",
       "      <th>1</th>\n",
       "      <td>2</td>\n",
       "      <td>6</td>\n",
       "      <td>17.3</td>\n",
       "      <td>8</td>\n",
       "      <td>16</td>\n",
       "      <td>Nvidia GeForce GTX 1050 Ti</td>\n",
       "      <td>2.99kg</td>\n",
       "      <td>1000000 HDD</td>\n",
       "      <td>256000</td>\n",
       "      <td>SSD</td>\n",
       "      <td>1000000</td>\n",
       "      <td>HDD</td>\n",
       "    </tr>\n",
       "    <tr>\n",
       "      <th>2</th>\n",
       "      <td>2</td>\n",
       "      <td>2</td>\n",
       "      <td>15.6</td>\n",
       "      <td>7</td>\n",
       "      <td>12</td>\n",
       "      <td>Intel HD Graphics 620</td>\n",
       "      <td>2.19kg</td>\n",
       "      <td>0</td>\n",
       "      <td>512000</td>\n",
       "      <td>SSD</td>\n",
       "      <td>NaN</td>\n",
       "      <td>NaN</td>\n",
       "    </tr>\n",
       "    <tr>\n",
       "      <th>3</th>\n",
       "      <td>2</td>\n",
       "      <td>3</td>\n",
       "      <td>13.3</td>\n",
       "      <td>6</td>\n",
       "      <td>4</td>\n",
       "      <td>Intel HD Graphics 520</td>\n",
       "      <td>1.2kg</td>\n",
       "      <td>0</td>\n",
       "      <td>128000</td>\n",
       "      <td>SSD</td>\n",
       "      <td>NaN</td>\n",
       "      <td>NaN</td>\n",
       "    </tr>\n",
       "    <tr>\n",
       "      <th>4</th>\n",
       "      <td>2</td>\n",
       "      <td>3</td>\n",
       "      <td>15.6</td>\n",
       "      <td>9</td>\n",
       "      <td>6</td>\n",
       "      <td>AMD Radeon 530</td>\n",
       "      <td>2.2kg</td>\n",
       "      <td>0</td>\n",
       "      <td>256000</td>\n",
       "      <td>SSD</td>\n",
       "      <td>NaN</td>\n",
       "      <td>NaN</td>\n",
       "    </tr>\n",
       "  </tbody>\n",
       "</table>\n",
       "</div>"
      ],
      "text/plain": [
       "   Manufacturer  Category  Screen Size  CPU  RAM                         GPU   \n",
       "0             2         3         15.6    7    6       Intel HD Graphics 620  \\\n",
       "1             2         6         17.3    8   16  Nvidia GeForce GTX 1050 Ti   \n",
       "2             2         2         15.6    7   12       Intel HD Graphics 620   \n",
       "3             2         3         13.3    6    4       Intel HD Graphics 520   \n",
       "4             2         3         15.6    9    6              AMD Radeon 530   \n",
       "\n",
       "   Weight Storage_type  Storage_size1 Storage_type1 Storage_size2   \n",
       "0  2.04kg            0        1000000           HDD           NaN  \\\n",
       "1  2.99kg  1000000 HDD         256000           SSD       1000000   \n",
       "2  2.19kg            0         512000           SSD           NaN   \n",
       "3   1.2kg            0         128000           SSD           NaN   \n",
       "4   2.2kg            0         256000           SSD           NaN   \n",
       "\n",
       "  Storage_type2  \n",
       "0           NaN  \n",
       "1           HDD  \n",
       "2           NaN  \n",
       "3           NaN  \n",
       "4           NaN  "
      ]
     },
     "execution_count": 64,
     "metadata": {},
     "output_type": "execute_result"
    }
   ],
   "source": [
    "pc.head()"
   ]
  },
  {
   "cell_type": "code",
   "execution_count": 65,
   "id": "d616c441",
   "metadata": {},
   "outputs": [],
   "source": [
    "pc['Storage_type2'] = pc['Storage_type2'].fillna(0)"
   ]
  },
  {
   "cell_type": "code",
   "execution_count": 66,
   "id": "81d7b5f5",
   "metadata": {},
   "outputs": [
    {
     "data": {
      "text/plain": [
       "array([0, 'HDD', 'Hybrid'], dtype=object)"
      ]
     },
     "execution_count": 66,
     "metadata": {},
     "output_type": "execute_result"
    }
   ],
   "source": [
    "pc['Storage_type2'].unique()"
   ]
  },
  {
   "cell_type": "code",
   "execution_count": 67,
   "id": "17b92e75",
   "metadata": {},
   "outputs": [
    {
     "data": {
      "text/plain": [
       "array([nan, '1000000', '500000'], dtype=object)"
      ]
     },
     "execution_count": 67,
     "metadata": {},
     "output_type": "execute_result"
    }
   ],
   "source": [
    "pc['Storage_size2'].unique()"
   ]
  },
  {
   "cell_type": "code",
   "execution_count": 68,
   "id": "12ddff39",
   "metadata": {},
   "outputs": [],
   "source": [
    "pc['Storage_size2'] = pc['Storage_size2'].fillna(0)"
   ]
  },
  {
   "cell_type": "code",
   "execution_count": 69,
   "id": "39f10779",
   "metadata": {},
   "outputs": [],
   "source": [
    "pc['Storage_size2'] = pc['Storage_size2'].astype(int)"
   ]
  },
  {
   "cell_type": "code",
   "execution_count": 70,
   "id": "85849326",
   "metadata": {},
   "outputs": [
    {
     "name": "stdout",
     "output_type": "stream",
     "text": [
      "<class 'pandas.core.frame.DataFrame'>\n",
      "RangeIndex: 325 entries, 0 to 324\n",
      "Data columns (total 12 columns):\n",
      " #   Column         Non-Null Count  Dtype  \n",
      "---  ------         --------------  -----  \n",
      " 0   Manufacturer   325 non-null    int64  \n",
      " 1   Category       325 non-null    int64  \n",
      " 2   Screen Size    325 non-null    float64\n",
      " 3   CPU            325 non-null    int32  \n",
      " 4   RAM            325 non-null    int32  \n",
      " 5   GPU            325 non-null    object \n",
      " 6   Weight         325 non-null    object \n",
      " 7   Storage_type   325 non-null    object \n",
      " 8   Storage_size1  325 non-null    int32  \n",
      " 9   Storage_type1  325 non-null    object \n",
      " 10  Storage_size2  325 non-null    int32  \n",
      " 11  Storage_type2  325 non-null    object \n",
      "dtypes: float64(1), int32(4), int64(2), object(5)\n",
      "memory usage: 25.5+ KB\n"
     ]
    }
   ],
   "source": [
    "pc.info()"
   ]
  },
  {
   "cell_type": "code",
   "execution_count": 71,
   "id": "ddd67f2c",
   "metadata": {},
   "outputs": [],
   "source": [
    "pc = pc.drop('Storage_type', axis=1)"
   ]
  },
  {
   "cell_type": "code",
   "execution_count": 72,
   "id": "961f3867",
   "metadata": {},
   "outputs": [
    {
     "name": "stdout",
     "output_type": "stream",
     "text": [
      "<class 'pandas.core.frame.DataFrame'>\n",
      "RangeIndex: 325 entries, 0 to 324\n",
      "Data columns (total 11 columns):\n",
      " #   Column         Non-Null Count  Dtype  \n",
      "---  ------         --------------  -----  \n",
      " 0   Manufacturer   325 non-null    int64  \n",
      " 1   Category       325 non-null    int64  \n",
      " 2   Screen Size    325 non-null    float64\n",
      " 3   CPU            325 non-null    int32  \n",
      " 4   RAM            325 non-null    int32  \n",
      " 5   GPU            325 non-null    object \n",
      " 6   Weight         325 non-null    object \n",
      " 7   Storage_size1  325 non-null    int32  \n",
      " 8   Storage_type1  325 non-null    object \n",
      " 9   Storage_size2  325 non-null    int32  \n",
      " 10  Storage_type2  325 non-null    object \n",
      "dtypes: float64(1), int32(4), int64(2), object(4)\n",
      "memory usage: 23.0+ KB\n"
     ]
    }
   ],
   "source": [
    "pc.info()"
   ]
  },
  {
   "cell_type": "code",
   "execution_count": 73,
   "id": "0df199db",
   "metadata": {},
   "outputs": [
    {
     "data": {
      "text/plain": [
       "array(['HDD', 'SSD', 'Hybrid', 'Flash '], dtype=object)"
      ]
     },
     "execution_count": 73,
     "metadata": {},
     "output_type": "execute_result"
    }
   ],
   "source": [
    "pc['Storage_type1'].unique()"
   ]
  },
  {
   "cell_type": "code",
   "execution_count": 74,
   "id": "34fa7c1e",
   "metadata": {},
   "outputs": [],
   "source": [
    "pc['Storage_type1'] = pc['Storage_type1'].str.strip()"
   ]
  },
  {
   "cell_type": "code",
   "execution_count": 75,
   "id": "dc7ced63",
   "metadata": {},
   "outputs": [
    {
     "data": {
      "text/plain": [
       "array(['HDD', 'SSD', 'Hybrid', 'Flash'], dtype=object)"
      ]
     },
     "execution_count": 75,
     "metadata": {},
     "output_type": "execute_result"
    }
   ],
   "source": [
    "pc['Storage_type1'].unique()"
   ]
  },
  {
   "cell_type": "code",
   "execution_count": 76,
   "id": "079f82ec",
   "metadata": {},
   "outputs": [],
   "source": [
    "pesos_discos = {\n",
    "    'SSD': 4,\n",
    "    'Hybrid': 3,\n",
    "    'Flash': 2,\n",
    "    'HDD': 1,\n",
    "    'None': 0\n",
    "}"
   ]
  },
  {
   "cell_type": "code",
   "execution_count": 77,
   "id": "40a33743",
   "metadata": {},
   "outputs": [],
   "source": [
    "pc['Storage_type1'] = pc['Storage_type1'].map(pesos_discos)"
   ]
  },
  {
   "cell_type": "code",
   "execution_count": 78,
   "id": "9b7cac83",
   "metadata": {},
   "outputs": [],
   "source": [
    "pc['Storage_type2'] = pc['Storage_type2'].map(pesos_discos)"
   ]
  },
  {
   "cell_type": "code",
   "execution_count": 79,
   "id": "8e46444d",
   "metadata": {},
   "outputs": [
    {
     "name": "stdout",
     "output_type": "stream",
     "text": [
      "<class 'pandas.core.frame.DataFrame'>\n",
      "RangeIndex: 325 entries, 0 to 324\n",
      "Data columns (total 11 columns):\n",
      " #   Column         Non-Null Count  Dtype  \n",
      "---  ------         --------------  -----  \n",
      " 0   Manufacturer   325 non-null    int64  \n",
      " 1   Category       325 non-null    int64  \n",
      " 2   Screen Size    325 non-null    float64\n",
      " 3   CPU            325 non-null    int32  \n",
      " 4   RAM            325 non-null    int32  \n",
      " 5   GPU            325 non-null    object \n",
      " 6   Weight         325 non-null    object \n",
      " 7   Storage_size1  325 non-null    int32  \n",
      " 8   Storage_type1  325 non-null    int64  \n",
      " 9   Storage_size2  325 non-null    int32  \n",
      " 10  Storage_type2  48 non-null     float64\n",
      "dtypes: float64(2), int32(4), int64(3), object(2)\n",
      "memory usage: 23.0+ KB\n"
     ]
    }
   ],
   "source": [
    "pc.info()"
   ]
  },
  {
   "cell_type": "code",
   "execution_count": 80,
   "id": "28026871",
   "metadata": {},
   "outputs": [
    {
     "data": {
      "text/plain": [
       "array([1, 4, 3, 2], dtype=int64)"
      ]
     },
     "execution_count": 80,
     "metadata": {},
     "output_type": "execute_result"
    }
   ],
   "source": [
    "pc['Storage_type1'].unique()"
   ]
  },
  {
   "cell_type": "code",
   "execution_count": 81,
   "id": "56ab679a",
   "metadata": {},
   "outputs": [
    {
     "data": {
      "text/plain": [
       "array([nan,  1.,  3.])"
      ]
     },
     "execution_count": 81,
     "metadata": {},
     "output_type": "execute_result"
    }
   ],
   "source": [
    "pc['Storage_type2'].unique()"
   ]
  },
  {
   "cell_type": "code",
   "execution_count": 82,
   "id": "5133d103",
   "metadata": {},
   "outputs": [],
   "source": [
    "pc['Storage_type2'] = pc['Storage_type2'].fillna(0)"
   ]
  },
  {
   "cell_type": "code",
   "execution_count": 83,
   "id": "69fad431",
   "metadata": {},
   "outputs": [
    {
     "data": {
      "text/plain": [
       "array([0., 1., 3.])"
      ]
     },
     "execution_count": 83,
     "metadata": {},
     "output_type": "execute_result"
    }
   ],
   "source": [
    "pc['Storage_type2'].unique()"
   ]
  },
  {
   "cell_type": "code",
   "execution_count": 84,
   "id": "7af71704",
   "metadata": {},
   "outputs": [],
   "source": [
    "pc['Storage_type2'] = pc['Storage_type2'].astype(int)"
   ]
  },
  {
   "cell_type": "code",
   "execution_count": 85,
   "id": "8707ac40",
   "metadata": {},
   "outputs": [
    {
     "data": {
      "text/plain": [
       "array([0, 1, 3])"
      ]
     },
     "execution_count": 85,
     "metadata": {},
     "output_type": "execute_result"
    }
   ],
   "source": [
    "pc['Storage_type2'].unique()"
   ]
  },
  {
   "cell_type": "code",
   "execution_count": 86,
   "id": "1606eb0e",
   "metadata": {},
   "outputs": [
    {
     "name": "stdout",
     "output_type": "stream",
     "text": [
      "<class 'pandas.core.frame.DataFrame'>\n",
      "RangeIndex: 325 entries, 0 to 324\n",
      "Data columns (total 11 columns):\n",
      " #   Column         Non-Null Count  Dtype  \n",
      "---  ------         --------------  -----  \n",
      " 0   Manufacturer   325 non-null    int64  \n",
      " 1   Category       325 non-null    int64  \n",
      " 2   Screen Size    325 non-null    float64\n",
      " 3   CPU            325 non-null    int32  \n",
      " 4   RAM            325 non-null    int32  \n",
      " 5   GPU            325 non-null    object \n",
      " 6   Weight         325 non-null    object \n",
      " 7   Storage_size1  325 non-null    int32  \n",
      " 8   Storage_type1  325 non-null    int64  \n",
      " 9   Storage_size2  325 non-null    int32  \n",
      " 10  Storage_type2  325 non-null    int32  \n",
      "dtypes: float64(1), int32(5), int64(3), object(2)\n",
      "memory usage: 21.7+ KB\n"
     ]
    }
   ],
   "source": [
    "pc.info()"
   ]
  },
  {
   "cell_type": "code",
   "execution_count": 87,
   "id": "9d906206",
   "metadata": {},
   "outputs": [
    {
     "data": {
      "text/html": [
       "<div>\n",
       "<style scoped>\n",
       "    .dataframe tbody tr th:only-of-type {\n",
       "        vertical-align: middle;\n",
       "    }\n",
       "\n",
       "    .dataframe tbody tr th {\n",
       "        vertical-align: top;\n",
       "    }\n",
       "\n",
       "    .dataframe thead th {\n",
       "        text-align: right;\n",
       "    }\n",
       "</style>\n",
       "<table border=\"1\" class=\"dataframe\">\n",
       "  <thead>\n",
       "    <tr style=\"text-align: right;\">\n",
       "      <th></th>\n",
       "      <th>Manufacturer</th>\n",
       "      <th>Category</th>\n",
       "      <th>Screen Size</th>\n",
       "      <th>CPU</th>\n",
       "      <th>RAM</th>\n",
       "      <th>GPU</th>\n",
       "      <th>Weight</th>\n",
       "      <th>Storage_size1</th>\n",
       "      <th>Storage_type1</th>\n",
       "      <th>Storage_size2</th>\n",
       "      <th>Storage_type2</th>\n",
       "    </tr>\n",
       "  </thead>\n",
       "  <tbody>\n",
       "    <tr>\n",
       "      <th>0</th>\n",
       "      <td>2</td>\n",
       "      <td>3</td>\n",
       "      <td>15.6</td>\n",
       "      <td>7</td>\n",
       "      <td>6</td>\n",
       "      <td>Intel HD Graphics 620</td>\n",
       "      <td>2.04kg</td>\n",
       "      <td>1000000</td>\n",
       "      <td>1</td>\n",
       "      <td>0</td>\n",
       "      <td>0</td>\n",
       "    </tr>\n",
       "    <tr>\n",
       "      <th>1</th>\n",
       "      <td>2</td>\n",
       "      <td>6</td>\n",
       "      <td>17.3</td>\n",
       "      <td>8</td>\n",
       "      <td>16</td>\n",
       "      <td>Nvidia GeForce GTX 1050 Ti</td>\n",
       "      <td>2.99kg</td>\n",
       "      <td>256000</td>\n",
       "      <td>4</td>\n",
       "      <td>1000000</td>\n",
       "      <td>1</td>\n",
       "    </tr>\n",
       "    <tr>\n",
       "      <th>2</th>\n",
       "      <td>2</td>\n",
       "      <td>2</td>\n",
       "      <td>15.6</td>\n",
       "      <td>7</td>\n",
       "      <td>12</td>\n",
       "      <td>Intel HD Graphics 620</td>\n",
       "      <td>2.19kg</td>\n",
       "      <td>512000</td>\n",
       "      <td>4</td>\n",
       "      <td>0</td>\n",
       "      <td>0</td>\n",
       "    </tr>\n",
       "    <tr>\n",
       "      <th>3</th>\n",
       "      <td>2</td>\n",
       "      <td>3</td>\n",
       "      <td>13.3</td>\n",
       "      <td>6</td>\n",
       "      <td>4</td>\n",
       "      <td>Intel HD Graphics 520</td>\n",
       "      <td>1.2kg</td>\n",
       "      <td>128000</td>\n",
       "      <td>4</td>\n",
       "      <td>0</td>\n",
       "      <td>0</td>\n",
       "    </tr>\n",
       "    <tr>\n",
       "      <th>4</th>\n",
       "      <td>2</td>\n",
       "      <td>3</td>\n",
       "      <td>15.6</td>\n",
       "      <td>9</td>\n",
       "      <td>6</td>\n",
       "      <td>AMD Radeon 530</td>\n",
       "      <td>2.2kg</td>\n",
       "      <td>256000</td>\n",
       "      <td>4</td>\n",
       "      <td>0</td>\n",
       "      <td>0</td>\n",
       "    </tr>\n",
       "  </tbody>\n",
       "</table>\n",
       "</div>"
      ],
      "text/plain": [
       "   Manufacturer  Category  Screen Size  CPU  RAM                         GPU   \n",
       "0             2         3         15.6    7    6       Intel HD Graphics 620  \\\n",
       "1             2         6         17.3    8   16  Nvidia GeForce GTX 1050 Ti   \n",
       "2             2         2         15.6    7   12       Intel HD Graphics 620   \n",
       "3             2         3         13.3    6    4       Intel HD Graphics 520   \n",
       "4             2         3         15.6    9    6              AMD Radeon 530   \n",
       "\n",
       "   Weight  Storage_size1  Storage_type1  Storage_size2  Storage_type2  \n",
       "0  2.04kg        1000000              1              0              0  \n",
       "1  2.99kg         256000              4        1000000              1  \n",
       "2  2.19kg         512000              4              0              0  \n",
       "3   1.2kg         128000              4              0              0  \n",
       "4   2.2kg         256000              4              0              0  "
      ]
     },
     "execution_count": 87,
     "metadata": {},
     "output_type": "execute_result"
    }
   ],
   "source": [
    "pc.head()"
   ]
  },
  {
   "cell_type": "code",
   "execution_count": 88,
   "id": "b75f033e",
   "metadata": {},
   "outputs": [
    {
     "data": {
      "text/plain": [
       "array(['2.04kg', '2.99kg', '2.19kg', '1.2kg', '2.2kg', '2.3kg', '1.75kg',\n",
       "       '2.25kg', '2.5kg', '2.36kg', '1.6kg', '0.97kg', '2.1kg', '1.9kg',\n",
       "       '1.68kg', '1.4kg', '1.11kg', '2.4kg', '1.48kg', '2.7kg', '1.34kg',\n",
       "       '2.18kg', '1.64kg', '1.95kg', '1.43kg', '2.65kg', '1.26kg',\n",
       "       '1.54kg', '1.49kg', '1.5kg', '1.47kg', '2.08kg', '2.09kg',\n",
       "       '2.31kg', '1.29kg', '2.63kg', '1.84kg', '1.8kg', '1.45kg',\n",
       "       '3.78kg', '4.6kg', '1.1kg', '1.91kg', '1.96kg', '2.94kg', '4kgs',\n",
       "       '2.32kg', '3.58kg', '1.62kg', '3.21kg', '0.920kg', '2.06kg',\n",
       "       '1.3kg', '3.0kg', '0.99kg', '0.69kg', '1.7kg', '1.86kg', '2.6kg',\n",
       "       '4.3kg', '2.20kg', '2.9kg', '2.59kg', '1.16kg', '2.24kg', '1.23kg',\n",
       "       '1.25kg', '1.05kg', '3.52kg', '1.35kg', '2kg', '3.35kg', '2.23kg',\n",
       "       '3kg', '1.88kg', '2.8kg', '2.0kg', '1.27kg', '2.62kg', '1.44kg',\n",
       "       '3.31kg', '2.07kg', '1.36kg', '1.98kg', '2.591kg', '4.2kg',\n",
       "       '1.15kg', '2.21kg', '2.43kg', '3.3kg', '2.191kg', '1.08kg',\n",
       "       '2.77kg', '2.34kg', '1.24kg', '4.0kg', '2.29kg', '1.17kg'],\n",
       "      dtype=object)"
      ]
     },
     "execution_count": 88,
     "metadata": {},
     "output_type": "execute_result"
    }
   ],
   "source": [
    "pc['Weight'].unique()"
   ]
  },
  {
   "cell_type": "code",
   "execution_count": 89,
   "id": "db71a11e",
   "metadata": {},
   "outputs": [],
   "source": [
    "pc['Weight'] = pc['Weight'].str.strip()"
   ]
  },
  {
   "cell_type": "code",
   "execution_count": 90,
   "id": "0b171158",
   "metadata": {},
   "outputs": [],
   "source": [
    "pc['Weight'] = pc['Weight'].str.replace('kg', '')"
   ]
  },
  {
   "cell_type": "code",
   "execution_count": 91,
   "id": "d7028920",
   "metadata": {},
   "outputs": [
    {
     "data": {
      "text/plain": [
       "array(['2.04', '2.99', '2.19', '1.2', '2.2', '2.3', '1.75', '2.25', '2.5',\n",
       "       '2.36', '1.6', '0.97', '2.1', '1.9', '1.68', '1.4', '1.11', '2.4',\n",
       "       '1.48', '2.7', '1.34', '2.18', '1.64', '1.95', '1.43', '2.65',\n",
       "       '1.26', '1.54', '1.49', '1.5', '1.47', '2.08', '2.09', '2.31',\n",
       "       '1.29', '2.63', '1.84', '1.8', '1.45', '3.78', '4.6', '1.1',\n",
       "       '1.91', '1.96', '2.94', '4s', '2.32', '3.58', '1.62', '3.21',\n",
       "       '0.920', '2.06', '1.3', '3.0', '0.99', '0.69', '1.7', '1.86',\n",
       "       '2.6', '4.3', '2.20', '2.9', '2.59', '1.16', '2.24', '1.23',\n",
       "       '1.25', '1.05', '3.52', '1.35', '2', '3.35', '2.23', '3', '1.88',\n",
       "       '2.8', '2.0', '1.27', '2.62', '1.44', '3.31', '2.07', '1.36',\n",
       "       '1.98', '2.591', '4.2', '1.15', '2.21', '2.43', '3.3', '2.191',\n",
       "       '1.08', '2.77', '2.34', '1.24', '4.0', '2.29', '1.17'],\n",
       "      dtype=object)"
      ]
     },
     "execution_count": 91,
     "metadata": {},
     "output_type": "execute_result"
    }
   ],
   "source": [
    "pc['Weight'].unique()"
   ]
  },
  {
   "cell_type": "code",
   "execution_count": 93,
   "id": "1dd8820f",
   "metadata": {},
   "outputs": [],
   "source": [
    "pc['Weight'] = pc['Weight'].str.replace('4s', '4.5')"
   ]
  },
  {
   "cell_type": "code",
   "execution_count": 94,
   "id": "5be05926",
   "metadata": {},
   "outputs": [],
   "source": [
    "pc['Weight'] = pc['Weight'].astype(float)"
   ]
  },
  {
   "cell_type": "code",
   "execution_count": 95,
   "id": "d0681ede",
   "metadata": {},
   "outputs": [
    {
     "name": "stdout",
     "output_type": "stream",
     "text": [
      "<class 'pandas.core.frame.DataFrame'>\n",
      "RangeIndex: 325 entries, 0 to 324\n",
      "Data columns (total 11 columns):\n",
      " #   Column         Non-Null Count  Dtype  \n",
      "---  ------         --------------  -----  \n",
      " 0   Manufacturer   325 non-null    int64  \n",
      " 1   Category       325 non-null    int64  \n",
      " 2   Screen Size    325 non-null    float64\n",
      " 3   CPU            325 non-null    int32  \n",
      " 4   RAM            325 non-null    int32  \n",
      " 5   GPU            325 non-null    object \n",
      " 6   Weight         325 non-null    float64\n",
      " 7   Storage_size1  325 non-null    int32  \n",
      " 8   Storage_type1  325 non-null    int64  \n",
      " 9   Storage_size2  325 non-null    int32  \n",
      " 10  Storage_type2  325 non-null    int32  \n",
      "dtypes: float64(2), int32(5), int64(3), object(1)\n",
      "memory usage: 21.7+ KB\n"
     ]
    }
   ],
   "source": [
    "pc.info()"
   ]
  },
  {
   "cell_type": "code",
   "execution_count": 96,
   "id": "994e9290",
   "metadata": {},
   "outputs": [
    {
     "data": {
      "text/plain": [
       "array(['Intel HD Graphics 620', 'Nvidia GeForce GTX 1050 Ti',\n",
       "       'Intel HD Graphics 520', 'AMD Radeon 530', 'AMD Radeon R5 M430',\n",
       "       'Nvidia GeForce GTX 1060', 'AMD Radeon R7 M445',\n",
       "       'Intel HD Graphics 620 ', 'Intel HD Graphics 515',\n",
       "       'AMD Radeon 520', 'Intel HD Graphics 500', 'Intel HD Graphics 505',\n",
       "       'Nvidia GeForce GTX 1050', 'Nvidia GeForce 930MX',\n",
       "       'Nvidia Quadro 3000M', 'AMD Radeon R5', 'Intel HD Graphics 400',\n",
       "       'Nvidia GeForce 930M', 'Nvidia GeForce GTX 980M',\n",
       "       'Nvidia GeForce 940MX', 'Nvidia GeForce GTX 965M',\n",
       "       'Intel HD Graphics', 'Nvidia GeForce GTX 980 ',\n",
       "       'Nvidia GeForce GTX 970M', 'AMD Radeon R5 M330',\n",
       "       'Nvidia GeForce GTX 950M', 'Nvidia GeForce GTX 1070',\n",
       "       'AMD FirePro W4190M', 'Intel HD Graphics 405',\n",
       "       'AMD FirePro W6150M', 'Nvidia GeForce GTX 960M', 'AMD Radeon R4',\n",
       "       'AMD Radeon R5 M315', 'Intel Iris Plus Graphics 640',\n",
       "       'Nvidia Quadro M500M', 'AMD Radeon R7 M360',\n",
       "       'Nvidia Quadro M3000M', 'Nvidia Quadro M1000M',\n",
       "       'AMD Radeon R2 Graphics', 'Nvidia GeForce GTX 1050Ti',\n",
       "       'Nvidia GeForce 960M', 'Nvidia GeForce 920MX ',\n",
       "       'Intel UHD Graphics 620', 'Nvidia GeForce GTX 960',\n",
       "       'Nvidia GeForce 920M', 'Nvidia GeForce GT 940MX',\n",
       "       'ARM Mali T860 MP4', 'Intel HD Graphics 5300',\n",
       "       'AMD Radeon R7 M440', 'Nvidia GeForce 920MX',\n",
       "       'Nvidia GeForce GTX 960<U+039C>', 'Intel HD Graphics 615',\n",
       "       'Intel HD Graphics 6000', 'AMD Radeon R4 Graphics'], dtype=object)"
      ]
     },
     "execution_count": 96,
     "metadata": {},
     "output_type": "execute_result"
    }
   ],
   "source": [
    "pc['GPU'].unique()"
   ]
  },
  {
   "cell_type": "code",
   "execution_count": 97,
   "id": "07953082",
   "metadata": {},
   "outputs": [],
   "source": [
    "pesos_grafica = {\n",
    "    'Intel HD Graphics 6000': 3,\n",
    "    'Intel HD Graphics 620': 3,\n",
    "    'AMD Radeon Pro 455': 4,\n",
    "    'Intel Iris Plus Graphics 650': 4,\n",
    "    'AMD Radeon R5': 3,\n",
    "    'Intel Iris Pro Graphics': 4,\n",
    "    'Nvidia GeForce MX150': 4,\n",
    "    'Intel UHD Graphics 620': 3,\n",
    "    'Intel HD Graphics 520': 3,\n",
    "    'AMD Radeon Pro 555': 4,\n",
    "    'AMD Radeon R5 M430': 3,\n",
    "    'Intel HD Graphics 615': 3,\n",
    "    'AMD Radeon Pro 560': 4,\n",
    "    'Nvidia GeForce 940MX': 3,\n",
    "    'Intel HD Graphics 400': 2,\n",
    "    'Nvidia GeForce GTX 1050': 4,\n",
    "    'AMD Radeon R2': 2,\n",
    "    'AMD Radeon 530': 3,\n",
    "    'Nvidia GeForce 930MX': 3,\n",
    "    'Intel HD Graphics': 2,\n",
    "    'Intel HD Graphics 500': 3,\n",
    "    'Nvidia GeForce 930MX ': 3,\n",
    "    'Nvidia GeForce GTX 1060': 5,\n",
    "    'Nvidia GeForce 150MX': 3,\n",
    "    'Intel Iris Graphics 540': 4,\n",
    "    'AMD Radeon RX 580': 5,\n",
    "    'Nvidia GeForce 920MX': 3,\n",
    "    'AMD Radeon R4 Graphics': 2,\n",
    "    'AMD Radeon 520': 3,\n",
    "    'Nvidia GeForce GTX 1070': 5,\n",
    "    'Nvidia GeForce GTX 1050 Ti': 4,\n",
    "    'Nvidia GeForce MX130': 3,\n",
    "    'AMD R4 Graphics': 2,\n",
    "    'Nvidia GeForce GTX 940MX': 3,\n",
    "    'AMD Radeon RX 560': 4,\n",
    "    'Nvidia GeForce 920M': 2,\n",
    "    'AMD Radeon R7 M445': 3,\n",
    "    'AMD Radeon RX 550': 4,\n",
    "    'Nvidia GeForce GTX 1050M': 4,\n",
    "    'Intel HD Graphics 515': 3,\n",
    "    'AMD Radeon R5 M420': 3,\n",
    "    'Intel HD Graphics 505': 3,\n",
    "    'Nvidia GTX 980 SLI': 5,\n",
    "    'AMD R17M-M1-70': 4,\n",
    "    'Nvidia GeForce GTX 1080': 5,\n",
    "    'Nvidia Quadro M1200': 4,\n",
    "    'Nvidia GeForce 920MX ': 2,\n",
    "    'Nvidia GeForce GTX 950M': 4,\n",
    "    'AMD FirePro W4190M ': 3,\n",
    "    'Nvidia GeForce GTX 980M': 5,\n",
    "    'Intel Iris Graphics 550': 4,\n",
    "    'Nvidia GeForce 930M': 3,\n",
    "    'Intel HD Graphics 630': 3,\n",
    "    'AMD Radeon R5 430': 3,\n",
    "    'Nvidia GeForce GTX 940M': 4,\n",
    "    'Intel HD Graphics 510': 3,\n",
    "    'Intel HD Graphics 405': 2,\n",
    "    'AMD Radeon RX 540': 4,\n",
    "    'Nvidia GeForce GT 940MX': 3,\n",
    "    'AMD FirePro W5130M': 3,\n",
    "    'Nvidia Quadro M2200M': 4,\n",
    "    'AMD Radeon R4': 2,\n",
    "    'Nvidia Quadro M620': 4,\n",
    "    'AMD Radeon R7 M460': 3,\n",
    "    'Intel HD Graphics 530': 4,\n",
    "    'Nvidia GeForce GTX 965M': 4,\n",
    "    'Nvidia GeForce GTX1080': 5,\n",
    "    'Nvidia GeForce GTX1050 Ti': 4,\n",
    "    'Nvidia GeForce GTX 960M': 4,\n",
    "    'AMD Radeon R2 Graphics': 2,\n",
    "    'Nvidia Quadro M620M': 4,\n",
    "    'Nvidia GeForce GTX 970M': 4,\n",
    "    'Nvidia GeForce GTX 960<U+039C>': 4,\n",
    "    'Intel Graphics 620': 3,\n",
    "    'Nvidia GeForce GTX 960': 4,\n",
    "    'AMD Radeon R5 520': 3,\n",
    "    'AMD Radeon R7 M440': 3,\n",
    "    'AMD Radeon R7': 3,\n",
    "    'Nvidia Quadro M520M': 4,\n",
    "    'Nvidia Quadro M2200': 4,\n",
    "    'Nvidia Quadro M2000M': 4,\n",
    "    'Intel HD Graphics 540': 3,\n",
    "    'Nvidia Quadro M1000M': 4,\n",
    "    'AMD Radeon 540': 3,\n",
    "    'Nvidia GeForce GTX 1070M': 5,\n",
    "    'Nvidia GeForce GTX1060': 5,\n",
    "    'Intel HD Graphics 5300': 2,\n",
    "    'AMD Radeon R5 M420X': 3,\n",
    "    'AMD Radeon R7 Graphics': 3,\n",
    "    'Nvidia GeForce 920': 2,\n",
    "    'Nvidia GeForce 940M': 3,\n",
    "    'Nvidia GeForce GTX 930MX': 3,\n",
    "    'AMD Radeon R7 M465': 3,\n",
    "    'AMD Radeon R3': 2,\n",
    "    'Nvidia GeForce GTX 1050Ti': 4,\n",
    "    'AMD Radeon R7 M365X': 3,\n",
    "    'AMD Radeon R9 M385': 4\n",
    "}"
   ]
  },
  {
   "cell_type": "code",
   "execution_count": 98,
   "id": "6839b717",
   "metadata": {},
   "outputs": [],
   "source": [
    "pc['GPU'] = pc['GPU'].str.strip()"
   ]
  },
  {
   "cell_type": "code",
   "execution_count": 99,
   "id": "1fe81074",
   "metadata": {},
   "outputs": [],
   "source": [
    "pc['GPU'] = pc['GPU'].map(pesos_grafica)"
   ]
  },
  {
   "cell_type": "code",
   "execution_count": 100,
   "id": "6c9eb8ef",
   "metadata": {},
   "outputs": [
    {
     "data": {
      "text/plain": [
       "array([ 3.,  4.,  5., nan,  2.])"
      ]
     },
     "execution_count": 100,
     "metadata": {},
     "output_type": "execute_result"
    }
   ],
   "source": [
    "pc['GPU'].unique()"
   ]
  },
  {
   "cell_type": "code",
   "execution_count": 101,
   "id": "b5ba00a7",
   "metadata": {},
   "outputs": [
    {
     "name": "stdout",
     "output_type": "stream",
     "text": [
      "<class 'pandas.core.frame.DataFrame'>\n",
      "RangeIndex: 325 entries, 0 to 324\n",
      "Data columns (total 11 columns):\n",
      " #   Column         Non-Null Count  Dtype  \n",
      "---  ------         --------------  -----  \n",
      " 0   Manufacturer   325 non-null    int64  \n",
      " 1   Category       325 non-null    int64  \n",
      " 2   Screen Size    325 non-null    float64\n",
      " 3   CPU            325 non-null    int32  \n",
      " 4   RAM            325 non-null    int32  \n",
      " 5   GPU            307 non-null    float64\n",
      " 6   Weight         325 non-null    float64\n",
      " 7   Storage_size1  325 non-null    int32  \n",
      " 8   Storage_type1  325 non-null    int64  \n",
      " 9   Storage_size2  325 non-null    int32  \n",
      " 10  Storage_type2  325 non-null    int32  \n",
      "dtypes: float64(3), int32(5), int64(3)\n",
      "memory usage: 21.7 KB\n"
     ]
    }
   ],
   "source": [
    "pc.info()"
   ]
  },
  {
   "cell_type": "code",
   "execution_count": 102,
   "id": "bae541f0",
   "metadata": {},
   "outputs": [],
   "source": [
    "pc['GPU'] = pc['GPU'].fillna(0)"
   ]
  },
  {
   "cell_type": "code",
   "execution_count": 103,
   "id": "289a743c",
   "metadata": {},
   "outputs": [
    {
     "name": "stdout",
     "output_type": "stream",
     "text": [
      "<class 'pandas.core.frame.DataFrame'>\n",
      "RangeIndex: 325 entries, 0 to 324\n",
      "Data columns (total 11 columns):\n",
      " #   Column         Non-Null Count  Dtype  \n",
      "---  ------         --------------  -----  \n",
      " 0   Manufacturer   325 non-null    int64  \n",
      " 1   Category       325 non-null    int64  \n",
      " 2   Screen Size    325 non-null    float64\n",
      " 3   CPU            325 non-null    int32  \n",
      " 4   RAM            325 non-null    int32  \n",
      " 5   GPU            325 non-null    float64\n",
      " 6   Weight         325 non-null    float64\n",
      " 7   Storage_size1  325 non-null    int32  \n",
      " 8   Storage_type1  325 non-null    int64  \n",
      " 9   Storage_size2  325 non-null    int32  \n",
      " 10  Storage_type2  325 non-null    int32  \n",
      "dtypes: float64(3), int32(5), int64(3)\n",
      "memory usage: 21.7 KB\n"
     ]
    }
   ],
   "source": [
    "pc.info()"
   ]
  },
  {
   "cell_type": "code",
   "execution_count": 104,
   "id": "cff356aa",
   "metadata": {},
   "outputs": [],
   "source": [
    "pc['GPU'] = pc['GPU'].astype(int)"
   ]
  },
  {
   "cell_type": "code",
   "execution_count": 105,
   "id": "2926c2f6",
   "metadata": {},
   "outputs": [
    {
     "name": "stdout",
     "output_type": "stream",
     "text": [
      "<class 'pandas.core.frame.DataFrame'>\n",
      "RangeIndex: 325 entries, 0 to 324\n",
      "Data columns (total 11 columns):\n",
      " #   Column         Non-Null Count  Dtype  \n",
      "---  ------         --------------  -----  \n",
      " 0   Manufacturer   325 non-null    int64  \n",
      " 1   Category       325 non-null    int64  \n",
      " 2   Screen Size    325 non-null    float64\n",
      " 3   CPU            325 non-null    int32  \n",
      " 4   RAM            325 non-null    int32  \n",
      " 5   GPU            325 non-null    int32  \n",
      " 6   Weight         325 non-null    float64\n",
      " 7   Storage_size1  325 non-null    int32  \n",
      " 8   Storage_type1  325 non-null    int64  \n",
      " 9   Storage_size2  325 non-null    int32  \n",
      " 10  Storage_type2  325 non-null    int32  \n",
      "dtypes: float64(2), int32(6), int64(3)\n",
      "memory usage: 20.4 KB\n"
     ]
    }
   ],
   "source": [
    "pc.info()"
   ]
  },
  {
   "cell_type": "code",
   "execution_count": 106,
   "id": "ad6f302f",
   "metadata": {},
   "outputs": [],
   "source": [
    "pc.to_csv('pc_test.csv', index=False)"
   ]
  }
 ],
 "metadata": {
  "kernelspec": {
   "display_name": "Python 3 (ipykernel)",
   "language": "python",
   "name": "python3"
  },
  "language_info": {
   "codemirror_mode": {
    "name": "ipython",
    "version": 3
   },
   "file_extension": ".py",
   "mimetype": "text/x-python",
   "name": "python",
   "nbconvert_exporter": "python",
   "pygments_lexer": "ipython3",
   "version": "3.11.1"
  }
 },
 "nbformat": 4,
 "nbformat_minor": 5
}
